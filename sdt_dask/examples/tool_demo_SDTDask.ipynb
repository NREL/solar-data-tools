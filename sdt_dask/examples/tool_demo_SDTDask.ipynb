{
 "cells": [
  {
   "cell_type": "code",
   "execution_count": 4,
   "id": "f3989f27-e6d3-4640-a00f-608c1a24a03e",
   "metadata": {
    "ExecuteTime": {
     "end_time": "2024-03-22T01:20:38.094923Z",
     "start_time": "2024-03-22T01:20:38.073267Z"
    }
   },
   "outputs": [
    {
     "name": "stdout",
     "output_type": "stream",
     "text": [
      "The autoreload extension is already loaded. To reload it, use:\n",
      "  %reload_ext autoreload\n"
     ]
    }
   ],
   "source": [
    "%load_ext autoreload\n",
    "%autoreload 2"
   ]
  },
  {
   "cell_type": "code",
   "execution_count": 5,
   "id": "f03a3d5b-b3d7-4b35-b031-4d6a35936e6f",
   "metadata": {
    "ExecuteTime": {
     "end_time": "2024-03-22T01:20:42.868611Z",
     "start_time": "2024-03-22T01:20:39.999653Z"
    }
   },
   "outputs": [],
   "source": [
    "import glob, os\n",
    "\n",
    "from sdt_dask.dask_tool.sdt_dask import SDTDask"
   ]
  },
  {
   "cell_type": "code",
   "execution_count": 6,
   "id": "b22a24df-30d2-4121-ada5-e107ee0288c9",
   "metadata": {
    "ExecuteTime": {
     "end_time": "2024-03-22T01:24:56.868701Z",
     "start_time": "2024-03-22T01:24:56.819947Z"
    }
   },
   "outputs": [
    {
     "data": {
      "text/plain": [
       "\u001b[0;31mInit signature:\u001b[0m \u001b[0mSDTDask\u001b[0m\u001b[0;34m(\u001b[0m\u001b[0mdata_plug\u001b[0m\u001b[0;34m,\u001b[0m \u001b[0mclient\u001b[0m\u001b[0;34m)\u001b[0m\u001b[0;34m\u001b[0m\u001b[0;34m\u001b[0m\u001b[0m\n",
       "\u001b[0;31mDocstring:\u001b[0m      <no docstring>\n",
       "\u001b[0;31mFile:\u001b[0m           /mnt/c/Users/22720/OneDrive/Documents/solar-data-tools/sdt_dask/dask_tool/sdt_dask.py\n",
       "\u001b[0;31mType:\u001b[0m           type\n",
       "\u001b[0;31mSubclasses:\u001b[0m     "
      ]
     },
     "metadata": {},
     "output_type": "display_data"
    }
   ],
   "source": [
    "SDTDask?"
   ]
  },
  {
   "cell_type": "markdown",
   "id": "12773784-0848-440a-9dfe-500547eb938d",
   "metadata": {},
   "source": [
    "## Local Client example \n",
    " use local csv dataplug and local client"
   ]
  },
  {
   "cell_type": "markdown",
   "id": "5c7826b2-6fce-4e57-99cf-b99c81d847e2",
   "metadata": {},
   "source": [
    "### Instantiate a localfile data plug"
   ]
  },
  {
   "cell_type": "code",
   "execution_count": 7,
   "id": "a8d25936-9afe-4f69-a710-c02c9cd4b476",
   "metadata": {},
   "outputs": [],
   "source": [
    "from sdt_dask.dataplugs.csv_plug import LocalFiles"
   ]
  },
  {
   "cell_type": "code",
   "execution_count": 8,
   "id": "e47da4b0-82d7-488b-8657-0257fafbcbfb",
   "metadata": {},
   "outputs": [
    {
     "data": {
      "text/plain": [
       "\u001b[0;31mInit signature:\u001b[0m \u001b[0mLocalFiles\u001b[0m\u001b[0;34m(\u001b[0m\u001b[0mpath_to_files\u001b[0m\u001b[0;34m,\u001b[0m \u001b[0mext\u001b[0m\u001b[0;34m=\u001b[0m\u001b[0;34m'.csv'\u001b[0m\u001b[0;34m)\u001b[0m\u001b[0;34m\u001b[0m\u001b[0;34m\u001b[0m\u001b[0m\n",
       "\u001b[0;31mDocstring:\u001b[0m     \n",
       "Dataplug class for retrieving data from some source. It's recommended\n",
       "that user-created dataplug inherit from this class to ensure compatibility.\n",
       "\n",
       "The initialization argument for each class will be different depending on\n",
       "the source. The main requirement is to keep the ``Dataplug.get_data`` method,\n",
       "and make sure the args and returns as defined here.\n",
       "\u001b[0;31mFile:\u001b[0m           /mnt/c/Users/22720/OneDrive/Documents/solar-data-tools/sdt_dask/dataplugs/csv_plug.py\n",
       "\u001b[0;31mType:\u001b[0m           type\n",
       "\u001b[0;31mSubclasses:\u001b[0m     "
      ]
     },
     "metadata": {},
     "output_type": "display_data"
    }
   ],
   "source": [
    "LocalFiles?"
   ]
  },
  {
   "cell_type": "code",
   "execution_count": 9,
   "id": "29f50626-c112-4dde-a227-6547af0e3c44",
   "metadata": {},
   "outputs": [
    {
     "data": {
      "text/plain": [
       "[('TAAI01129193',), ('TABC01142170',), ('TABD01110568',)]"
      ]
     },
     "execution_count": 9,
     "metadata": {},
     "output_type": "execute_result"
    }
   ],
   "source": [
    "path = \"../dataplugs/example_data/\"\n",
    "local_file_data_plug = LocalFiles(path_to_files=path)\n",
    "local_file_keys = [(os.path.basename(fname)[:-4],) for fname in glob.glob(path + \"*\")]\n",
    "local_file_keys"
   ]
  },
  {
   "cell_type": "code",
   "execution_count": 10,
   "id": "60ee51ff-293e-4480-a0c1-d596ba2111e4",
   "metadata": {
    "scrolled": true
   },
   "outputs": [
    {
     "name": "stdout",
     "output_type": "stream",
     "text": [
      "Loading file TABC01142170...\n"
     ]
    },
    {
     "data": {
      "text/html": [
       "<div>\n",
       "<style scoped>\n",
       "    .dataframe tbody tr th:only-of-type {\n",
       "        vertical-align: middle;\n",
       "    }\n",
       "\n",
       "    .dataframe tbody tr th {\n",
       "        vertical-align: top;\n",
       "    }\n",
       "\n",
       "    .dataframe thead th {\n",
       "        text-align: right;\n",
       "    }\n",
       "</style>\n",
       "<table border=\"1\" class=\"dataframe\">\n",
       "  <thead>\n",
       "    <tr style=\"text-align: right;\">\n",
       "      <th></th>\n",
       "      <th>ac_power_01</th>\n",
       "      <th>ac_power_02</th>\n",
       "      <th>ac_power_03</th>\n",
       "    </tr>\n",
       "    <tr>\n",
       "      <th>ts</th>\n",
       "      <th></th>\n",
       "      <th></th>\n",
       "      <th></th>\n",
       "    </tr>\n",
       "  </thead>\n",
       "  <tbody>\n",
       "    <tr>\n",
       "      <th>2013-12-31 16:00:00</th>\n",
       "      <td>0.0767</td>\n",
       "      <td>0.0928</td>\n",
       "      <td>0.0928</td>\n",
       "    </tr>\n",
       "    <tr>\n",
       "      <th>2013-12-31 16:05:00</th>\n",
       "      <td>0.0695</td>\n",
       "      <td>0.0862</td>\n",
       "      <td>0.0819</td>\n",
       "    </tr>\n",
       "    <tr>\n",
       "      <th>2013-12-31 16:10:00</th>\n",
       "      <td>0.0626</td>\n",
       "      <td>0.0726</td>\n",
       "      <td>0.0653</td>\n",
       "    </tr>\n",
       "    <tr>\n",
       "      <th>2013-12-31 16:15:00</th>\n",
       "      <td>0.0546</td>\n",
       "      <td>0.0639</td>\n",
       "      <td>0.0613</td>\n",
       "    </tr>\n",
       "    <tr>\n",
       "      <th>2013-12-31 16:20:00</th>\n",
       "      <td>0.0418</td>\n",
       "      <td>0.0530</td>\n",
       "      <td>0.0516</td>\n",
       "    </tr>\n",
       "    <tr>\n",
       "      <th>...</th>\n",
       "      <td>...</td>\n",
       "      <td>...</td>\n",
       "      <td>...</td>\n",
       "    </tr>\n",
       "    <tr>\n",
       "      <th>2019-06-20 15:30:00</th>\n",
       "      <td>0.5872</td>\n",
       "      <td>0.5950</td>\n",
       "      <td>0.2445</td>\n",
       "    </tr>\n",
       "    <tr>\n",
       "      <th>2019-06-20 15:35:00</th>\n",
       "      <td>0.6454</td>\n",
       "      <td>0.6506</td>\n",
       "      <td>0.2748</td>\n",
       "    </tr>\n",
       "    <tr>\n",
       "      <th>2019-06-20 15:40:00</th>\n",
       "      <td>0.6220</td>\n",
       "      <td>0.6313</td>\n",
       "      <td>0.2645</td>\n",
       "    </tr>\n",
       "    <tr>\n",
       "      <th>2019-06-20 15:45:00</th>\n",
       "      <td>0.5259</td>\n",
       "      <td>0.5338</td>\n",
       "      <td>0.2238</td>\n",
       "    </tr>\n",
       "    <tr>\n",
       "      <th>2019-06-20 15:50:00</th>\n",
       "      <td>0.4655</td>\n",
       "      <td>0.4745</td>\n",
       "      <td>0.2001</td>\n",
       "    </tr>\n",
       "  </tbody>\n",
       "</table>\n",
       "<p>290184 rows × 3 columns</p>\n",
       "</div>"
      ],
      "text/plain": [
       "                     ac_power_01  ac_power_02  ac_power_03\n",
       "ts                                                        \n",
       "2013-12-31 16:00:00       0.0767       0.0928       0.0928\n",
       "2013-12-31 16:05:00       0.0695       0.0862       0.0819\n",
       "2013-12-31 16:10:00       0.0626       0.0726       0.0653\n",
       "2013-12-31 16:15:00       0.0546       0.0639       0.0613\n",
       "2013-12-31 16:20:00       0.0418       0.0530       0.0516\n",
       "...                          ...          ...          ...\n",
       "2019-06-20 15:30:00       0.5872       0.5950       0.2445\n",
       "2019-06-20 15:35:00       0.6454       0.6506       0.2748\n",
       "2019-06-20 15:40:00       0.6220       0.6313       0.2645\n",
       "2019-06-20 15:45:00       0.5259       0.5338       0.2238\n",
       "2019-06-20 15:50:00       0.4655       0.4745       0.2001\n",
       "\n",
       "[290184 rows x 3 columns]"
      ]
     },
     "execution_count": 10,
     "metadata": {},
     "output_type": "execute_result"
    }
   ],
   "source": [
    "local_file_data_plug.get_data(local_file_keys[1])"
   ]
  },
  {
   "cell_type": "markdown",
   "id": "0641c346-94c0-4b72-9ca6-833cff311cdf",
   "metadata": {},
   "source": [
    "### Set a local User-defined Client"
   ]
  },
  {
   "cell_type": "code",
   "execution_count": 11,
   "id": "5788f21b-6bd1-4c73-9296-d5f88426bccb",
   "metadata": {},
   "outputs": [],
   "source": [
    "from dask.distributed import Client"
   ]
  },
  {
   "cell_type": "code",
   "execution_count": 12,
   "id": "205ce6a0-55c6-41cb-b484-4d4614df57de",
   "metadata": {
    "scrolled": true
   },
   "outputs": [
    {
     "name": "stderr",
     "output_type": "stream",
     "text": [
      "2024-03-23 11:54:43,146 - distributed.worker.memory - WARNING - Ignoring provided memory limit 8.0GiB due to system memory limit of 7.66 GiB\n",
      "/home/zhang/miniconda3/envs/manual-env/lib/python3.10/site-packages/distributed/worker_memory.py:494: FutureWarning: Parameter memory_target_fraction has been deprecated and will be removed in a future version; please use dask config key distributed.worker.memory.target instead\n",
      "  warnings.warn(\n",
      "/home/zhang/miniconda3/envs/manual-env/lib/python3.10/site-packages/distributed/worker_memory.py:494: FutureWarning: Parameter memory_spill_fraction has been deprecated and will be removed in a future version; please use dask config key distributed.worker.memory.spill instead\n",
      "  warnings.warn(\n",
      "/home/zhang/miniconda3/envs/manual-env/lib/python3.10/site-packages/distributed/worker_memory.py:494: FutureWarning: Parameter memory_pause_fraction has been deprecated and will be removed in a future version; please use dask config key distributed.worker.memory.pause instead\n",
      "  warnings.warn(\n"
     ]
    },
    {
     "data": {
      "text/plain": [
       "'http://172.21.212.11:8787/status'"
      ]
     },
     "execution_count": 12,
     "metadata": {},
     "output_type": "execute_result"
    },
    {
     "name": "stdout",
     "output_type": "stream",
     "text": [
      "Loading file TABD01110568...\n",
      "Loading file TABC01142170...\n",
      "\n",
      "            *********************************************\n",
      "            * Solar Data Tools Data Onboarding Pipeline *\n",
      "            *********************************************\n",
      "\n",
      "            This pipeline runs a series of preprocessing, cleaning, and quality\n",
      "            control tasks on stand-alone PV power or irradiance time series data.\n",
      "            After the pipeline is run, the data may be plotted, filtered, or\n",
      "            further analyzed.\n",
      "\n",
      "            Authors: Bennet Meyers and Sara Miskovich, SLAC\n",
      "\n",
      "            (Tip: if you have a mosek [https://www.mosek.com/] license and have it\n",
      "            installed on your system, try setting solver='MOSEK' for a speedup)\n",
      "\n",
      "            This material is based upon work supported by the U.S. Department\n",
      "            of Energy's Office of Energy Efficiency and Renewable Energy (EERE)\n",
      "            under the Solar Energy Technologies Office Award Number 38529.\n",
      "\n",
      "            \n"
     ]
    },
    {
     "name": "stderr",
     "output_type": "stream",
     "text": [
      "task list:  71%|████████████████████████▎         | 5/7 [01:11<00:35, 17.71s/it]Traceback (most recent call last):\n",
      "  File \"/mnt/c/Users/22720/OneDrive/Documents/solar-data-tools/solardatatools/data_handler.py\", line 451, in run_pipeline\n",
      "    self.auto_fix_time_shifts(\n",
      "  File \"/mnt/c/Users/22720/OneDrive/Documents/solar-data-tools/solardatatools/data_handler.py\", line 1156, in auto_fix_time_shifts\n",
      "    self.time_shift_analysis.run(\n",
      "  File \"/mnt/c/Users/22720/OneDrive/Documents/solar-data-tools/solardatatools/algorithms/time_shifts.py\", line 76, in run\n",
      "    hn, rn, tv_metric, jpy, best_ix = self.optimize_w1(\n",
      "  File \"/mnt/c/Users/22720/OneDrive/Documents/solar-data-tools/solardatatools/algorithms/time_shifts.py\", line 202, in optimize_w1\n",
      "    s1, s2 = self.estimate_components(\n",
      "  File \"/mnt/c/Users/22720/OneDrive/Documents/solar-data-tools/solardatatools/algorithms/time_shifts.py\", line 241, in estimate_components\n",
      "    s1, s2 = l2_l1d1_l2d2p365(\n",
      "  File \"/mnt/c/Users/22720/OneDrive/Documents/solar-data-tools/solardatatools/signal_decompositions.py\", line 87, in l2_l1d1_l2d2p365\n",
      "    res = _cvx_l2_l1d1_l2d2p365(\n",
      "  File \"/mnt/c/Users/22720/OneDrive/Documents/solar-data-tools/solardatatools/_cvx_signal_decompositions.py\", line 114, in _cvx_l2_l1d1_l2d2p365\n",
      "    problem.solve(solver=solver, verbose=verbose)\n",
      "  File \"/home/zhang/miniconda3/envs/manual-env/lib/python3.10/site-packages/cvxpy/problems/problem.py\", line 503, in solve\n",
      "    return solve_func(self, *args, **kwargs)\n",
      "  File \"/home/zhang/miniconda3/envs/manual-env/lib/python3.10/site-packages/cvxpy/problems/problem.py\", line 1072, in _solve\n",
      "    data, solving_chain, inverse_data = self.get_problem_data(\n",
      "  File \"/home/zhang/miniconda3/envs/manual-env/lib/python3.10/site-packages/cvxpy/problems/problem.py\", line 646, in get_problem_data\n",
      "    solving_chain = self._construct_chain(\n",
      "  File \"/home/zhang/miniconda3/envs/manual-env/lib/python3.10/site-packages/cvxpy/problems/problem.py\", line 896, in _construct_chain\n",
      "    candidate_solvers = self._find_candidate_solvers(solver=solver, gp=gp)\n",
      "  File \"/home/zhang/miniconda3/envs/manual-env/lib/python3.10/site-packages/cvxpy/problems/problem.py\", line 759, in _find_candidate_solvers\n",
      "    raise error.SolverError(\"The solver %s is not installed.\" % solver)\n",
      "cvxpy.error.SolverError: The solver MOSEK is not installed.\n"
     ]
    },
    {
     "name": "stdout",
     "output_type": "stream",
     "text": [
      "Fix time shift algorithm failed.\n",
      "Error message: The solver MOSEK is not installed.\n",
      "\n",
      "\n"
     ]
    },
    {
     "name": "stderr",
     "output_type": "stream",
     "text": [
      "task list: 100%|██████████████████████████████████| 7/7 [01:12<00:00, 10.32s/it]\n"
     ]
    },
    {
     "name": "stdout",
     "output_type": "stream",
     "text": [
      "\n",
      "\n",
      "total time: 72.24 seconds\n",
      "--------------------------------\n",
      "Breakdown\n",
      "--------------------------------\n",
      "Preprocessing              8.71s\n",
      "Cleaning                   0.74s\n",
      "Filtering/Summarizing      62.78s\n",
      "    Data quality           0.31s\n",
      "    Clear day detect       0.59s\n",
      "    Clipping detect        25.77s\n",
      "    Capacity change detect 36.12s\n",
      "\n",
      "\n",
      "            *********************************************\n",
      "            * Solar Data Tools Data Onboarding Pipeline *\n",
      "            *********************************************\n",
      "\n",
      "            This pipeline runs a series of preprocessing, cleaning, and quality\n",
      "            control tasks on stand-alone PV power or irradiance time series data.\n",
      "            After the pipeline is run, the data may be plotted, filtered, or\n",
      "            further analyzed.\n",
      "\n",
      "            Authors: Bennet Meyers and Sara Miskovich, SLAC\n",
      "\n",
      "            (Tip: if you have a mosek [https://www.mosek.com/] license and have it\n",
      "            installed on your system, try setting solver='MOSEK' for a speedup)\n",
      "\n",
      "            This material is based upon work supported by the U.S. Department\n",
      "            of Energy's Office of Energy Efficiency and Renewable Energy (EERE)\n",
      "            under the Solar Energy Technologies Office Award Number 38529.\n",
      "\n",
      "            \n"
     ]
    },
    {
     "name": "stderr",
     "output_type": "stream",
     "text": [
      "task list:  71%|████████████████████████▎         | 5/7 [01:02<00:30, 15.46s/it]Traceback (most recent call last):\n",
      "  File \"/mnt/c/Users/22720/OneDrive/Documents/solar-data-tools/solardatatools/data_handler.py\", line 451, in run_pipeline\n",
      "    self.auto_fix_time_shifts(\n",
      "  File \"/mnt/c/Users/22720/OneDrive/Documents/solar-data-tools/solardatatools/data_handler.py\", line 1156, in auto_fix_time_shifts\n",
      "    self.time_shift_analysis.run(\n",
      "  File \"/mnt/c/Users/22720/OneDrive/Documents/solar-data-tools/solardatatools/algorithms/time_shifts.py\", line 76, in run\n",
      "    hn, rn, tv_metric, jpy, best_ix = self.optimize_w1(\n",
      "  File \"/mnt/c/Users/22720/OneDrive/Documents/solar-data-tools/solardatatools/algorithms/time_shifts.py\", line 202, in optimize_w1\n",
      "    s1, s2 = self.estimate_components(\n",
      "  File \"/mnt/c/Users/22720/OneDrive/Documents/solar-data-tools/solardatatools/algorithms/time_shifts.py\", line 241, in estimate_components\n",
      "    s1, s2 = l2_l1d1_l2d2p365(\n",
      "  File \"/mnt/c/Users/22720/OneDrive/Documents/solar-data-tools/solardatatools/signal_decompositions.py\", line 87, in l2_l1d1_l2d2p365\n",
      "    res = _cvx_l2_l1d1_l2d2p365(\n",
      "  File \"/mnt/c/Users/22720/OneDrive/Documents/solar-data-tools/solardatatools/_cvx_signal_decompositions.py\", line 114, in _cvx_l2_l1d1_l2d2p365\n",
      "    problem.solve(solver=solver, verbose=verbose)\n",
      "  File \"/home/zhang/miniconda3/envs/manual-env/lib/python3.10/site-packages/cvxpy/problems/problem.py\", line 503, in solve\n",
      "    return solve_func(self, *args, **kwargs)\n",
      "  File \"/home/zhang/miniconda3/envs/manual-env/lib/python3.10/site-packages/cvxpy/problems/problem.py\", line 1072, in _solve\n",
      "    data, solving_chain, inverse_data = self.get_problem_data(\n",
      "  File \"/home/zhang/miniconda3/envs/manual-env/lib/python3.10/site-packages/cvxpy/problems/problem.py\", line 646, in get_problem_data\n",
      "    solving_chain = self._construct_chain(\n",
      "  File \"/home/zhang/miniconda3/envs/manual-env/lib/python3.10/site-packages/cvxpy/problems/problem.py\", line 896, in _construct_chain\n",
      "    candidate_solvers = self._find_candidate_solvers(solver=solver, gp=gp)\n",
      "  File \"/home/zhang/miniconda3/envs/manual-env/lib/python3.10/site-packages/cvxpy/problems/problem.py\", line 759, in _find_candidate_solvers\n",
      "    raise error.SolverError(\"The solver %s is not installed.\" % solver)\n",
      "cvxpy.error.SolverError: The solver MOSEK is not installed.\n"
     ]
    },
    {
     "name": "stdout",
     "output_type": "stream",
     "text": [
      "Fix time shift algorithm failed.\n",
      "Error message: The solver MOSEK is not installed.\n",
      "\n",
      "\n"
     ]
    },
    {
     "name": "stderr",
     "output_type": "stream",
     "text": [
      "task list: 100%|██████████████████████████████████| 7/7 [01:03<00:00,  9.09s/it]\n"
     ]
    },
    {
     "name": "stdout",
     "output_type": "stream",
     "text": [
      "\n",
      "\n",
      "total time: 63.65 seconds\n",
      "--------------------------------\n",
      "Breakdown\n",
      "--------------------------------\n",
      "Preprocessing              8.83s\n",
      "Cleaning                   0.86s\n",
      "Filtering/Summarizing      53.96s\n",
      "    Data quality           0.35s\n",
      "    Clear day detect       0.61s\n",
      "    Clipping detect        11.45s\n",
      "    Capacity change detect 41.55s\n",
      "\n",
      "Loading file TAAI01129193...\n",
      "\n",
      "            *********************************************\n",
      "            * Solar Data Tools Data Onboarding Pipeline *\n",
      "            *********************************************\n",
      "\n",
      "            This pipeline runs a series of preprocessing, cleaning, and quality\n",
      "            control tasks on stand-alone PV power or irradiance time series data.\n",
      "            After the pipeline is run, the data may be plotted, filtered, or\n",
      "            further analyzed.\n",
      "\n",
      "            Authors: Bennet Meyers and Sara Miskovich, SLAC\n",
      "\n",
      "            (Tip: if you have a mosek [https://www.mosek.com/] license and have it\n",
      "            installed on your system, try setting solver='MOSEK' for a speedup)\n",
      "\n",
      "            This material is based upon work supported by the U.S. Department\n",
      "            of Energy's Office of Energy Efficiency and Renewable Energy (EERE)\n",
      "            under the Solar Energy Technologies Office Award Number 38529.\n",
      "\n",
      "            \n"
     ]
    },
    {
     "name": "stderr",
     "output_type": "stream",
     "text": [
      "task list:  71%|████████████████████████▎         | 5/7 [01:21<00:40, 20.06s/it]Traceback (most recent call last):\n",
      "  File \"/mnt/c/Users/22720/OneDrive/Documents/solar-data-tools/solardatatools/data_handler.py\", line 451, in run_pipeline\n",
      "    self.auto_fix_time_shifts(\n",
      "  File \"/mnt/c/Users/22720/OneDrive/Documents/solar-data-tools/solardatatools/data_handler.py\", line 1156, in auto_fix_time_shifts\n",
      "    self.time_shift_analysis.run(\n",
      "  File \"/mnt/c/Users/22720/OneDrive/Documents/solar-data-tools/solardatatools/algorithms/time_shifts.py\", line 76, in run\n",
      "    hn, rn, tv_metric, jpy, best_ix = self.optimize_w1(\n",
      "  File \"/mnt/c/Users/22720/OneDrive/Documents/solar-data-tools/solardatatools/algorithms/time_shifts.py\", line 202, in optimize_w1\n",
      "    s1, s2 = self.estimate_components(\n",
      "  File \"/mnt/c/Users/22720/OneDrive/Documents/solar-data-tools/solardatatools/algorithms/time_shifts.py\", line 241, in estimate_components\n",
      "    s1, s2 = l2_l1d1_l2d2p365(\n",
      "  File \"/mnt/c/Users/22720/OneDrive/Documents/solar-data-tools/solardatatools/signal_decompositions.py\", line 87, in l2_l1d1_l2d2p365\n",
      "    res = _cvx_l2_l1d1_l2d2p365(\n",
      "  File \"/mnt/c/Users/22720/OneDrive/Documents/solar-data-tools/solardatatools/_cvx_signal_decompositions.py\", line 114, in _cvx_l2_l1d1_l2d2p365\n",
      "    problem.solve(solver=solver, verbose=verbose)\n",
      "  File \"/home/zhang/miniconda3/envs/manual-env/lib/python3.10/site-packages/cvxpy/problems/problem.py\", line 503, in solve\n",
      "    return solve_func(self, *args, **kwargs)\n",
      "  File \"/home/zhang/miniconda3/envs/manual-env/lib/python3.10/site-packages/cvxpy/problems/problem.py\", line 1072, in _solve\n",
      "    data, solving_chain, inverse_data = self.get_problem_data(\n",
      "  File \"/home/zhang/miniconda3/envs/manual-env/lib/python3.10/site-packages/cvxpy/problems/problem.py\", line 646, in get_problem_data\n",
      "    solving_chain = self._construct_chain(\n",
      "  File \"/home/zhang/miniconda3/envs/manual-env/lib/python3.10/site-packages/cvxpy/problems/problem.py\", line 896, in _construct_chain\n",
      "    candidate_solvers = self._find_candidate_solvers(solver=solver, gp=gp)\n",
      "  File \"/home/zhang/miniconda3/envs/manual-env/lib/python3.10/site-packages/cvxpy/problems/problem.py\", line 759, in _find_candidate_solvers\n",
      "    raise error.SolverError(\"The solver %s is not installed.\" % solver)\n",
      "cvxpy.error.SolverError: The solver MOSEK is not installed.\n"
     ]
    },
    {
     "name": "stdout",
     "output_type": "stream",
     "text": [
      "Fix time shift algorithm failed.\n",
      "Error message: The solver MOSEK is not installed.\n",
      "\n",
      "\n"
     ]
    },
    {
     "name": "stderr",
     "output_type": "stream",
     "text": [
      "task list: 100%|██████████████████████████████████| 7/7 [01:21<00:00, 11.69s/it]\n"
     ]
    },
    {
     "name": "stdout",
     "output_type": "stream",
     "text": [
      "\n",
      "\n",
      "total time: 81.80 seconds\n",
      "--------------------------------\n",
      "Breakdown\n",
      "--------------------------------\n",
      "Preprocessing              9.92s\n",
      "Cleaning                   0.79s\n",
      "Filtering/Summarizing      71.09s\n",
      "    Data quality           0.37s\n",
      "    Clear day detect       0.58s\n",
      "    Clipping detect        8.95s\n",
      "    Capacity change detect 61.20s\n",
      "\n"
     ]
    }
   ],
   "source": [
    "n_workers = 1\n",
    "threads_per_worker = 1\n",
    "total_system_memory = 8\n",
    "memory_per_worker = total_system_memory / n_workers\n",
    "local_client = Client(processes=False, memory_spill_fraction=False, memory_pause_fraction=False, memory_target_fraction=0.8, n_workers=n_workers, threads_per_worker=threads_per_worker, memory_limit=f\"{memory_per_worker}GiB\")\n",
    "local_client.dashboard_link"
   ]
  },
  {
   "cell_type": "code",
   "execution_count": 13,
   "id": "3087016d-3378-4160-96b1-91c5207553fb",
   "metadata": {
    "scrolled": true
   },
   "outputs": [],
   "source": [
    "dask_tool = SDTDask(local_file_data_plug, local_client)\n",
    "\n",
    "dask_tool.execute(local_file_keys, fix_shifts=True, verbose=True)"
   ]
  },
  {
   "cell_type": "markdown",
   "id": "4be66c03-499c-495d-8634-ded1a3ba638b",
   "metadata": {},
   "source": [
    "## AWS Fargate Client example\n",
    "use LocalFile dataplug and fargate client"
   ]
  },
  {
   "cell_type": "markdown",
   "id": "302b3a32-aebf-44d2-94fc-2e241e41059a",
   "metadata": {},
   "source": [
    "### Instantiate a pvdaq data plug\n"
   ]
  },
  {
   "cell_type": "code",
   "execution_count": 4,
   "id": "071459fd-3b57-42cc-b693-b1f708df4059",
   "metadata": {
    "ExecuteTime": {
     "end_time": "2024-03-22T01:20:53.295336Z",
     "start_time": "2024-03-22T01:20:53.248803Z"
    }
   },
   "outputs": [],
   "source": [
    "from sdt_dask.dataplugs.pvdaq_plug import PVDAQPlug"
   ]
  },
  {
   "cell_type": "code",
   "execution_count": 5,
   "id": "6f3ebc5e-d30b-4b9d-a2bc-39c1a547b4e2",
   "metadata": {
    "ExecuteTime": {
     "end_time": "2024-03-22T01:20:54.420095Z",
     "start_time": "2024-03-22T01:20:54.374545Z"
    }
   },
   "outputs": [],
   "source": [
    "PVDAQPlug?"
   ]
  },
  {
   "cell_type": "code",
   "execution_count": 6,
   "id": "d88c0a81-537b-41ea-a001-cd18d01743de",
   "metadata": {
    "ExecuteTime": {
     "end_time": "2024-03-22T01:20:55.803117Z",
     "start_time": "2024-03-22T01:20:55.758949Z"
    }
   },
   "outputs": [],
   "source": [
    "pvdaq_data_plug = PVDAQPlug()"
   ]
  },
  {
   "cell_type": "markdown",
   "id": "18bb904b-e500-42f3-9d0b-23ba1f197baf",
   "metadata": {},
   "source": [
    "### Set up a Fargate cluster client\n"
   ]
  },
  {
   "cell_type": "code",
   "execution_count": 7,
   "id": "64b65c69-6ed3-4989-ab66-bbf4e2e6c3eb",
   "metadata": {
    "ExecuteTime": {
     "end_time": "2024-03-22T01:20:57.686656Z",
     "start_time": "2024-03-22T01:20:57.482003Z"
    }
   },
   "outputs": [],
   "source": [
    "from sdt_dask.clients.aws.fargate import Fargate"
   ]
  },
  {
   "cell_type": "code",
   "execution_count": 8,
   "id": "ef374f93-7183-4011-b066-4cf1e4ff971c",
   "metadata": {
    "ExecuteTime": {
     "end_time": "2024-03-22T01:20:59.083189Z",
     "start_time": "2024-03-22T01:20:59.033488Z"
    }
   },
   "outputs": [],
   "source": [
    "# Use should define an environment variable for secret key\n",
    "PA_NUMBER = os.getenv(\"project-pa-number\")\n",
    "AWS_DEFAULT_REGION = os.getenv('AWS_DEFAULT_REGION')\n",
    "ENVIRONMENT = {\n",
    "    'AWS_ACCESS_KEY_ID' : os.getenv('AWS_ACCESS_KEY_ID'),\n",
    "    'AWS_SECRET_ACCESS_KEY' : os.getenv('AWS_SECRET_ACCESS_KEY')\n",
    "}"
   ]
  },
  {
   "cell_type": "code",
   "execution_count": 9,
   "id": "79f4a290-df58-4347-ae2d-fd67c6bb8ab5",
   "metadata": {
    "ExecuteTime": {
     "end_time": "2024-03-22T01:21:00.558615Z",
     "start_time": "2024-03-22T01:21:00.508593Z"
    }
   },
   "outputs": [],
   "source": [
    "# The Tag, VPC, image, workers, threads per worker and environment need to be user defined and passed to the client class\n",
    "TAGS = {\n",
    "    \"project-pa-number\": PA_NUMBER,\n",
    "    \"project\": \"pvinsight\"\n",
    "}\n",
    "VPC = \"vpc-ab2ff6d3\" # for us-west-2\n",
    "IMAGE = \"smiskov/dask-sdt-sm-2:latest\"\n",
    "\n",
    "WORKERS = 3\n",
    "THREADS_PER_WORKER = 1"
   ]
  },
  {
   "cell_type": "code",
   "execution_count": null,
   "id": "a3b999742577de85",
   "metadata": {
    "collapsed": false,
    "jupyter": {
     "outputs_hidden": false
    }
   },
   "outputs": [],
   "source": [
    "# print(TAGS, ENVIRONMENT)"
   ]
  },
  {
   "cell_type": "code",
   "execution_count": 10,
   "id": "5f406610-e5a8-4dcc-b0d4-82839ee3bda0",
   "metadata": {
    "ExecuteTime": {
     "end_time": "2024-03-22T01:23:51.956308Z",
     "start_time": "2024-03-22T01:21:02.668876Z"
    },
    "scrolled": true
   },
   "outputs": [
    {
     "name": "stdout",
     "output_type": "stream",
     "text": [
      "[i] Initilializing Fargate Cluster ...\n"
     ]
    },
    {
     "name": "stderr",
     "output_type": "stream",
     "text": [
      "C:\\Users\\Zander\\anaconda3\\envs\\pvi-user\\lib\\contextlib.py:142: UserWarning: Creating your cluster is taking a surprisingly long time. This is likely due to pending resources on AWS. Hang tight! \n",
      "  next(self.gen)\n"
     ]
    },
    {
     "name": "stdout",
     "output_type": "stream",
     "text": [
      "[i] Initilializing Dask Client ...\n",
      "[>] Dask Dashboard: http://54.245.193.141:8787/status\n"
     ]
    }
   ],
   "source": [
    "fargate_client = Fargate().init_client(image=IMAGE, \n",
    "                               tags=TAGS, \n",
    "                               vpc=VPC, \n",
    "                               region_name=AWS_DEFAULT_REGION,\n",
    "                               environment=ENVIRONMENT,\n",
    "                               n_workers=WORKERS,\n",
    "                               threads_per_worker=THREADS_PER_WORKER\n",
    "                               )"
   ]
  },
  {
   "cell_type": "code",
   "execution_count": 11,
   "id": "37d6958f-0830-43ec-b1f4-7965f44c02b5",
   "metadata": {
    "ExecuteTime": {
     "end_time": "2024-03-22T01:23:53.222500Z",
     "start_time": "2024-03-22T01:23:51.957307Z"
    },
    "collapsed": false,
    "jupyter": {
     "outputs_hidden": false
    }
   },
   "outputs": [
    {
     "ename": "RuntimeError",
     "evalue": "Error during deserialization of the task graph. This frequently\noccurs if the Scheduler and Client have different environments.\nFor more information, see\nhttps://docs.dask.org/en/stable/deployment-considerations.html#consistent-software-environments\n",
     "output_type": "error",
     "traceback": [
      "\u001b[1;31m---------------------------------------------------------------------------\u001b[0m",
      "\u001b[1;31mModuleNotFoundError\u001b[0m                       Traceback (most recent call last)",
      "File \u001b[1;32m/usr/local/lib/python3.10/site-packages/distributed/scheduler.py:4611\u001b[0m, in \u001b[0;36mupdate_graph\u001b[1;34m()\u001b[0m\n",
      "File \u001b[1;32m/usr/local/lib/python3.10/site-packages/distributed/protocol/serialize.py:439\u001b[0m, in \u001b[0;36mdeserialize\u001b[1;34m()\u001b[0m\n",
      "File \u001b[1;32m/usr/local/lib/python3.10/site-packages/distributed/protocol/serialize.py:101\u001b[0m, in \u001b[0;36mpickle_loads\u001b[1;34m()\u001b[0m\n",
      "File \u001b[1;32m/usr/local/lib/python3.10/site-packages/distributed/protocol/pickle.py:96\u001b[0m, in \u001b[0;36mloads\u001b[1;34m()\u001b[0m\n",
      "\u001b[1;31mModuleNotFoundError\u001b[0m: No module named 'sdt_dask.dask_tool'",
      "\nThe above exception was the direct cause of the following exception:\n",
      "\u001b[1;31mRuntimeError\u001b[0m                              Traceback (most recent call last)",
      "Cell \u001b[1;32mIn[11], line 4\u001b[0m\n\u001b[0;32m      1\u001b[0m pvdaq_keys \u001b[38;5;241m=\u001b[39m [(\u001b[38;5;241m34\u001b[39m, \u001b[38;5;241m2011\u001b[39m), (\u001b[38;5;241m35\u001b[39m, \u001b[38;5;241m2015\u001b[39m), (\u001b[38;5;241m51\u001b[39m,\u001b[38;5;241m2012\u001b[39m)]\n\u001b[0;32m      2\u001b[0m dask_tool \u001b[38;5;241m=\u001b[39m SDTDask(pvdaq_data_plug, fargate_client)\n\u001b[1;32m----> 4\u001b[0m \u001b[43mdask_tool\u001b[49m\u001b[38;5;241;43m.\u001b[39;49m\u001b[43mexecute\u001b[49m\u001b[43m(\u001b[49m\u001b[43mpvdaq_keys\u001b[49m\u001b[43m,\u001b[49m\u001b[43m \u001b[49m\u001b[43mfix_shifts\u001b[49m\u001b[38;5;241;43m=\u001b[39;49m\u001b[38;5;28;43;01mTrue\u001b[39;49;00m\u001b[43m,\u001b[49m\u001b[43m \u001b[49m\u001b[43mverbose\u001b[49m\u001b[38;5;241;43m=\u001b[39;49m\u001b[38;5;28;43;01mTrue\u001b[39;49;00m\u001b[43m)\u001b[49m\n",
      "File \u001b[1;32m~\\Documents\\slac\\solar-data-tools\\sdt_dask\\dask_tool\\sdt_dask.py:54\u001b[0m, in \u001b[0;36mSDTDask.execute\u001b[1;34m(self, KEYS, **kwargs)\u001b[0m\n\u001b[0;32m     49\u001b[0m \u001b[38;5;28mself\u001b[39m\u001b[38;5;241m.\u001b[39mdf_reports \u001b[38;5;241m=\u001b[39m delayed(\u001b[38;5;28mself\u001b[39m\u001b[38;5;241m.\u001b[39mdf_reports\u001b[38;5;241m.\u001b[39massign)(runtime\u001b[38;5;241m=\u001b[39mruntimes, keys\u001b[38;5;241m=\u001b[39mKEYS)\n\u001b[0;32m     51\u001b[0m \u001b[38;5;66;03m# Visualize task graph\u001b[39;00m\n\u001b[0;32m     52\u001b[0m \u001b[38;5;66;03m# self.df_reports.visualize(filename='sdt_graph_or.png')\u001b[39;00m\n\u001b[1;32m---> 54\u001b[0m \u001b[38;5;28;43mself\u001b[39;49m\u001b[38;5;241;43m.\u001b[39;49m\u001b[43mget_report\u001b[49m\u001b[43m(\u001b[49m\u001b[43m)\u001b[49m\n",
      "File \u001b[1;32m~\\Documents\\slac\\solar-data-tools\\sdt_dask\\dask_tool\\sdt_dask.py:60\u001b[0m, in \u001b[0;36mSDTDask.get_report\u001b[1;34m(self)\u001b[0m\n\u001b[0;32m     58\u001b[0m \u001b[38;5;28;01mwith\u001b[39;00m performance_report(filename\u001b[38;5;241m=\u001b[39m\u001b[38;5;124m\"\u001b[39m\u001b[38;5;124m../results/dask-report.html\u001b[39m\u001b[38;5;124m\"\u001b[39m):\n\u001b[0;32m     59\u001b[0m     summary_table \u001b[38;5;241m=\u001b[39m \u001b[38;5;28mself\u001b[39m\u001b[38;5;241m.\u001b[39mclient\u001b[38;5;241m.\u001b[39mcompute(\u001b[38;5;28mself\u001b[39m\u001b[38;5;241m.\u001b[39mdf_reports)\n\u001b[1;32m---> 60\u001b[0m     df \u001b[38;5;241m=\u001b[39m \u001b[43msummary_table\u001b[49m\u001b[38;5;241;43m.\u001b[39;49m\u001b[43mresult\u001b[49m\u001b[43m(\u001b[49m\u001b[43m)\u001b[49m\n\u001b[0;32m     61\u001b[0m     df\u001b[38;5;241m.\u001b[39mto_csv(\u001b[38;5;124m'\u001b[39m\u001b[38;5;124m../results/summary_report.csv\u001b[39m\u001b[38;5;124m'\u001b[39m)\n\u001b[0;32m     63\u001b[0m \u001b[38;5;28mself\u001b[39m\u001b[38;5;241m.\u001b[39mclient\u001b[38;5;241m.\u001b[39mshutdown()\n",
      "File \u001b[1;32m~\\anaconda3\\envs\\pvi-user\\lib\\site-packages\\distributed\\client.py:322\u001b[0m, in \u001b[0;36mFuture.result\u001b[1;34m(self, timeout)\u001b[0m\n\u001b[0;32m    320\u001b[0m \u001b[38;5;28mself\u001b[39m\u001b[38;5;241m.\u001b[39m_verify_initialized()\n\u001b[0;32m    321\u001b[0m \u001b[38;5;28;01mwith\u001b[39;00m shorten_traceback():\n\u001b[1;32m--> 322\u001b[0m     \u001b[38;5;28;01mreturn\u001b[39;00m \u001b[38;5;28;43mself\u001b[39;49m\u001b[38;5;241;43m.\u001b[39;49m\u001b[43mclient\u001b[49m\u001b[38;5;241;43m.\u001b[39;49m\u001b[43msync\u001b[49m\u001b[43m(\u001b[49m\u001b[38;5;28;43mself\u001b[39;49m\u001b[38;5;241;43m.\u001b[39;49m\u001b[43m_result\u001b[49m\u001b[43m,\u001b[49m\u001b[43m \u001b[49m\u001b[43mcallback_timeout\u001b[49m\u001b[38;5;241;43m=\u001b[39;49m\u001b[43mtimeout\u001b[49m\u001b[43m)\u001b[49m\n",
      "File \u001b[1;32m~\\anaconda3\\envs\\pvi-user\\lib\\site-packages\\distributed\\client.py:330\u001b[0m, in \u001b[0;36mFuture._result\u001b[1;34m(self, raiseit)\u001b[0m\n\u001b[0;32m    328\u001b[0m \u001b[38;5;28;01mif\u001b[39;00m raiseit:\n\u001b[0;32m    329\u001b[0m     typ, exc, tb \u001b[38;5;241m=\u001b[39m exc\n\u001b[1;32m--> 330\u001b[0m     \u001b[38;5;28;01mraise\u001b[39;00m exc\u001b[38;5;241m.\u001b[39mwith_traceback(tb)\n\u001b[0;32m    331\u001b[0m \u001b[38;5;28;01melse\u001b[39;00m:\n\u001b[0;32m    332\u001b[0m     \u001b[38;5;28;01mreturn\u001b[39;00m exc\n",
      "\u001b[1;31mRuntimeError\u001b[0m: Error during deserialization of the task graph. This frequently\noccurs if the Scheduler and Client have different environments.\nFor more information, see\nhttps://docs.dask.org/en/stable/deployment-considerations.html#consistent-software-environments\n"
     ]
    }
   ],
   "source": [
    "pvdaq_keys = [(34, 2011), (35, 2015), (51,2012)]\n",
    "dask_tool = SDTDask(pvdaq_data_plug, fargate_client)\n",
    "\n",
    "dask_tool.execute(pvdaq_keys, fix_shifts=True, verbose=True)"
   ]
  },
  {
   "cell_type": "markdown",
   "id": "18dd62f8-0bcf-4ec8-9f70-0676c9fde235",
   "metadata": {},
   "source": [
    "## Azure Client example"
   ]
  },
  {
   "cell_type": "code",
   "execution_count": null,
   "id": "0776458a-c72e-422c-8658-f66a10182c08",
   "metadata": {},
   "outputs": [],
   "source": []
  }
 ],
 "metadata": {
  "kernelspec": {
   "display_name": "Python 3 (ipykernel)",
   "language": "python",
   "name": "python3"
  },
  "language_info": {
   "codemirror_mode": {
    "name": "ipython",
    "version": 3
   },
   "file_extension": ".py",
   "mimetype": "text/x-python",
   "name": "python",
   "nbconvert_exporter": "python",
   "pygments_lexer": "ipython3",
   "version": "3.10.11"
  }
 },
 "nbformat": 4,
 "nbformat_minor": 5
}
