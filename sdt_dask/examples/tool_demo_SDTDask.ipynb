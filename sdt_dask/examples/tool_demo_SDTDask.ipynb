{
 "cells": [
  {
   "cell_type": "code",
   "execution_count": 1,
   "id": "f3989f27-e6d3-4640-a00f-608c1a24a03e",
   "metadata": {
    "ExecuteTime": {
     "end_time": "2024-03-22T02:15:06.173988Z",
     "start_time": "2024-03-22T02:15:06.152882Z"
    }
   },
   "outputs": [],
   "source": [
    "%load_ext autoreload\n",
    "%autoreload 2"
   ]
  },
  {
   "cell_type": "code",
   "execution_count": 3,
   "id": "f03a3d5b-b3d7-4b35-b031-4d6a35936e6f",
   "metadata": {
    "ExecuteTime": {
     "end_time": "2024-03-22T02:15:16.540514Z",
     "start_time": "2024-03-22T02:15:15.238706Z"
    }
   },
   "outputs": [],
   "source": [
    "import glob, os\n",
    "\n",
    "import sys\n",
    "\n",
    "module_dir = os.path.abspath(os.path.join(os.getcwd(), '../../'))\n",
    "if module_dir not in sys.path:\n",
    "    sys.path.insert(0, module_dir)\n",
    "\n",
    "module_dir = os.path.abspath(os.path.join(os.getcwd(), '../../sdt_dask/'))\n",
    "if module_dir not in sys.path:\n",
    "    sys.path.insert(0, module_dir)\n",
    "\n",
    "module_dir = os.path.abspath(os.path.join(os.getcwd(), '../../solardatatools/'))\n",
    "if module_dir not in sys.path:\n",
    "    sys.path.insert(0, module_dir)\n",
    "\n",
    "module_dir = os.path.abspath(os.path.join(os.getcwd(), '../dask_tool/'))\n",
    "if module_dir not in sys.path:\n",
    "    sys.path.insert(0, module_dir)\n",
    "    \n",
    "from sdt_dask.dask_tool.sdt_dask import SDTDask"
   ]
  },
  {
   "cell_type": "code",
   "execution_count": 4,
   "id": "b22a24df-30d2-4121-ada5-e107ee0288c9",
   "metadata": {
    "ExecuteTime": {
     "end_time": "2024-03-22T02:15:18.809733Z",
     "start_time": "2024-03-22T02:15:18.762190Z"
    }
   },
   "outputs": [],
   "source": [
    "SDTDask?"
   ]
  },
  {
   "cell_type": "markdown",
   "id": "12773784-0848-440a-9dfe-500547eb938d",
   "metadata": {},
   "source": [
    "## Local Client example \n",
    " use local csv dataplug and local client"
   ]
  },
  {
   "cell_type": "markdown",
   "id": "5c7826b2-6fce-4e57-99cf-b99c81d847e2",
   "metadata": {},
   "source": [
    "### Instantiate a localfile data plug"
   ]
  },
  {
   "cell_type": "code",
   "execution_count": null,
   "id": "a8d25936-9afe-4f69-a710-c02c9cd4b476",
   "metadata": {},
   "outputs": [],
   "source": [
    "from sdt_dask.dataplugs.csv_plug import LocalFiles"
   ]
  },
  {
   "cell_type": "code",
   "execution_count": null,
   "id": "e47da4b0-82d7-488b-8657-0257fafbcbfb",
   "metadata": {},
   "outputs": [],
   "source": [
    "LocalFiles?"
   ]
  },
  {
   "cell_type": "code",
   "execution_count": null,
   "id": "29f50626-c112-4dde-a227-6547af0e3c44",
   "metadata": {},
   "outputs": [],
   "source": [
    "path = \"../dataplugs/example_data/\"\n",
    "local_file_data_plug = LocalFiles(path_to_files=path)\n",
    "local_file_keys = [(os.path.basename(fname)[:-4],) for fname in glob.glob(path + \"*\")]\n",
    "local_file_keys"
   ]
  },
  {
   "cell_type": "code",
   "execution_count": null,
   "id": "60ee51ff-293e-4480-a0c1-d596ba2111e4",
   "metadata": {
    "scrolled": true
   },
   "outputs": [],
   "source": [
    "local_file_data_plug.get_data(local_file_keys[1])"
   ]
  },
  {
   "cell_type": "markdown",
   "id": "0641c346-94c0-4b72-9ca6-833cff311cdf",
   "metadata": {},
   "source": [
    "### Set a local User-defined Client"
   ]
  },
  {
   "cell_type": "code",
   "outputs": [],
   "source": [],
   "metadata": {
    "collapsed": false
   },
   "id": "11bbbda63c9d268b"
  },
  {
   "cell_type": "code",
   "execution_count": null,
   "id": "5788f21b-6bd1-4c73-9296-d5f88426bccb",
   "metadata": {},
   "outputs": [],
   "source": [
    "from dask.distributed import Client"
   ]
  },
  {
   "cell_type": "code",
   "execution_count": null,
   "id": "205ce6a0-55c6-41cb-b484-4d4614df57de",
   "metadata": {
    "scrolled": true
   },
   "outputs": [],
   "source": [
    "n_workers = 1\n",
    "threads_per_worker = 1\n",
    "total_system_memory = 8\n",
    "memory_per_worker = total_system_memory / n_workers\n",
    "local_client = Client(processes=False, memory_spill_fraction=False, memory_pause_fraction=False, memory_target_fraction=0.8, n_workers=n_workers, threads_per_worker=threads_per_worker, memory_limit=f\"{memory_per_worker}GiB\")\n",
    "local_client.dashboard_link"
   ]
  },
  {
   "cell_type": "code",
   "execution_count": null,
   "id": "3087016d-3378-4160-96b1-91c5207553fb",
   "metadata": {
    "scrolled": true
   },
   "outputs": [],
   "source": [
    "dask_tool = SDTDask(local_file_data_plug, local_client)\n",
    "\n",
    "dask_tool.execute(local_file_keys, fix_shifts=True, verbose=True)"
   ]
  },
  {
   "cell_type": "markdown",
   "id": "4be66c03-499c-495d-8634-ded1a3ba638b",
   "metadata": {},
   "source": [
    "## AWS Fargate Client example\n",
    "use LocalFile dataplug and fargate client"
   ]
  },
  {
   "cell_type": "markdown",
   "id": "302b3a32-aebf-44d2-94fc-2e241e41059a",
   "metadata": {},
   "source": [
    "### Instantiate a pvdaq data plug\n"
   ]
  },
  {
   "cell_type": "code",
   "execution_count": 5,
   "id": "071459fd-3b57-42cc-b693-b1f708df4059",
   "metadata": {
    "ExecuteTime": {
     "end_time": "2024-03-22T02:15:24.500838Z",
     "start_time": "2024-03-22T02:15:24.454309Z"
    }
   },
   "outputs": [],
   "source": [
    "from sdt_dask.dataplugs.pvdaq_plug import PVDAQPlug"
   ]
  },
  {
   "cell_type": "code",
   "execution_count": 6,
   "id": "6f3ebc5e-d30b-4b9d-a2bc-39c1a547b4e2",
   "metadata": {
    "ExecuteTime": {
     "end_time": "2024-03-22T02:15:25.706115Z",
     "start_time": "2024-03-22T02:15:25.658281Z"
    }
   },
   "outputs": [],
   "source": [
    "PVDAQPlug?"
   ]
  },
  {
   "cell_type": "code",
   "execution_count": 7,
   "id": "d88c0a81-537b-41ea-a001-cd18d01743de",
   "metadata": {
    "ExecuteTime": {
     "end_time": "2024-03-22T02:15:26.593254Z",
     "start_time": "2024-03-22T02:15:26.547032Z"
    }
   },
   "outputs": [],
   "source": [
    "pvdaq_data_plug = PVDAQPlug()"
   ]
  },
  {
   "cell_type": "markdown",
   "id": "18bb904b-e500-42f3-9d0b-23ba1f197baf",
   "metadata": {},
   "source": [
    "### Set up a Fargate cluster client\n"
   ]
  },
  {
   "cell_type": "code",
   "execution_count": 8,
   "id": "64b65c69-6ed3-4989-ab66-bbf4e2e6c3eb",
   "metadata": {
    "ExecuteTime": {
     "end_time": "2024-03-22T02:15:28.433380Z",
     "start_time": "2024-03-22T02:15:28.223351Z"
    }
   },
   "outputs": [],
   "source": [
    "from sdt_dask.clients.aws.fargate import Fargate"
   ]
  },
  {
   "cell_type": "code",
   "execution_count": 9,
   "id": "ef374f93-7183-4011-b066-4cf1e4ff971c",
   "metadata": {
    "ExecuteTime": {
     "end_time": "2024-03-22T02:15:29.519850Z",
     "start_time": "2024-03-22T02:15:29.469723Z"
    }
   },
   "outputs": [],
   "source": [
    "# Use should define an environment variable for secret key\n",
    "PA_NUMBER = os.getenv(\"project-pa-number\")\n",
    "AWS_DEFAULT_REGION = os.getenv('AWS_DEFAULT_REGION')\n",
    "ENVIRONMENT = {\n",
    "    'AWS_ACCESS_KEY_ID' : os.getenv('AWS_ACCESS_KEY_ID'),\n",
    "    'AWS_SECRET_ACCESS_KEY' : os.getenv('AWS_SECRET_ACCESS_KEY')\n",
    "}"
   ]
  },
  {
   "cell_type": "code",
   "execution_count": 10,
   "id": "79f4a290-df58-4347-ae2d-fd67c6bb8ab5",
   "metadata": {
    "ExecuteTime": {
     "end_time": "2024-03-22T02:15:30.653813Z",
     "start_time": "2024-03-22T02:15:30.604770Z"
    }
   },
   "outputs": [],
   "source": [
    "# The Tag, VPC, image, workers, threads per worker and environment need to be user defined and passed to the client class\n",
    "TAGS = {\n",
    "    \"project-pa-number\": PA_NUMBER,\n",
    "    \"project\": \"pvinsight\"\n",
    "}\n",
    "VPC = \"vpc-ab2ff6d3\" # for us-west-2\n",
    "IMAGE = \"smiskov/dask-sdt-sm-2:latest\"\n",
    "\n",
    "WORKERS = 3\n",
    "THREADS_PER_WORKER = 1"
   ]
  },
  {
   "cell_type": "code",
   "outputs": [],
   "source": [
    "# print(TAGS, ENVIRONMENT)"
   ],
   "metadata": {
    "collapsed": false
   },
   "id": "a3b999742577de85",
   "execution_count": null
  },
  {
   "cell_type": "code",
   "execution_count": 11,
   "id": "5f406610-e5a8-4dcc-b0d4-82839ee3bda0",
   "metadata": {
    "scrolled": true,
    "ExecuteTime": {
     "end_time": "2024-03-22T02:18:33.069180Z",
     "start_time": "2024-03-22T02:15:33.826342Z"
    }
   },
   "outputs": [
    {
     "name": "stdout",
     "output_type": "stream",
     "text": [
      "[i] Initilializing Fargate Cluster ...\n"
     ]
    },
    {
     "name": "stderr",
     "output_type": "stream",
     "text": [
      "C:\\Users\\Zander\\anaconda3\\envs\\pvi-user\\lib\\contextlib.py:142: UserWarning: Creating your cluster is taking a surprisingly long time. This is likely due to pending resources on AWS. Hang tight! \n",
      "  next(self.gen)\n"
     ]
    },
    {
     "name": "stdout",
     "output_type": "stream",
     "text": [
      "[i] Initilializing Dask Client ...\n",
      "[>] Dask Dashboard: http://35.94.98.144:8787/status\n"
     ]
    }
   ],
   "source": [
    "fargate_client = Fargate().init_client(image=IMAGE, \n",
    "                               tags=TAGS, \n",
    "                               vpc=VPC, \n",
    "                               region_name=AWS_DEFAULT_REGION,\n",
    "                               environment=ENVIRONMENT,\n",
    "                               n_workers=WORKERS,\n",
    "                               threads_per_worker=THREADS_PER_WORKER\n",
    "                               )"
   ]
  },
  {
   "cell_type": "code",
   "outputs": [
    {
     "ename": "RuntimeError",
     "evalue": "Error during deserialization of the task graph. This frequently\noccurs if the Scheduler and Client have different environments.\nFor more information, see\nhttps://docs.dask.org/en/stable/deployment-considerations.html#consistent-software-environments\n",
     "output_type": "error",
     "traceback": [
      "\u001B[1;31m---------------------------------------------------------------------------\u001B[0m",
      "\u001B[1;31mModuleNotFoundError\u001B[0m                       Traceback (most recent call last)",
      "File \u001B[1;32m/usr/local/lib/python3.10/site-packages/distributed/scheduler.py:4611\u001B[0m, in \u001B[0;36mupdate_graph\u001B[1;34m()\u001B[0m\n",
      "File \u001B[1;32m/usr/local/lib/python3.10/site-packages/distributed/protocol/serialize.py:439\u001B[0m, in \u001B[0;36mdeserialize\u001B[1;34m()\u001B[0m\n",
      "File \u001B[1;32m/usr/local/lib/python3.10/site-packages/distributed/protocol/serialize.py:101\u001B[0m, in \u001B[0;36mpickle_loads\u001B[1;34m()\u001B[0m\n",
      "File \u001B[1;32m/usr/local/lib/python3.10/site-packages/distributed/protocol/pickle.py:96\u001B[0m, in \u001B[0;36mloads\u001B[1;34m()\u001B[0m\n",
      "\u001B[1;31mModuleNotFoundError\u001B[0m: No module named 'sdt_dask.dask_tool'",
      "\nThe above exception was the direct cause of the following exception:\n",
      "\u001B[1;31mRuntimeError\u001B[0m                              Traceback (most recent call last)",
      "Cell \u001B[1;32mIn[12], line 4\u001B[0m\n\u001B[0;32m      1\u001B[0m pvdaq_keys \u001B[38;5;241m=\u001B[39m [(\u001B[38;5;241m34\u001B[39m, \u001B[38;5;241m2011\u001B[39m), (\u001B[38;5;241m35\u001B[39m, \u001B[38;5;241m2015\u001B[39m), (\u001B[38;5;241m51\u001B[39m,\u001B[38;5;241m2012\u001B[39m)]\n\u001B[0;32m      2\u001B[0m dask_tool \u001B[38;5;241m=\u001B[39m SDTDask(pvdaq_data_plug, fargate_client)\n\u001B[1;32m----> 4\u001B[0m \u001B[43mdask_tool\u001B[49m\u001B[38;5;241;43m.\u001B[39;49m\u001B[43mexecute\u001B[49m\u001B[43m(\u001B[49m\u001B[43mpvdaq_keys\u001B[49m\u001B[43m,\u001B[49m\u001B[43m \u001B[49m\u001B[43mfix_shifts\u001B[49m\u001B[38;5;241;43m=\u001B[39;49m\u001B[38;5;28;43;01mTrue\u001B[39;49;00m\u001B[43m,\u001B[49m\u001B[43m \u001B[49m\u001B[43mverbose\u001B[49m\u001B[38;5;241;43m=\u001B[39;49m\u001B[38;5;28;43;01mTrue\u001B[39;49;00m\u001B[43m)\u001B[49m\n",
      "File \u001B[1;32m~\\Documents\\GitHub\\solar-data-tools\\sdt_dask\\dask_tool\\sdt_dask.py:54\u001B[0m, in \u001B[0;36mSDTDask.execute\u001B[1;34m(self, KEYS, **kwargs)\u001B[0m\n\u001B[0;32m     49\u001B[0m \u001B[38;5;28mself\u001B[39m\u001B[38;5;241m.\u001B[39mdf_reports \u001B[38;5;241m=\u001B[39m delayed(\u001B[38;5;28mself\u001B[39m\u001B[38;5;241m.\u001B[39mdf_reports\u001B[38;5;241m.\u001B[39massign)(runtime\u001B[38;5;241m=\u001B[39mruntimes, keys\u001B[38;5;241m=\u001B[39mKEYS)\n\u001B[0;32m     51\u001B[0m \u001B[38;5;66;03m# Visualize task graph\u001B[39;00m\n\u001B[0;32m     52\u001B[0m \u001B[38;5;66;03m# self.df_reports.visualize(filename='sdt_graph_or.png')\u001B[39;00m\n\u001B[1;32m---> 54\u001B[0m \u001B[38;5;28;43mself\u001B[39;49m\u001B[38;5;241;43m.\u001B[39;49m\u001B[43mget_report\u001B[49m\u001B[43m(\u001B[49m\u001B[43m)\u001B[49m\n",
      "File \u001B[1;32m~\\Documents\\GitHub\\solar-data-tools\\sdt_dask\\dask_tool\\sdt_dask.py:60\u001B[0m, in \u001B[0;36mSDTDask.get_report\u001B[1;34m(self)\u001B[0m\n\u001B[0;32m     58\u001B[0m \u001B[38;5;28;01mwith\u001B[39;00m performance_report(filename\u001B[38;5;241m=\u001B[39m\u001B[38;5;124m\"\u001B[39m\u001B[38;5;124m../results/dask-report.html\u001B[39m\u001B[38;5;124m\"\u001B[39m):\n\u001B[0;32m     59\u001B[0m     summary_table \u001B[38;5;241m=\u001B[39m \u001B[38;5;28mself\u001B[39m\u001B[38;5;241m.\u001B[39mclient\u001B[38;5;241m.\u001B[39mcompute(\u001B[38;5;28mself\u001B[39m\u001B[38;5;241m.\u001B[39mdf_reports)\n\u001B[1;32m---> 60\u001B[0m     df \u001B[38;5;241m=\u001B[39m \u001B[43msummary_table\u001B[49m\u001B[38;5;241;43m.\u001B[39;49m\u001B[43mresult\u001B[49m\u001B[43m(\u001B[49m\u001B[43m)\u001B[49m\n\u001B[0;32m     61\u001B[0m     df\u001B[38;5;241m.\u001B[39mto_csv(\u001B[38;5;124m'\u001B[39m\u001B[38;5;124m../results/summary_report.csv\u001B[39m\u001B[38;5;124m'\u001B[39m)\n\u001B[0;32m     63\u001B[0m \u001B[38;5;28mself\u001B[39m\u001B[38;5;241m.\u001B[39mclient\u001B[38;5;241m.\u001B[39mshutdown()\n",
      "File \u001B[1;32m~\\anaconda3\\envs\\pvi-user\\lib\\site-packages\\distributed\\client.py:322\u001B[0m, in \u001B[0;36mFuture.result\u001B[1;34m(self, timeout)\u001B[0m\n\u001B[0;32m    320\u001B[0m \u001B[38;5;28mself\u001B[39m\u001B[38;5;241m.\u001B[39m_verify_initialized()\n\u001B[0;32m    321\u001B[0m \u001B[38;5;28;01mwith\u001B[39;00m shorten_traceback():\n\u001B[1;32m--> 322\u001B[0m     \u001B[38;5;28;01mreturn\u001B[39;00m \u001B[38;5;28;43mself\u001B[39;49m\u001B[38;5;241;43m.\u001B[39;49m\u001B[43mclient\u001B[49m\u001B[38;5;241;43m.\u001B[39;49m\u001B[43msync\u001B[49m\u001B[43m(\u001B[49m\u001B[38;5;28;43mself\u001B[39;49m\u001B[38;5;241;43m.\u001B[39;49m\u001B[43m_result\u001B[49m\u001B[43m,\u001B[49m\u001B[43m \u001B[49m\u001B[43mcallback_timeout\u001B[49m\u001B[38;5;241;43m=\u001B[39;49m\u001B[43mtimeout\u001B[49m\u001B[43m)\u001B[49m\n",
      "File \u001B[1;32m~\\anaconda3\\envs\\pvi-user\\lib\\site-packages\\distributed\\client.py:330\u001B[0m, in \u001B[0;36mFuture._result\u001B[1;34m(self, raiseit)\u001B[0m\n\u001B[0;32m    328\u001B[0m \u001B[38;5;28;01mif\u001B[39;00m raiseit:\n\u001B[0;32m    329\u001B[0m     typ, exc, tb \u001B[38;5;241m=\u001B[39m exc\n\u001B[1;32m--> 330\u001B[0m     \u001B[38;5;28;01mraise\u001B[39;00m exc\u001B[38;5;241m.\u001B[39mwith_traceback(tb)\n\u001B[0;32m    331\u001B[0m \u001B[38;5;28;01melse\u001B[39;00m:\n\u001B[0;32m    332\u001B[0m     \u001B[38;5;28;01mreturn\u001B[39;00m exc\n",
      "\u001B[1;31mRuntimeError\u001B[0m: Error during deserialization of the task graph. This frequently\noccurs if the Scheduler and Client have different environments.\nFor more information, see\nhttps://docs.dask.org/en/stable/deployment-considerations.html#consistent-software-environments\n"
     ]
    }
   ],
   "source": [
    "pvdaq_keys = [(34, 2011), (35, 2015), (51,2012)]\n",
    "dask_tool = SDTDask(pvdaq_data_plug, fargate_client)\n",
    "\n",
    "dask_tool.execute(pvdaq_keys, fix_shifts=True, verbose=True)"
   ],
   "metadata": {
    "collapsed": false,
    "ExecuteTime": {
     "end_time": "2024-03-22T02:18:34.305327Z",
     "start_time": "2024-03-22T02:18:33.069180Z"
    }
   },
   "id": "37d6958f-0830-43ec-b1f4-7965f44c02b5",
   "execution_count": 12
  },
  {
   "cell_type": "markdown",
   "id": "18dd62f8-0bcf-4ec8-9f70-0676c9fde235",
   "metadata": {},
   "source": [
    "## Azure Client example"
   ]
  },
  {
   "cell_type": "code",
   "execution_count": null,
   "id": "0776458a-c72e-422c-8658-f66a10182c08",
   "metadata": {},
   "outputs": [],
   "source": []
  }
 ],
 "metadata": {
  "kernelspec": {
   "display_name": "Python 3 (ipykernel)",
   "language": "python",
   "name": "python3"
  },
  "language_info": {
   "codemirror_mode": {
    "name": "ipython",
    "version": 3
   },
   "file_extension": ".py",
   "mimetype": "text/x-python",
   "name": "python",
   "nbconvert_exporter": "python",
   "pygments_lexer": "ipython3",
   "version": "3.10.11"
  }
 },
 "nbformat": 4,
 "nbformat_minor": 5
}
