{
 "cells": [
  {
   "cell_type": "code",
   "execution_count": 1,
   "id": "f3989f27-e6d3-4640-a00f-608c1a24a03e",
   "metadata": {
    "ExecuteTime": {
     "end_time": "2024-03-23T17:09:11.276568Z",
     "start_time": "2024-03-23T17:09:11.245538Z"
    }
   },
   "outputs": [],
   "source": [
    "%load_ext autoreload\n",
    "%autoreload 2"
   ]
  },
  {
   "cell_type": "code",
   "execution_count": 2,
   "id": "f03a3d5b-b3d7-4b35-b031-4d6a35936e6f",
   "metadata": {
    "ExecuteTime": {
     "end_time": "2024-03-23T17:09:13.742694Z",
     "start_time": "2024-03-23T17:09:11.277569Z"
    }
   },
   "outputs": [],
   "source": [
    "import glob, os\n",
    "from sdt_dask.dask_tool.runner import Runner"
   ]
  },
  {
   "cell_type": "markdown",
   "id": "12773784-0848-440a-9dfe-500547eb938d",
   "metadata": {},
   "source": [
    "## Local Client example \n",
    " use local csv dataplug and local client"
   ]
  },
  {
   "cell_type": "markdown",
   "id": "5c7826b2-6fce-4e57-99cf-b99c81d847e2",
   "metadata": {},
   "source": [
    "### Instantiate a localfile data plug"
   ]
  },
  {
   "cell_type": "code",
   "execution_count": 3,
   "id": "a8d25936-9afe-4f69-a710-c02c9cd4b476",
   "metadata": {
    "ExecuteTime": {
     "end_time": "2024-03-23T17:09:13.885081Z",
     "start_time": "2024-03-23T17:09:13.823694Z"
    }
   },
   "outputs": [],
   "source": [
    "from sdt_dask.dataplugs.csv_plug import LocalFiles"
   ]
  },
  {
   "cell_type": "code",
   "execution_count": 4,
   "id": "e47da4b0-82d7-488b-8657-0257fafbcbfb",
   "metadata": {
    "ExecuteTime": {
     "end_time": "2024-03-23T17:09:13.933081Z",
     "start_time": "2024-03-23T17:09:13.886083Z"
    }
   },
   "outputs": [
    {
     "name": "stdout",
     "output_type": "stream",
     "text": [
      "\u001b[0;31mInit signature:\u001b[0m \u001b[0mLocalFiles\u001b[0m\u001b[0;34m(\u001b[0m\u001b[0mpath_to_files\u001b[0m\u001b[0;34m,\u001b[0m \u001b[0mext\u001b[0m\u001b[0;34m=\u001b[0m\u001b[0;34m'.csv'\u001b[0m\u001b[0;34m)\u001b[0m\u001b[0;34m\u001b[0m\u001b[0;34m\u001b[0m\u001b[0m\n",
      "\u001b[0;31mDocstring:\u001b[0m     \n",
      "Dataplug class for retrieving data from some source. It's recommended\n",
      "that user-created dataplug inherit from this class to ensure compatibility.\n",
      "\n",
      "The initialization argument for each class will be different depending on\n",
      "the source. The main requirement is to keep the ``Dataplug.get_data`` method,\n",
      "and make sure the args and returns as defined here.\n",
      "\u001b[0;31mFile:\u001b[0m           ~/Desktop/SLAC_clone/solar-data-tools/sdt_dask/dataplugs/csv_plug.py\n",
      "\u001b[0;31mType:\u001b[0m           type\n",
      "\u001b[0;31mSubclasses:\u001b[0m     "
     ]
    }
   ],
   "source": [
    "LocalFiles?"
   ]
  },
  {
   "cell_type": "code",
   "execution_count": 5,
   "id": "29f50626-c112-4dde-a227-6547af0e3c44",
   "metadata": {
    "ExecuteTime": {
     "end_time": "2024-03-23T17:09:13.981222Z",
     "start_time": "2024-03-23T17:09:13.933081Z"
    }
   },
   "outputs": [
    {
     "data": {
      "text/plain": [
       "[('ALL0VALUETESTFILE',),\n",
       " ('ZT162185000441C1203',),\n",
       " ('0022F20139C6',),\n",
       " ('NotExist',)]"
      ]
     },
     "execution_count": 5,
     "metadata": {},
     "output_type": "execute_result"
    }
   ],
   "source": [
    "path = \"../dataplugs/example_data/\"\n",
    "local_file_data_plug = LocalFiles(path_to_files=path)\n",
    "local_file_keys = [(os.path.basename(fname)[:-4],) for fname in glob.glob(path + \"*\")]\n",
    "local_file_keys.append(('NotExist',))\n",
    "local_file_keys"
   ]
  },
  {
   "cell_type": "code",
   "execution_count": 6,
   "id": "60ee51ff-293e-4480-a0c1-d596ba2111e4",
   "metadata": {
    "ExecuteTime": {
     "end_time": "2024-03-23T17:09:15.816849Z",
     "start_time": "2024-03-23T17:09:13.981222Z"
    },
    "scrolled": true
   },
   "outputs": [
    {
     "name": "stdout",
     "output_type": "stream",
     "text": [
      "Loading file ALL0VALUETESTFILE...\n"
     ]
    },
    {
     "name": "stderr",
     "output_type": "stream",
     "text": [
      "/Users/liuhaoyang/Desktop/SLAC_clone/solar-data-tools/solardatatools/time_axis_manipulation.py:79: FutureWarning: Series.__getitem__ treating keys as positions is deprecated. In a future version, integer keys will always be treated as labels (consistent with DataFrame behavior). To access a value by position, use `ser.iloc[pos]`\n",
      "  meas_name = str(df_view[name_key][0])\n"
     ]
    },
    {
     "data": {
      "text/html": [
       "<div>\n",
       "<style scoped>\n",
       "    .dataframe tbody tr th:only-of-type {\n",
       "        vertical-align: middle;\n",
       "    }\n",
       "\n",
       "    .dataframe tbody tr th {\n",
       "        vertical-align: top;\n",
       "    }\n",
       "\n",
       "    .dataframe thead th {\n",
       "        text-align: right;\n",
       "    }\n",
       "</style>\n",
       "<table border=\"1\" class=\"dataframe\">\n",
       "  <thead>\n",
       "    <tr style=\"text-align: right;\">\n",
       "      <th></th>\n",
       "      <th>ac_power_01</th>\n",
       "    </tr>\n",
       "    <tr>\n",
       "      <th>ts</th>\n",
       "      <th></th>\n",
       "    </tr>\n",
       "  </thead>\n",
       "  <tbody>\n",
       "    <tr>\n",
       "      <th>2013-12-31 16:01:00</th>\n",
       "      <td>0</td>\n",
       "    </tr>\n",
       "    <tr>\n",
       "      <th>2013-12-31 16:16:00</th>\n",
       "      <td>0</td>\n",
       "    </tr>\n",
       "    <tr>\n",
       "      <th>2013-12-31 16:31:00</th>\n",
       "      <td>0</td>\n",
       "    </tr>\n",
       "    <tr>\n",
       "      <th>2013-12-31 16:46:00</th>\n",
       "      <td>0</td>\n",
       "    </tr>\n",
       "    <tr>\n",
       "      <th>2013-12-31 17:01:00</th>\n",
       "      <td>0</td>\n",
       "    </tr>\n",
       "    <tr>\n",
       "      <th>...</th>\n",
       "      <td>...</td>\n",
       "    </tr>\n",
       "    <tr>\n",
       "      <th>2015-06-09 14:56:00</th>\n",
       "      <td>0</td>\n",
       "    </tr>\n",
       "    <tr>\n",
       "      <th>2015-06-09 15:11:00</th>\n",
       "      <td>0</td>\n",
       "    </tr>\n",
       "    <tr>\n",
       "      <th>2015-06-09 15:26:00</th>\n",
       "      <td>0</td>\n",
       "    </tr>\n",
       "    <tr>\n",
       "      <th>2015-06-09 15:41:00</th>\n",
       "      <td>0</td>\n",
       "    </tr>\n",
       "    <tr>\n",
       "      <th>2015-06-09 15:56:00</th>\n",
       "      <td>0</td>\n",
       "    </tr>\n",
       "  </tbody>\n",
       "</table>\n",
       "<p>9998 rows × 1 columns</p>\n",
       "</div>"
      ],
      "text/plain": [
       "                     ac_power_01\n",
       "ts                              \n",
       "2013-12-31 16:01:00            0\n",
       "2013-12-31 16:16:00            0\n",
       "2013-12-31 16:31:00            0\n",
       "2013-12-31 16:46:00            0\n",
       "2013-12-31 17:01:00            0\n",
       "...                          ...\n",
       "2015-06-09 14:56:00            0\n",
       "2015-06-09 15:11:00            0\n",
       "2015-06-09 15:26:00            0\n",
       "2015-06-09 15:41:00            0\n",
       "2015-06-09 15:56:00            0\n",
       "\n",
       "[9998 rows x 1 columns]"
      ]
     },
     "execution_count": 6,
     "metadata": {},
     "output_type": "execute_result"
    }
   ],
   "source": [
    "local_file_data_plug.get_data(local_file_keys[0])"
   ]
  },
  {
   "cell_type": "markdown",
   "id": "0641c346-94c0-4b72-9ca6-833cff311cdf",
   "metadata": {},
   "source": [
    "### Set a local User-defined Client"
   ]
  },
  {
   "cell_type": "code",
   "execution_count": 7,
   "id": "5788f21b-6bd1-4c73-9296-d5f88426bccb",
   "metadata": {
    "ExecuteTime": {
     "end_time": "2024-03-23T17:09:15.864317Z",
     "start_time": "2024-03-23T17:09:15.817260Z"
    }
   },
   "outputs": [],
   "source": [
    "from dask.distributed import Client"
   ]
  },
  {
   "cell_type": "code",
   "execution_count": 8,
   "id": "205ce6a0-55c6-41cb-b484-4d4614df57de",
   "metadata": {
    "ExecuteTime": {
     "end_time": "2024-03-23T17:09:16.227475Z",
     "start_time": "2024-03-23T17:09:15.864317Z"
    },
    "scrolled": true
   },
   "outputs": [
    {
     "name": "stderr",
     "output_type": "stream",
     "text": [
      "/Users/liuhaoyang/anaconda3/envs/SLAC/lib/python3.10/site-packages/distributed/node.py:182: UserWarning: Port 8787 is already in use.\n",
      "Perhaps you already have a cluster running?\n",
      "Hosting the HTTP server on port 62335 instead\n",
      "  warnings.warn(\n",
      "/Users/liuhaoyang/anaconda3/envs/SLAC/lib/python3.10/site-packages/distributed/worker_memory.py:494: FutureWarning: Parameter memory_target_fraction has been deprecated and will be removed in a future version; please use dask config key distributed.worker.memory.target instead\n",
      "  warnings.warn(\n",
      "/Users/liuhaoyang/anaconda3/envs/SLAC/lib/python3.10/site-packages/distributed/worker_memory.py:494: FutureWarning: Parameter memory_spill_fraction has been deprecated and will be removed in a future version; please use dask config key distributed.worker.memory.spill instead\n",
      "  warnings.warn(\n",
      "/Users/liuhaoyang/anaconda3/envs/SLAC/lib/python3.10/site-packages/distributed/worker_memory.py:494: FutureWarning: Parameter memory_pause_fraction has been deprecated and will be removed in a future version; please use dask config key distributed.worker.memory.pause instead\n",
      "  warnings.warn(\n"
     ]
    },
    {
     "data": {
      "text/plain": [
       "'http://10.0.0.179:62335/status'"
      ]
     },
     "execution_count": 8,
     "metadata": {},
     "output_type": "execute_result"
    }
   ],
   "source": [
    "n_workers = 3\n",
    "threads_per_worker = 1\n",
    "total_system_memory = 12\n",
    "memory_per_worker = total_system_memory / n_workers\n",
    "local_client = Client(processes=False, memory_spill_fraction=False, memory_pause_fraction=False, memory_target_fraction=0.8, n_workers=n_workers, threads_per_worker=threads_per_worker, memory_limit=f\"{memory_per_worker}GiB\")\n",
    "local_client.dashboard_link"
   ]
  },
  {
   "cell_type": "code",
   "execution_count": 9,
   "id": "3087016d-3378-4160-96b1-91c5207553fb",
   "metadata": {
    "ExecuteTime": {
     "end_time": "2024-03-23T17:10:33.517103Z",
     "start_time": "2024-03-23T17:09:16.229477Z"
    }
   },
   "outputs": [
    {
     "name": "stderr",
     "output_type": "stream",
     "text": [
      "/Users/liuhaoyang/Desktop/SLAC_clone/solar-data-tools/solardatatools/time_axis_manipulation.py:79: FutureWarning: Series.__getitem__ treating keys as positions is deprecated. In a future version, integer keys will always be treated as labels (consistent with DataFrame behavior). To access a value by position, use `ser.iloc[pos]`\n",
      "  meas_name = str(df_view[name_key][0])\n",
      "/Users/liuhaoyang/Desktop/SLAC_clone/solar-data-tools/solardatatools/time_axis_manipulation.py:79: FutureWarning: Series.__getitem__ treating keys as positions is deprecated. In a future version, integer keys will always be treated as labels (consistent with DataFrame behavior). To access a value by position, use `ser.iloc[pos]`\n",
      "  meas_name = str(df_view[name_key][0])\n"
     ]
    },
    {
     "name": "stdout",
     "output_type": "stream",
     "text": [
      "Loading file 0022F20139C6...Loading file ALL0VALUETESTFILE...\n",
      "\n",
      "Loading file ZT162185000441C1203...\n",
      "Loading file NotExist...\n",
      "\n",
      "            *********************************************\n",
      "            * Solar Data Tools Data Onboarding Pipeline *\n",
      "            *********************************************\n",
      "\n",
      "            This pipeline runs a series of preprocessing, cleaning, and quality\n",
      "            control tasks on stand-alone PV power or irradiance time series data.\n",
      "            After the pipeline is run, the data may be plotted, filtered, or\n",
      "            further analyzed.\n",
      "\n",
      "            Authors: Bennet Meyers and Sara Miskovich, SLAC\n",
      "\n",
      "            (Tip: if you have a mosek [https://www.mosek.com/] license and have it\n",
      "            installed on your system, try setting solver='MOSEK' for a speedup)\n",
      "\n",
      "            This material is based upon work supported by the U.S. Department\n",
      "            of Energy's Office of Energy Efficiency and Renewable Energy (EERE)\n",
      "            under the Solar Energy Technologies Office Award Number 38529.\n",
      "\n",
      "            \n",
      "\n",
      "            *********************************************\n",
      "            * Solar Data Tools Data Onboarding Pipeline *\n",
      "            *********************************************\n",
      "\n",
      "            This pipeline runs a series of preprocessing, cleaning, and quality\n",
      "            control tasks on stand-alone PV power or irradiance time series data.\n",
      "            After the pipeline is run, the data may be plotted, filtered, or\n",
      "            further analyzed.\n",
      "\n",
      "            Authors: Bennet Meyers and Sara Miskovich, SLAC\n",
      "\n",
      "            (Tip: if you have a mosek [https://www.mosek.com/] license and have it\n",
      "            installed on your system, try setting solver='MOSEK' for a speedup)\n",
      "\n",
      "            This material is based upon work supported by the U.S. Department\n",
      "            of Energy's Office of Energy Efficiency and Renewable Energy (EERE)\n",
      "            under the Solar Energy Technologies Office Award Number 38529.\n",
      "\n",
      "            \n",
      "\n",
      "            *********************************************\n",
      "            * Solar Data Tools Data Onboarding Pipeline *\n",
      "            *********************************************\n",
      "\n",
      "            This pipeline runs a series of preprocessing, cleaning, and quality\n",
      "            control tasks on stand-alone PV power or irradiance time series data.\n",
      "            After the pipeline is run, the data may be plotted, filtered, or\n",
      "            further analyzed.\n",
      "\n",
      "            Authors: Bennet Meyers and Sara Miskovich, SLAC\n",
      "\n",
      "            (Tip: if you have a mosek [https://www.mosek.com/] license and have it\n",
      "            installed on your system, try setting solver='MOSEK' for a speedup)\n",
      "\n",
      "            This material is based upon work supported by the U.S. Department\n",
      "            of Energy's Office of Energy Efficiency and Renewable Energy (EERE)\n",
      "            under the Solar Energy Technologies Office Award Number 38529.\n",
      "\n",
      "            \n"
     ]
    },
    {
     "name": "stderr",
     "output_type": "stream",
     "text": [
      "/Users/liuhaoyang/Desktop/SLAC_clone/solar-data-tools/solardatatools/time_axis_manipulation.py:79: FutureWarning: Series.__getitem__ treating keys as positions is deprecated. In a future version, integer keys will always be treated as labels (consistent with DataFrame behavior). To access a value by position, use `ser.iloc[pos]`\n",
      "  meas_name = str(df_view[name_key][0])\n",
      "task list:   0%|                                          | 0/7 [00:00<?, ?it/s]/Users/liuhaoyang/Desktop/SLAC_clone/solar-data-tools/solardatatools/time_axis_manipulation.py:146: FutureWarning: Series.__getitem__ treating keys as positions is deprecated. In a future version, integer keys will always be treated as labels (consistent with DataFrame behavior). To access a value by position, use `ser.iloc[pos]`\n",
      "  if avg_day[0] >= thresh:\n",
      "/Users/liuhaoyang/Desktop/SLAC_clone/solar-data-tools/solardatatools/time_axis_manipulation.py:152: FutureWarning: Series.__getitem__ treating keys as positions is deprecated. In a future version, integer keys will always be treated as labels (consistent with DataFrame behavior). To access a value by position, use `ser.iloc[pos]`\n",
      "  if avg_day[-1] >= thresh:\n",
      "\n",
      "\u001b[A/Users/liuhaoyang/Desktop/SLAC_clone/solar-data-tools/solardatatools/time_axis_manipulation.py:146: FutureWarning: Series.__getitem__ treating keys as positions is deprecated. In a future version, integer keys will always be treated as labels (consistent with DataFrame behavior). To access a value by position, use `ser.iloc[pos]`\n",
      "  if avg_day[0] >= thresh:\n",
      "/Users/liuhaoyang/Desktop/SLAC_clone/solar-data-tools/solardatatools/time_axis_manipulation.py:152: FutureWarning: Series.__getitem__ treating keys as positions is deprecated. In a future version, integer keys will always be treated as labels (consistent with DataFrame behavior). To access a value by position, use `ser.iloc[pos]`\n",
      "  if avg_day[-1] >= thresh:\n",
      "task list:   0%|                                          | 0/7 [00:00<?, ?it/s]\n",
      "/Users/liuhaoyang/Desktop/SLAC_clone/solar-data-tools/solardatatools/time_axis_manipulation.py:146: FutureWarning: Series.__getitem__ treating keys as positions is deprecated. In a future version, integer keys will always be treated as labels (consistent with DataFrame behavior). To access a value by position, use `ser.iloc[pos]`\n",
      "  if avg_day[0] >= thresh:\n",
      "/Users/liuhaoyang/Desktop/SLAC_clone/solar-data-tools/solardatatools/time_axis_manipulation.py:152: FutureWarning: Series.__getitem__ treating keys as positions is deprecated. In a future version, integer keys will always be treated as labels (consistent with DataFrame behavior). To access a value by position, use `ser.iloc[pos]`\n",
      "  if avg_day[-1] >= thresh:\n"
     ]
    },
    {
     "name": "stdout",
     "output_type": "stream",
     "text": [
      "'DataHandler' object has no attribute 'total_time'\n"
     ]
    },
    {
     "name": "stderr",
     "output_type": "stream",
     "text": [
      "\n",
      "\u001b[A\n",
      "\u001b[A\n",
      "task list: 100%|██████████████████████████████████| 7/7 [00:19<00:00,  2.81s/it]\n"
     ]
    },
    {
     "name": "stdout",
     "output_type": "stream",
     "text": [
      "\n",
      "\n",
      "total time: 19.69 seconds\n",
      "--------------------------------\n",
      "Breakdown\n",
      "--------------------------------\n",
      "Preprocessing              0.30s\n",
      "Cleaning                   3.52s\n",
      "Filtering/Summarizing      15.87s\n",
      "    Data quality           0.11s\n",
      "    Clear day detect       0.19s\n",
      "    Clipping detect        11.01s\n",
      "    Capacity change detect 4.55s\n",
      "\n",
      "\n",
      "            ************************************************\n",
      "            * Solar Data Tools Degradation Estimation Tool *\n",
      "            ************************************************\n",
      "\n",
      "            Monte Carlo sampling to generate a distributional estimate\n",
      "            of the degradation rate [%/yr]\n",
      "\n",
      "            The distribution typically stabilizes in 50-100 samples.\n",
      "\n",
      "            Author: Bennet Meyers, SLAC\n",
      "\n",
      "            This material is based upon work supported by the U.S. Department\n",
      "            of Energy's Office of Energy Efficiency and Renewable Energy (EERE)\n",
      "            under the Solar Energy Technologies Office Award Number 38529.\n",
      "\n",
      "            \n"
     ]
    },
    {
     "name": "stderr",
     "output_type": "stream",
     "text": [
      "                      \n",
      "                                                                                \n",
      "10it [00:02,  3.60it/s]                                                         "
     ]
    },
    {
     "name": "stdout",
     "output_type": "stream",
     "text": [
      "P50, P02.5, P97.5: -2.316, -3.015, -1.770\n",
      "changes: -2.339e-01, -5.062e-03, 0.000e+00\n"
     ]
    },
    {
     "name": "stderr",
     "output_type": "stream",
     "text": [
      "                       \n",
      "                                                                                \n",
      "20it [00:05,  3.44it/s]                                                         "
     ]
    },
    {
     "name": "stdout",
     "output_type": "stream",
     "text": [
      "P50, P02.5, P97.5: -1.848, -3.015, -0.208\n",
      "changes: 9.059e-02, 0.000e+00, 0.000e+00\n"
     ]
    },
    {
     "name": "stderr",
     "output_type": "stream",
     "text": [
      "21it [00:05,  3.35it/s]"
     ]
    },
    {
     "name": "stdout",
     "output_type": "stream",
     "text": [
      "Invoking periodic timeshift detector.\n"
     ]
    },
    {
     "name": "stderr",
     "output_type": "stream",
     "text": [
      "task list: 100%|██████████████████████████████████| 7/7 [00:25<00:00,  3.69s/it]\n",
      "23it [00:06,  3.26it/s]"
     ]
    },
    {
     "name": "stdout",
     "output_type": "stream",
     "text": [
      "\n",
      "\n",
      "total time: 25.84 seconds\n",
      "--------------------------------\n",
      "Breakdown\n",
      "--------------------------------\n",
      "Preprocessing              1.34s\n",
      "Cleaning                   10.93s\n",
      "Filtering/Summarizing      13.57s\n",
      "    Data quality           0.05s\n",
      "    Clear day detect       0.08s\n",
      "    Clipping detect        10.36s\n",
      "    Capacity change detect 3.08s\n",
      "\n"
     ]
    },
    {
     "name": "stderr",
     "output_type": "stream",
     "text": [
      "30it [00:07,  4.34it/s]"
     ]
    },
    {
     "name": "stdout",
     "output_type": "stream",
     "text": [
      "P50, P02.5, P97.5: -1.848, -3.015, -0.208\n",
      "changes: 0.000e+00, 1.265e-04, -1.254e-04\n"
     ]
    },
    {
     "name": "stderr",
     "output_type": "stream",
     "text": [
      "40it [00:10,  4.41it/s]"
     ]
    },
    {
     "name": "stdout",
     "output_type": "stream",
     "text": [
      "P50, P02.5, P97.5: -1.848, -4.692, -0.210\n",
      "changes: 0.000e+00, -8.729e-01, -1.254e-04\n"
     ]
    },
    {
     "name": "stderr",
     "output_type": "stream",
     "text": [
      "50it [00:12,  4.33it/s]"
     ]
    },
    {
     "name": "stdout",
     "output_type": "stream",
     "text": [
      "P50, P02.5, P97.5: -1.848, -4.448, 0.466\n",
      "changes: 0.000e+00, 2.438e-02, -1.697e-02\n"
     ]
    },
    {
     "name": "stderr",
     "output_type": "stream",
     "text": [
      "60it [00:14,  4.48it/s]"
     ]
    },
    {
     "name": "stdout",
     "output_type": "stream",
     "text": [
      "P50, P02.5, P97.5: -1.848, -4.204, 0.297\n",
      "changes: -1.354e-02, 2.438e-02, -1.697e-02\n"
     ]
    },
    {
     "name": "stderr",
     "output_type": "stream",
     "text": [
      "70it [00:17,  4.39it/s]"
     ]
    },
    {
     "name": "stdout",
     "output_type": "stream",
     "text": [
      "P50, P02.5, P97.5: -1.796, -3.978, 0.170\n",
      "changes: 1.260e-02, 1.769e-02, -8.783e-04\n"
     ]
    },
    {
     "name": "stderr",
     "output_type": "stream",
     "text": [
      "80it [00:19,  4.47it/s]"
     ]
    },
    {
     "name": "stdout",
     "output_type": "stream",
     "text": [
      "P50, P02.5, P97.5: -1.770, -4.045, 0.460\n",
      "changes: 0.000e+00, 6.989e-04, -1.053e-02\n"
     ]
    },
    {
     "name": "stderr",
     "output_type": "stream",
     "text": [
      "90it [00:21,  4.32it/s]"
     ]
    },
    {
     "name": "stdout",
     "output_type": "stream",
     "text": [
      "P50, P02.5, P97.5: -1.732, -4.038, 0.437\n",
      "changes: 2.518e-03, 6.989e-04, 7.191e-02\n"
     ]
    },
    {
     "name": "stderr",
     "output_type": "stream",
     "text": [
      "99it [00:24,  4.12it/s]\n"
     ]
    },
    {
     "name": "stdout",
     "output_type": "stream",
     "text": [
      "P50, P02.5, P97.5: -1.696, -4.031, 0.368\n",
      "changes: -1.752e-03, 6.989e-04, -6.893e-03\n",
      "Performing loss factor analysis...\n",
      "\n",
      "                    ***************************************\n",
      "                    * Solar Data Tools Loss Factor Report *\n",
      "                    ***************************************\n",
      "\n",
      "                    degradation rate [%/yr]:                    -1.711\n",
      "                    deg. rate 95% confidence:          [-4.031,  0.368]\n",
      "                    total energy loss [kWh]:                  -14993.1\n",
      "                    bulk deg. energy loss (gain) [kWh]:         -199.7\n",
      "                    soiling energy loss [kWh]:                   -43.1\n",
      "                    capacity change energy loss [kWh]:            -0.6\n",
      "                    weather energy loss [kWh]:                 -1533.9\n",
      "                    system outage loss [kWh]:                 -13215.6\n",
      "                    \n",
      "CPU times: user 31.3 s, sys: 18.1 s, total: 49.4 s\n",
      "Wall time: 44.8 s\n"
     ]
    }
   ],
   "source": [
    "%%time\n",
    "dask_tool = Runner(local_file_data_plug, local_client, output_path=\"../results/\")\n",
    "\n",
    "dask_tool.set_up(local_file_keys, fix_shifts=True, verbose=True)\n",
    "dask_tool.get_result()"
   ]
  },
  {
   "cell_type": "markdown",
   "id": "4be66c03-499c-495d-8634-ded1a3ba638b",
   "metadata": {},
   "source": [
    "## AWS Fargate Client example\n",
    "use LocalFile dataplug and fargate client"
   ]
  },
  {
   "cell_type": "markdown",
   "id": "302b3a32-aebf-44d2-94fc-2e241e41059a",
   "metadata": {},
   "source": [
    "### Instantiate a pvdaq data plug\n"
   ]
  },
  {
   "cell_type": "code",
   "execution_count": 10,
   "id": "071459fd-3b57-42cc-b693-b1f708df4059",
   "metadata": {
    "ExecuteTime": {
     "end_time": "2024-03-23T17:10:33.580103Z",
     "start_time": "2024-03-23T17:10:33.517103Z"
    }
   },
   "outputs": [],
   "source": [
    "from sdt_dask.dataplugs.pvdaq_plug import PVDAQPlug"
   ]
  },
  {
   "cell_type": "code",
   "execution_count": 12,
   "id": "d88c0a81-537b-41ea-a001-cd18d01743de",
   "metadata": {
    "ExecuteTime": {
     "end_time": "2024-03-23T17:10:33.703487Z",
     "start_time": "2024-03-23T17:10:33.644103Z"
    }
   },
   "outputs": [],
   "source": [
    "pvdaq_data_plug = PVDAQPlug()"
   ]
  },
  {
   "cell_type": "markdown",
   "id": "18bb904b-e500-42f3-9d0b-23ba1f197baf",
   "metadata": {},
   "source": [
    "### Set up a Fargate cluster client\n"
   ]
  },
  {
   "cell_type": "code",
   "execution_count": 13,
   "id": "64b65c69-6ed3-4989-ab66-bbf4e2e6c3eb",
   "metadata": {
    "ExecuteTime": {
     "end_time": "2024-03-23T17:10:33.925814Z",
     "start_time": "2024-03-23T17:10:33.703487Z"
    }
   },
   "outputs": [],
   "source": [
    "from sdt_dask.clients.aws.fargate import Fargate"
   ]
  },
  {
   "cell_type": "code",
   "execution_count": 14,
   "id": "ef374f93-7183-4011-b066-4cf1e4ff971c",
   "metadata": {
    "ExecuteTime": {
     "end_time": "2024-03-23T17:10:33.989617Z",
     "start_time": "2024-03-23T17:10:33.926815Z"
    }
   },
   "outputs": [],
   "source": [
    "# Use should define an environment variable for secret key\n",
    "PA_NUMBER = os.getenv(\"project-pa-number\")\n",
    "AWS_DEFAULT_REGION = os.getenv('AWS_DEFAULT_REGION')\n",
    "ENVIRONMENT = {\n",
    "    'AWS_ACCESS_KEY_ID' : os.getenv('AWS_ACCESS_KEY_ID'),\n",
    "    'AWS_SECRET_ACCESS_KEY' : os.getenv('AWS_SECRET_ACCESS_KEY')\n",
    "}"
   ]
  },
  {
   "cell_type": "code",
   "execution_count": 15,
   "id": "79f4a290-df58-4347-ae2d-fd67c6bb8ab5",
   "metadata": {
    "ExecuteTime": {
     "end_time": "2024-03-23T17:10:34.052279Z",
     "start_time": "2024-03-23T17:10:33.990618Z"
    }
   },
   "outputs": [],
   "source": [
    "# The Tag, VPC, image, workers, threads per worker and environment need to be user defined and passed to the client class\n",
    "TAGS = {\n",
    "    \"project-pa-number\": PA_NUMBER,\n",
    "    \"project\": \"pvinsight\"\n",
    "}\n",
    "VPC = \"vpc-ab2ff6d3\" # for us-west-2\n",
    "IMAGE = \"nimishy/sdt-windows:latest\"\n",
    "\n",
    "WORKERS = 3\n",
    "THREADS_PER_WORKER = 1"
   ]
  },
  {
   "cell_type": "code",
   "execution_count": null,
   "id": "37d6958f-0830-43ec-b1f4-7965f44c02b5",
   "metadata": {
    "ExecuteTime": {
     "end_time": "2024-03-23T17:14:27.286163Z",
     "start_time": "2024-03-23T17:13:26.553946Z"
    },
    "collapsed": false,
    "jupyter": {
     "outputs_hidden": false
    }
   },
   "outputs": [],
   "source": [
    "pvdaq_keys = [(34, 2011), (35, 2015), (51,2012)]\n",
    "dask_tool = SDTDask(pvdaq_data_plug, fargate_client, output_path=\"../results/\")\n",
    "dask_tool.set_up(pvdaq_keys, fix_shifts=True, verbose=True)\n",
    "dask_tool.get_result()"
   ]
  }
 ],
 "metadata": {
  "kernelspec": {
   "display_name": "Python 3 (ipykernel)",
   "language": "python",
   "name": "python3"
  },
  "language_info": {
   "codemirror_mode": {
    "name": "ipython",
    "version": 3
   },
   "file_extension": ".py",
   "mimetype": "text/x-python",
   "name": "python",
   "nbconvert_exporter": "python",
   "pygments_lexer": "ipython3",
   "version": "3.10.13"
  }
 },
 "nbformat": 4,
 "nbformat_minor": 5
}
