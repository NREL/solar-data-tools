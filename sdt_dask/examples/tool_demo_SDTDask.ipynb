{
 "cells": [
  {
   "cell_type": "code",
   "execution_count": 1,
   "id": "f3989f27-e6d3-4640-a00f-608c1a24a03e",
   "metadata": {
    "ExecuteTime": {
     "end_time": "2024-03-23T17:09:11.276568Z",
     "start_time": "2024-03-23T17:09:11.245538Z"
    }
   },
   "outputs": [],
   "source": [
    "%load_ext autoreload\n",
    "%autoreload 2"
   ]
  },
  {
   "cell_type": "code",
   "execution_count": 2,
   "id": "f03a3d5b-b3d7-4b35-b031-4d6a35936e6f",
   "metadata": {
    "ExecuteTime": {
     "end_time": "2024-03-23T17:09:13.742694Z",
     "start_time": "2024-03-23T17:09:11.277569Z"
    }
   },
   "outputs": [],
   "source": [
    "import glob, os\n",
    "from sdt_dask.dask_tool.sdt_dask import SDTDask"
   ]
  },
  {
   "cell_type": "code",
   "execution_count": 3,
   "id": "b22a24df-30d2-4121-ada5-e107ee0288c9",
   "metadata": {
    "ExecuteTime": {
     "end_time": "2024-03-23T17:09:13.822692Z",
     "start_time": "2024-03-23T17:09:13.742694Z"
    }
   },
   "outputs": [
    {
     "data": {
      "text/plain": [
       "\u001b[0;31mInit signature:\u001b[0m \u001b[0mSDTDask\u001b[0m\u001b[0;34m(\u001b[0m\u001b[0mdata_plug\u001b[0m\u001b[0;34m,\u001b[0m \u001b[0mclient\u001b[0m\u001b[0;34m,\u001b[0m \u001b[0moutput_path\u001b[0m\u001b[0;34m=\u001b[0m\u001b[0;34m'../results/'\u001b[0m\u001b[0;34m)\u001b[0m\u001b[0;34m\u001b[0m\u001b[0;34m\u001b[0m\u001b[0m\n",
       "\u001b[0;31mDocstring:\u001b[0m     \n",
       "A class to run the SolarDataTools pipeline on a Dask cluster.\n",
       "Will handle invalid data keys and failed datasets.\n",
       "\n",
       ":param keys: \n",
       "    data_plug (:obj:`DataPlug`): The data plug object.\n",
       "    client (:obj:`Client`): The Dask client object.\n",
       "    output_path (str): The path to save the results.\n",
       "\u001b[0;31mFile:\u001b[0m           /mnt/c/Users/22720/OneDrive/Documents/solar-data-tools/sdt_dask/dask_tool/sdt_dask.py\n",
       "\u001b[0;31mType:\u001b[0m           type\n",
       "\u001b[0;31mSubclasses:\u001b[0m     "
      ]
     },
     "metadata": {},
     "output_type": "display_data"
    }
   ],
   "source": [
    "SDTDask?"
   ]
  },
  {
   "cell_type": "markdown",
   "id": "12773784-0848-440a-9dfe-500547eb938d",
   "metadata": {},
   "source": [
    "## Local Client example \n",
    " use local csv dataplug and local client"
   ]
  },
  {
   "cell_type": "markdown",
   "id": "5c7826b2-6fce-4e57-99cf-b99c81d847e2",
   "metadata": {},
   "source": [
    "### Instantiate a localfile data plug"
   ]
  },
  {
   "cell_type": "code",
   "execution_count": 4,
   "id": "a8d25936-9afe-4f69-a710-c02c9cd4b476",
   "metadata": {
    "ExecuteTime": {
     "end_time": "2024-03-23T17:09:13.885081Z",
     "start_time": "2024-03-23T17:09:13.823694Z"
    }
   },
   "outputs": [],
   "source": [
    "from sdt_dask.dataplugs.csv_plug import LocalFiles"
   ]
  },
  {
   "cell_type": "code",
   "execution_count": 5,
   "id": "e47da4b0-82d7-488b-8657-0257fafbcbfb",
   "metadata": {
    "ExecuteTime": {
     "end_time": "2024-03-23T17:09:13.933081Z",
     "start_time": "2024-03-23T17:09:13.886083Z"
    }
   },
   "outputs": [
    {
     "data": {
      "text/plain": [
       "\u001b[0;31mInit signature:\u001b[0m \u001b[0mLocalFiles\u001b[0m\u001b[0;34m(\u001b[0m\u001b[0mpath_to_files\u001b[0m\u001b[0;34m,\u001b[0m \u001b[0mext\u001b[0m\u001b[0;34m=\u001b[0m\u001b[0;34m'.csv'\u001b[0m\u001b[0;34m)\u001b[0m\u001b[0;34m\u001b[0m\u001b[0;34m\u001b[0m\u001b[0m\n",
       "\u001b[0;31mDocstring:\u001b[0m     \n",
       "Dataplug class for retrieving data from some source. It's recommended\n",
       "that user-created dataplug inherit from this class to ensure compatibility.\n",
       "\n",
       "The initialization argument for each class will be different depending on\n",
       "the source. The main requirement is to keep the ``Dataplug.get_data`` method,\n",
       "and make sure the args and returns as defined here.\n",
       "\u001b[0;31mFile:\u001b[0m           /mnt/c/Users/22720/OneDrive/Documents/solar-data-tools/sdt_dask/dataplugs/csv_plug.py\n",
       "\u001b[0;31mType:\u001b[0m           type\n",
       "\u001b[0;31mSubclasses:\u001b[0m     "
      ]
     },
     "metadata": {},
     "output_type": "display_data"
    }
   ],
   "source": [
    "LocalFiles?"
   ]
  },
  {
   "cell_type": "code",
   "execution_count": 6,
   "id": "29f50626-c112-4dde-a227-6547af0e3c44",
   "metadata": {
    "ExecuteTime": {
     "end_time": "2024-03-23T17:09:13.981222Z",
     "start_time": "2024-03-23T17:09:13.933081Z"
    }
   },
   "outputs": [
    {
     "data": {
      "text/plain": [
       "[('001C4B0008A5',), ('ALL0VALUETESTFILE',), ('NotExist',)]"
      ]
     },
     "execution_count": 6,
     "metadata": {},
     "output_type": "execute_result"
    }
   ],
   "source": [
    "path = \"../dataplugs/example_data/\"\n",
    "# path = \"../dataplugs/spwr_sensor_0/\"\n",
    "local_file_data_plug = LocalFiles(path_to_files=path)\n",
    "local_file_keys = [(os.path.basename(fname)[:-4],) for fname in glob.glob(path + \"*\")]\n",
    "local_file_keys.append(('NotExist',))\n",
    "local_file_keys"
   ]
  },
  {
   "cell_type": "code",
   "execution_count": 7,
   "id": "60ee51ff-293e-4480-a0c1-d596ba2111e4",
   "metadata": {
    "ExecuteTime": {
     "end_time": "2024-03-23T17:09:15.816849Z",
     "start_time": "2024-03-23T17:09:13.981222Z"
    },
    "scrolled": true
   },
   "outputs": [
    {
     "name": "stdout",
     "output_type": "stream",
     "text": [
      "Loading file 001C4B0008A5...\n"
     ]
    },
    {
     "data": {
      "text/html": [
       "<div>\n",
       "<style scoped>\n",
       "    .dataframe tbody tr th:only-of-type {\n",
       "        vertical-align: middle;\n",
       "    }\n",
       "\n",
       "    .dataframe tbody tr th {\n",
       "        vertical-align: top;\n",
       "    }\n",
       "\n",
       "    .dataframe thead th {\n",
       "        text-align: right;\n",
       "    }\n",
       "</style>\n",
       "<table border=\"1\" class=\"dataframe\">\n",
       "  <thead>\n",
       "    <tr style=\"text-align: right;\">\n",
       "      <th></th>\n",
       "      <th>ac_power_01</th>\n",
       "    </tr>\n",
       "    <tr>\n",
       "      <th>ts</th>\n",
       "      <th></th>\n",
       "    </tr>\n",
       "  </thead>\n",
       "  <tbody>\n",
       "    <tr>\n",
       "      <th>2017-09-13 06:22:32</th>\n",
       "      <td>0.0</td>\n",
       "    </tr>\n",
       "    <tr>\n",
       "      <th>2017-09-13 06:37:32</th>\n",
       "      <td>18.0</td>\n",
       "    </tr>\n",
       "    <tr>\n",
       "      <th>2017-09-13 06:52:32</th>\n",
       "      <td>53.0</td>\n",
       "    </tr>\n",
       "    <tr>\n",
       "      <th>2017-09-13 07:07:35</th>\n",
       "      <td>70.0</td>\n",
       "    </tr>\n",
       "    <tr>\n",
       "      <th>2017-09-13 07:22:34</th>\n",
       "      <td>136.0</td>\n",
       "    </tr>\n",
       "    <tr>\n",
       "      <th>...</th>\n",
       "      <td>...</td>\n",
       "    </tr>\n",
       "    <tr>\n",
       "      <th>2018-10-12 16:51:04</th>\n",
       "      <td>217.0</td>\n",
       "    </tr>\n",
       "    <tr>\n",
       "      <th>2018-10-12 17:06:04</th>\n",
       "      <td>131.0</td>\n",
       "    </tr>\n",
       "    <tr>\n",
       "      <th>2018-10-12 17:21:04</th>\n",
       "      <td>54.0</td>\n",
       "    </tr>\n",
       "    <tr>\n",
       "      <th>2018-10-12 17:36:04</th>\n",
       "      <td>15.0</td>\n",
       "    </tr>\n",
       "    <tr>\n",
       "      <th>2018-10-12 17:51:04</th>\n",
       "      <td>0.0</td>\n",
       "    </tr>\n",
       "  </tbody>\n",
       "</table>\n",
       "<p>18188 rows × 1 columns</p>\n",
       "</div>"
      ],
      "text/plain": [
       "                     ac_power_01\n",
       "ts                              \n",
       "2017-09-13 06:22:32          0.0\n",
       "2017-09-13 06:37:32         18.0\n",
       "2017-09-13 06:52:32         53.0\n",
       "2017-09-13 07:07:35         70.0\n",
       "2017-09-13 07:22:34        136.0\n",
       "...                          ...\n",
       "2018-10-12 16:51:04        217.0\n",
       "2018-10-12 17:06:04        131.0\n",
       "2018-10-12 17:21:04         54.0\n",
       "2018-10-12 17:36:04         15.0\n",
       "2018-10-12 17:51:04          0.0\n",
       "\n",
       "[18188 rows x 1 columns]"
      ]
     },
     "execution_count": 7,
     "metadata": {},
     "output_type": "execute_result"
    }
   ],
   "source": [
    "local_file_data_plug.get_data(local_file_keys[0])"
   ]
  },
  {
   "cell_type": "markdown",
   "id": "0641c346-94c0-4b72-9ca6-833cff311cdf",
   "metadata": {},
   "source": [
    "### Set a local User-defined Client"
   ]
  },
  {
   "cell_type": "code",
   "execution_count": 8,
   "id": "5788f21b-6bd1-4c73-9296-d5f88426bccb",
   "metadata": {
    "ExecuteTime": {
     "end_time": "2024-03-23T17:09:15.864317Z",
     "start_time": "2024-03-23T17:09:15.817260Z"
    }
   },
   "outputs": [],
   "source": [
    "from dask.distributed import Client"
   ]
  },
  {
   "cell_type": "code",
   "execution_count": 9,
   "id": "205ce6a0-55c6-41cb-b484-4d4614df57de",
   "metadata": {
    "ExecuteTime": {
     "end_time": "2024-03-23T17:09:16.227475Z",
     "start_time": "2024-03-23T17:09:15.864317Z"
    },
    "scrolled": true
   },
   "outputs": [
    {
     "name": "stderr",
     "output_type": "stream",
     "text": [
      "/home/zhang/miniconda3/envs/manual-env/lib/python3.10/site-packages/distributed/worker_memory.py:494: FutureWarning: Parameter memory_target_fraction has been deprecated and will be removed in a future version; please use dask config key distributed.worker.memory.target instead\n",
      "  warnings.warn(\n",
      "/home/zhang/miniconda3/envs/manual-env/lib/python3.10/site-packages/distributed/worker_memory.py:494: FutureWarning: Parameter memory_spill_fraction has been deprecated and will be removed in a future version; please use dask config key distributed.worker.memory.spill instead\n",
      "  warnings.warn(\n",
      "/home/zhang/miniconda3/envs/manual-env/lib/python3.10/site-packages/distributed/worker_memory.py:494: FutureWarning: Parameter memory_pause_fraction has been deprecated and will be removed in a future version; please use dask config key distributed.worker.memory.pause instead\n",
      "  warnings.warn(\n"
     ]
    },
    {
     "data": {
      "text/plain": [
       "'http://172.21.212.11:8787/status'"
      ]
     },
     "execution_count": 9,
     "metadata": {},
     "output_type": "execute_result"
    },
    {
     "name": "stdout",
     "output_type": "stream",
     "text": [
      "Loading file ALL0VALUETESTFILE...\n",
      "Loading file NotExist...\n",
      "Loading file 001C4B0008A5...\n",
      "\n",
      "            *********************************************\n",
      "            * Solar Data Tools Data Onboarding Pipeline *\n",
      "            *********************************************\n",
      "\n",
      "            This pipeline runs a series of preprocessing, cleaning, and quality\n",
      "            control tasks on stand-alone PV power or irradiance time series data.\n",
      "            After the pipeline is run, the data may be plotted, filtered, or\n",
      "            further analyzed.\n",
      "\n",
      "            Authors: Bennet Meyers and Sara Miskovich, SLAC\n",
      "\n",
      "            (Tip: if you have a mosek [https://www.mosek.com/] license and have it\n",
      "            installed on your system, try setting solver='MOSEK' for a speedup)\n",
      "\n",
      "            This material is based upon work supported by the U.S. Department\n",
      "            of Energy's Office of Energy Efficiency and Renewable Energy (EERE)\n",
      "            under the Solar Energy Technologies Office Award Number 38529.\n",
      "\n",
      "            \n",
      "\n",
      "            *********************************************\n",
      "            * Solar Data Tools Data Onboarding Pipeline *\n",
      "            *********************************************\n",
      "\n",
      "            This pipeline runs a series of preprocessing, cleaning, and quality\n",
      "            control tasks on stand-alone PV power or irradiance time series data.\n",
      "            After the pipeline is run, the data may be plotted, filtered, or\n",
      "            further analyzed.\n",
      "\n",
      "            Authors: Bennet Meyers and Sara Miskovich, SLAC\n",
      "\n",
      "            (Tip: if you have a mosek [https://www.mosek.com/] license and have it\n",
      "            installed on your system, try setting solver='MOSEK' for a speedup)\n",
      "\n",
      "            This material is based upon work supported by the U.S. Department\n",
      "            of Energy's Office of Energy Efficiency and Renewable Energy (EERE)\n",
      "            under the Solar Energy Technologies Office Award Number 38529.\n",
      "\n",
      "            \n"
     ]
    },
    {
     "name": "stderr",
     "output_type": "stream",
     "text": [
      "\n",
      "task list:   0%|                                          | 0/7 [00:00<?, ?it/s]\u001b[A"
     ]
    },
    {
     "name": "stdout",
     "output_type": "stream",
     "text": [
      "Please run pipeline first.\n",
      "Please run the pipeline first!\n",
      "'DataHandler' object has no attribute 'total_time'\n"
     ]
    },
    {
     "name": "stderr",
     "output_type": "stream",
     "text": [
      "\n",
      "\n",
      "task list:  43%|██████████████▌                   | 3/7 [00:01<00:02,  1.70it/s]\u001b[A\n",
      "task list:  71%|████████████████████████▎         | 5/7 [00:06<00:02,  1.46s/it]\u001b[A\n",
      "task list: 100%|██████████████████████████████████| 7/7 [00:17<00:00,  2.53s/it]\u001b[A\n"
     ]
    },
    {
     "name": "stdout",
     "output_type": "stream",
     "text": [
      "\n",
      "\n",
      "total time: 17.74 seconds\n",
      "--------------------------------\n",
      "Breakdown\n",
      "--------------------------------\n",
      "Preprocessing              1.77s\n",
      "Cleaning                   11.24s\n",
      "Filtering/Summarizing      4.73s\n",
      "    Data quality           0.06s\n",
      "    Clear day detect       0.09s\n",
      "    Clipping detect        2.97s\n",
      "    Capacity change detect 1.61s\n",
      "\n",
      "\n",
      "            ************************************************\n",
      "            * Solar Data Tools Degradation Estimation Tool *\n",
      "            ************************************************\n",
      "\n",
      "            Monte Carlo sampling to generate a distributional estimate\n",
      "            of the degradation rate [%/yr]\n",
      "\n",
      "            The distribution typically stabilizes in 50-100 samples.\n",
      "\n",
      "            Author: Bennet Meyers, SLAC\n",
      "\n",
      "            This material is based upon work supported by the U.S. Department\n",
      "            of Energy's Office of Energy Efficiency and Renewable Energy (EERE)\n",
      "            under the Solar Energy Technologies Office Award Number 38529.\n",
      "\n",
      "            \n"
     ]
    },
    {
     "name": "stderr",
     "output_type": "stream",
     "text": [
      "10it [00:01,  5.46it/s]"
     ]
    },
    {
     "name": "stdout",
     "output_type": "stream",
     "text": [
      "P50, P02.5, P97.5: -10.147, -11.640, -6.009\n",
      "changes: -8.949e-01, 0.000e+00, 0.000e+00\n"
     ]
    },
    {
     "name": "stderr",
     "output_type": "stream",
     "text": [
      "21it [00:03,  5.62it/s]"
     ]
    },
    {
     "name": "stdout",
     "output_type": "stream",
     "text": [
      "P50, P02.5, P97.5: -10.147, -13.197, -6.009\n",
      "changes: 1.996e-01, 0.000e+00, 0.000e+00\n"
     ]
    },
    {
     "name": "stderr",
     "output_type": "stream",
     "text": [
      "31it [00:05,  5.49it/s]"
     ]
    },
    {
     "name": "stdout",
     "output_type": "stream",
     "text": [
      "P50, P02.5, P97.5: -8.507, -13.185, -6.010\n",
      "changes: -7.508e-02, 4.304e-03, -7.869e-05\n"
     ]
    },
    {
     "name": "stderr",
     "output_type": "stream",
     "text": [
      "41it [00:07,  5.48it/s]"
     ]
    },
    {
     "name": "stdout",
     "output_type": "stream",
     "text": [
      "P50, P02.5, P97.5: -8.357, -13.142, -6.010\n",
      "changes: -2.724e-03, 4.304e-03, -7.869e-05\n"
     ]
    },
    {
     "name": "stderr",
     "output_type": "stream",
     "text": [
      "51it [00:09,  5.49it/s]"
     ]
    },
    {
     "name": "stdout",
     "output_type": "stream",
     "text": [
      "P50, P02.5, P97.5: -8.476, -13.099, -5.596\n",
      "changes: 1.540e-02, 4.304e-03, -2.383e-02\n"
     ]
    },
    {
     "name": "stderr",
     "output_type": "stream",
     "text": [
      "60it [00:11,  5.86it/s]"
     ]
    },
    {
     "name": "stdout",
     "output_type": "stream",
     "text": [
      "P50, P02.5, P97.5: -8.607, -13.056, -5.835\n",
      "changes: -3.382e-02, 4.304e-03, -2.383e-02\n"
     ]
    },
    {
     "name": "stderr",
     "output_type": "stream",
     "text": [
      "71it [00:13,  5.79it/s]"
     ]
    },
    {
     "name": "stdout",
     "output_type": "stream",
     "text": [
      "P50, P02.5, P97.5: -8.584, -12.990, -6.010\n",
      "changes: -2.237e-02, 1.285e-02, -7.869e-05\n"
     ]
    },
    {
     "name": "stderr",
     "output_type": "stream",
     "text": [
      "81it [00:14,  6.16it/s]"
     ]
    },
    {
     "name": "stdout",
     "output_type": "stream",
     "text": [
      "P50, P02.5, P97.5: -8.717, -13.238, -5.860\n",
      "changes: -5.527e-02, -9.102e-02, -5.478e-03\n"
     ]
    },
    {
     "name": "stderr",
     "output_type": "stream",
     "text": [
      "91it [00:16,  5.33it/s]"
     ]
    },
    {
     "name": "stdout",
     "output_type": "stream",
     "text": [
      "P50, P02.5, P97.5: -8.717, -13.223, -5.843\n",
      "changes: 4.313e-02, 1.493e-03, 6.598e-02\n"
     ]
    },
    {
     "name": "stderr",
     "output_type": "stream",
     "text": [
      "101it [00:18,  5.49it/s]"
     ]
    },
    {
     "name": "stdout",
     "output_type": "stream",
     "text": [
      "P50, P02.5, P97.5: -8.753, -13.208, -5.866\n",
      "changes: 7.395e-03, 1.493e-03, -2.325e-03\n"
     ]
    },
    {
     "name": "stderr",
     "output_type": "stream",
     "text": [
      "111it [00:20,  5.53it/s]"
     ]
    },
    {
     "name": "stdout",
     "output_type": "stream",
     "text": [
      "P50, P02.5, P97.5: -8.753, -13.185, -5.790\n",
      "changes: -1.787e-02, 4.304e-03, -2.336e-05\n"
     ]
    },
    {
     "name": "stderr",
     "output_type": "stream",
     "text": [
      "120it [00:22,  4.76it/s]"
     ]
    },
    {
     "name": "stdout",
     "output_type": "stream",
     "text": [
      "P50, P02.5, P97.5: -8.717, -13.142, -5.386\n",
      "changes: 1.787e-02, 4.304e-03, -1.479e-02\n"
     ]
    },
    {
     "name": "stderr",
     "output_type": "stream",
     "text": [
      "131it [00:24,  5.75it/s]"
     ]
    },
    {
     "name": "stdout",
     "output_type": "stream",
     "text": [
      "P50, P02.5, P97.5: -8.607, -13.223, -5.534\n",
      "changes: -1.145e-02, 1.493e-03, -1.479e-02\n"
     ]
    },
    {
     "name": "stderr",
     "output_type": "stream",
     "text": [
      "141it [00:25,  5.25it/s]"
     ]
    },
    {
     "name": "stdout",
     "output_type": "stream",
     "text": [
      "P50, P02.5, P97.5: -8.607, -13.208, -5.682\n",
      "changes: -1.145e-02, 1.493e-03, -1.479e-02\n"
     ]
    },
    {
     "name": "stderr",
     "output_type": "stream",
     "text": [
      "151it [00:27,  5.23it/s]"
     ]
    },
    {
     "name": "stdout",
     "output_type": "stream",
     "text": [
      "P50, P02.5, P97.5: -8.717, -13.185, -5.790\n",
      "changes: -5.202e-02, 4.304e-03, -2.336e-05\n"
     ]
    },
    {
     "name": "stderr",
     "output_type": "stream",
     "text": [
      "160it [00:29,  4.76it/s]"
     ]
    },
    {
     "name": "stdout",
     "output_type": "stream",
     "text": [
      "P50, P02.5, P97.5: -8.717, -13.142, -5.791\n",
      "changes: 1.666e-02, 4.304e-03, -2.336e-05\n"
     ]
    },
    {
     "name": "stderr",
     "output_type": "stream",
     "text": [
      "170it [00:31,  5.66it/s]"
     ]
    },
    {
     "name": "stdout",
     "output_type": "stream",
     "text": [
      "P50, P02.5, P97.5: -8.717, -13.099, -5.791\n",
      "changes: 1.288e-02, 4.304e-03, -2.336e-05\n"
     ]
    },
    {
     "name": "stderr",
     "output_type": "stream",
     "text": [
      "181it [00:33,  5.44it/s]"
     ]
    },
    {
     "name": "stdout",
     "output_type": "stream",
     "text": [
      "P50, P02.5, P97.5: -8.743, -13.056, -5.791\n",
      "changes: 3.788e-03, 4.304e-03, -2.336e-05\n"
     ]
    },
    {
     "name": "stderr",
     "output_type": "stream",
     "text": [
      "187it [00:34,  5.35it/s]\n"
     ]
    },
    {
     "name": "stdout",
     "output_type": "stream",
     "text": [
      "Performing loss factor analysis...\n",
      "\n",
      "                    ***************************************\n",
      "                    * Solar Data Tools Loss Factor Report *\n",
      "                    ***************************************\n",
      "\n",
      "                    degradation rate [%/yr]:                    -9.145\n",
      "                    deg. rate 95% confidence:          [-13.016, -5.790]\n",
      "                    total energy loss [kWh]:                -1822848.9\n",
      "                    bulk deg. energy loss (gain) [kWh]:      -345118.3\n",
      "                    soiling energy loss [kWh]:                -89326.8\n",
      "                    capacity change energy loss [kWh]:          -643.3\n",
      "                    weather energy loss [kWh]:               -884895.9\n",
      "                    system outage loss [kWh]:                -502864.5\n",
      "                    \n"
     ]
    }
   ],
   "source": [
    "n_workers = 3\n",
    "threads_per_worker = 1\n",
    "total_system_memory = 8\n",
    "memory_per_worker = total_system_memory / n_workers\n",
    "local_client = Client(processes=False, memory_spill_fraction=False, memory_pause_fraction=False, memory_target_fraction=0.8, n_workers=n_workers, threads_per_worker=threads_per_worker, memory_limit=f\"{memory_per_worker}GiB\")\n",
    "local_client.dashboard_link"
   ]
  },
  {
   "cell_type": "code",
   "execution_count": 10,
   "id": "3087016d-3378-4160-96b1-91c5207553fb",
   "metadata": {
    "ExecuteTime": {
     "end_time": "2024-03-23T17:10:33.517103Z",
     "start_time": "2024-03-23T17:09:16.229477Z"
    }
   },
   "outputs": [
    {
     "name": "stdout",
     "output_type": "stream",
     "text": [
      "CPU times: user 48.7 s, sys: 7.26 s, total: 56 s\n",
      "Wall time: 53.9 s\n"
     ]
    }
   ],
   "source": [
    "%%time\n",
    "dask_tool = SDTDask(local_file_data_plug, local_client, output_path=\"../results/\")\n",
    "\n",
    "dask_tool.set_up(local_file_keys, fix_shifts=True, verbose=True)\n",
    "dask_tool.get_result()"
   ]
  },
  {
   "cell_type": "markdown",
   "id": "4be66c03-499c-495d-8634-ded1a3ba638b",
   "metadata": {},
   "source": [
    "## AWS Fargate Client example\n",
    "use LocalFile dataplug and fargate client"
   ]
  },
  {
   "cell_type": "markdown",
   "id": "302b3a32-aebf-44d2-94fc-2e241e41059a",
   "metadata": {},
   "source": [
    "### Instantiate a pvdaq data plug\n"
   ]
  },
  {
   "cell_type": "code",
   "execution_count": 11,
   "id": "071459fd-3b57-42cc-b693-b1f708df4059",
   "metadata": {
    "ExecuteTime": {
     "end_time": "2024-03-23T17:10:33.580103Z",
     "start_time": "2024-03-23T17:10:33.517103Z"
    }
   },
   "outputs": [],
   "source": [
    "from sdt_dask.dataplugs.pvdaq_plug import PVDAQPlug"
   ]
  },
  {
   "cell_type": "code",
   "execution_count": 12,
   "id": "6f3ebc5e-d30b-4b9d-a2bc-39c1a547b4e2",
   "metadata": {
    "ExecuteTime": {
     "end_time": "2024-03-23T17:10:33.643103Z",
     "start_time": "2024-03-23T17:10:33.581105Z"
    }
   },
   "outputs": [],
   "source": [
    "PVDAQPlug?"
   ]
  },
  {
   "cell_type": "code",
   "execution_count": 13,
   "id": "d88c0a81-537b-41ea-a001-cd18d01743de",
   "metadata": {
    "ExecuteTime": {
     "end_time": "2024-03-23T17:10:33.703487Z",
     "start_time": "2024-03-23T17:10:33.644103Z"
    }
   },
   "outputs": [],
   "source": [
    "pvdaq_data_plug = PVDAQPlug()"
   ]
  },
  {
   "cell_type": "markdown",
   "id": "18bb904b-e500-42f3-9d0b-23ba1f197baf",
   "metadata": {},
   "source": [
    "### Set up a Fargate cluster client\n"
   ]
  },
  {
   "cell_type": "code",
   "execution_count": 14,
   "id": "64b65c69-6ed3-4989-ab66-bbf4e2e6c3eb",
   "metadata": {
    "ExecuteTime": {
     "end_time": "2024-03-23T17:10:33.925814Z",
     "start_time": "2024-03-23T17:10:33.703487Z"
    }
   },
   "outputs": [],
   "source": [
    "from sdt_dask.clients.aws.fargate import Fargate"
   ]
  },
  {
   "cell_type": "code",
   "execution_count": 15,
   "id": "ef374f93-7183-4011-b066-4cf1e4ff971c",
   "metadata": {
    "ExecuteTime": {
     "end_time": "2024-03-23T17:10:33.989617Z",
     "start_time": "2024-03-23T17:10:33.926815Z"
    }
   },
   "outputs": [],
   "source": [
    "# Use should define an environment variable for secret key\n",
    "PA_NUMBER = os.getenv(\"project-pa-number\")\n",
    "AWS_DEFAULT_REGION = os.getenv('AWS_DEFAULT_REGION')\n",
    "ENVIRONMENT = {\n",
    "    'AWS_ACCESS_KEY_ID' : os.getenv('AWS_ACCESS_KEY_ID'),\n",
    "    'AWS_SECRET_ACCESS_KEY' : os.getenv('AWS_SECRET_ACCESS_KEY')\n",
    "}"
   ]
  },
  {
   "cell_type": "code",
   "execution_count": 16,
   "id": "79f4a290-df58-4347-ae2d-fd67c6bb8ab5",
   "metadata": {
    "ExecuteTime": {
     "end_time": "2024-03-23T17:10:34.052279Z",
     "start_time": "2024-03-23T17:10:33.990618Z"
    }
   },
   "outputs": [],
   "source": [
    "# The Tag, VPC, image, workers, threads per worker and environment need to be user defined and passed to the client class\n",
    "TAGS = {\n",
    "    \"project-pa-number\": PA_NUMBER,\n",
    "    \"project\": \"pvinsight\"\n",
    "}\n",
    "VPC = \"vpc-ab2ff6d3\" # for us-west-2\n",
    "IMAGE = \"nimishy/sdt-windows:latest\"\n",
    "\n",
    "WORKERS = 3\n",
    "THREADS_PER_WORKER = 1"
   ]
  },
  {
   "cell_type": "code",
   "execution_count": 17,
   "id": "5f406610-e5a8-4dcc-b0d4-82839ee3bda0",
   "metadata": {
    "ExecuteTime": {
     "end_time": "2024-03-23T17:13:26.552944Z",
     "start_time": "2024-03-23T17:10:34.052807Z"
    },
    "scrolled": true
   },
   "outputs": [
    {
     "name": "stdout",
     "output_type": "stream",
     "text": [
      "[i] Initilializing Fargate Cluster ...\n"
     ]
    },
    {
     "name": "stderr",
     "output_type": "stream",
     "text": [
      "C:\\Users\\Zander\\anaconda3\\envs\\pvi-user\\lib\\contextlib.py:142: UserWarning: Creating your cluster is taking a surprisingly long time. This is likely due to pending resources on AWS. Hang tight! \n",
      "  next(self.gen)\n"
     ]
    },
    {
     "name": "stdout",
     "output_type": "stream",
     "text": [
      "[i] Initialized Fargate Cluster\n",
      "[i] Initilializing Dask Client ...\n",
      "[>] Dask Dashboard: http://54.188.106.107:8787/status\n"
     ]
    }
   ],
   "source": [
    "fargate_client = Fargate().init_client(image=IMAGE, \n",
    "                               tags=TAGS, \n",
    "                               vpc=VPC, \n",
    "                               region_name=AWS_DEFAULT_REGION,\n",
    "                               environment=ENVIRONMENT,\n",
    "                               n_workers=WORKERS,\n",
    "                               threads_per_worker=THREADS_PER_WORKER\n",
    "                               )"
   ]
  },
  {
   "cell_type": "code",
   "execution_count": 18,
   "id": "37d6958f-0830-43ec-b1f4-7965f44c02b5",
   "metadata": {
    "ExecuteTime": {
     "end_time": "2024-03-23T17:14:27.286163Z",
     "start_time": "2024-03-23T17:13:26.553946Z"
    },
    "collapsed": false,
    "jupyter": {
     "outputs_hidden": false
    }
   },
   "outputs": [],
   "source": [
    "pvdaq_keys = [(34, 2011), (35, 2015), (51,2012)]\n",
    "dask_tool = SDTDask(pvdaq_data_plug, fargate_client, output_path=\"../results/\")\n",
    "dask_tool.set_up(pvdaq_keys, fix_shifts=True, verbose=True)\n",
    "dask_tool.get_result()"
   ]
  },
  {
   "cell_type": "markdown",
   "id": "18dd62f8-0bcf-4ec8-9f70-0676c9fde235",
   "metadata": {},
   "source": [
    "## Azure Client example"
   ]
  },
  {
   "cell_type": "code",
   "execution_count": 18,
   "id": "0776458a-c72e-422c-8658-f66a10182c08",
   "metadata": {
    "ExecuteTime": {
     "end_time": "2024-03-23T17:14:27.302164Z",
     "start_time": "2024-03-23T17:14:27.286163Z"
    }
   },
   "outputs": [],
   "source": []
  }
 ],
 "metadata": {
  "kernelspec": {
   "display_name": "Python 3 (ipykernel)",
   "language": "python",
   "name": "python3"
  },
  "language_info": {
   "codemirror_mode": {
    "name": "ipython",
    "version": 3
   },
   "file_extension": ".py",
   "mimetype": "text/x-python",
   "name": "python",
   "nbconvert_exporter": "python",
   "pygments_lexer": "ipython3",
   "version": "3.10.11"
  }
 },
 "nbformat": 4,
 "nbformat_minor": 5
}
