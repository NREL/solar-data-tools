{
 "cells": [
  {
   "cell_type": "code",
   "execution_count": 1,
   "id": "f3989f27-e6d3-4640-a00f-608c1a24a03e",
   "metadata": {
    "ExecuteTime": {
     "end_time": "2024-03-23T17:09:11.276568Z",
     "start_time": "2024-03-23T17:09:11.245538Z"
    }
   },
   "outputs": [],
   "source": [
    "%load_ext autoreload\n",
    "%autoreload 2"
   ]
  },
  {
   "cell_type": "code",
   "execution_count": 2,
   "id": "f03a3d5b-b3d7-4b35-b031-4d6a35936e6f",
   "metadata": {
    "ExecuteTime": {
     "end_time": "2024-03-23T17:09:13.742694Z",
     "start_time": "2024-03-23T17:09:11.277569Z"
    }
   },
   "outputs": [],
   "source": [
    "import glob, os\n",
    "from sdt_dask.dask_tool.runner import Runner"
   ]
  },
  {
   "cell_type": "markdown",
   "id": "12773784-0848-440a-9dfe-500547eb938d",
   "metadata": {},
   "source": [
    "## Local Client example \n",
    " use local csv dataplug and local client"
   ]
  },
  {
   "cell_type": "markdown",
   "id": "5c7826b2-6fce-4e57-99cf-b99c81d847e2",
   "metadata": {},
   "source": [
    "### Instantiate a localfile data plug"
   ]
  },
  {
   "cell_type": "code",
   "execution_count": 3,
   "id": "a8d25936-9afe-4f69-a710-c02c9cd4b476",
   "metadata": {
    "ExecuteTime": {
     "end_time": "2024-03-23T17:09:13.885081Z",
     "start_time": "2024-03-23T17:09:13.823694Z"
    }
   },
   "outputs": [],
   "source": [
    "from sdt_dask.dataplugs.csv_plug import LocalFiles"
   ]
  },
  {
   "cell_type": "code",
   "execution_count": 4,
   "id": "e47da4b0-82d7-488b-8657-0257fafbcbfb",
   "metadata": {
    "ExecuteTime": {
     "end_time": "2024-03-23T17:09:13.933081Z",
     "start_time": "2024-03-23T17:09:13.886083Z"
    }
   },
   "outputs": [
    {
     "data": {
      "text/plain": [
       "\u001b[0;31mInit signature:\u001b[0m \u001b[0mLocalFiles\u001b[0m\u001b[0;34m(\u001b[0m\u001b[0mpath_to_files\u001b[0m\u001b[0;34m,\u001b[0m \u001b[0mext\u001b[0m\u001b[0;34m=\u001b[0m\u001b[0;34m'.csv'\u001b[0m\u001b[0;34m)\u001b[0m\u001b[0;34m\u001b[0m\u001b[0;34m\u001b[0m\u001b[0m\n",
       "\u001b[0;31mDocstring:\u001b[0m     \n",
       "Dataplug class for retrieving data from some source. It's recommended\n",
       "that user-created dataplug inherit from this class to ensure compatibility.\n",
       "\n",
       "The initialization argument for each class will be different depending on\n",
       "the source. The main requirement is to keep the ``Dataplug.get_data`` method,\n",
       "and make sure the args and returns as defined here.\n",
       "\u001b[0;31mFile:\u001b[0m           /mnt/c/Users/22720/OneDrive/Documents/solar-data-tools/sdt_dask/dataplugs/csv_plug.py\n",
       "\u001b[0;31mType:\u001b[0m           type\n",
       "\u001b[0;31mSubclasses:\u001b[0m     "
      ]
     },
     "metadata": {},
     "output_type": "display_data"
    }
   ],
   "source": [
    "LocalFiles?"
   ]
  },
  {
   "cell_type": "code",
   "execution_count": 5,
   "id": "29f50626-c112-4dde-a227-6547af0e3c44",
   "metadata": {
    "ExecuteTime": {
     "end_time": "2024-03-23T17:09:13.981222Z",
     "start_time": "2024-03-23T17:09:13.933081Z"
    }
   },
   "outputs": [
    {
     "data": {
      "text/plain": [
       "[('001C4B0008A5',), ('ALL0VALUETESTFILE',), ('NotExist',)]"
      ]
     },
     "execution_count": 5,
     "metadata": {},
     "output_type": "execute_result"
    }
   ],
   "source": [
    "path = \"../dataplugs/example_data/\"\n",
    "local_file_data_plug = LocalFiles(path_to_files=path)\n",
    "local_file_keys = [(os.path.basename(fname)[:-4],) for fname in glob.glob(path + \"*\")]\n",
    "local_file_keys.append(('NotExist',))\n",
    "local_file_keys"
   ]
  },
  {
   "cell_type": "code",
   "execution_count": 6,
   "id": "60ee51ff-293e-4480-a0c1-d596ba2111e4",
   "metadata": {
    "ExecuteTime": {
     "end_time": "2024-03-23T17:09:15.816849Z",
     "start_time": "2024-03-23T17:09:13.981222Z"
    },
    "scrolled": true
   },
   "outputs": [
    {
     "data": {
      "text/html": [
       "<div>\n",
       "<style scoped>\n",
       "    .dataframe tbody tr th:only-of-type {\n",
       "        vertical-align: middle;\n",
       "    }\n",
       "\n",
       "    .dataframe tbody tr th {\n",
       "        vertical-align: top;\n",
       "    }\n",
       "\n",
       "    .dataframe thead th {\n",
       "        text-align: right;\n",
       "    }\n",
       "</style>\n",
       "<table border=\"1\" class=\"dataframe\">\n",
       "  <thead>\n",
       "    <tr style=\"text-align: right;\">\n",
       "      <th></th>\n",
       "      <th>ac_power_01</th>\n",
       "    </tr>\n",
       "    <tr>\n",
       "      <th>ts</th>\n",
       "      <th></th>\n",
       "    </tr>\n",
       "  </thead>\n",
       "  <tbody>\n",
       "    <tr>\n",
       "      <th>2017-09-13 06:22:32</th>\n",
       "      <td>0.0</td>\n",
       "    </tr>\n",
       "    <tr>\n",
       "      <th>2017-09-13 06:37:32</th>\n",
       "      <td>18.0</td>\n",
       "    </tr>\n",
       "    <tr>\n",
       "      <th>2017-09-13 06:52:32</th>\n",
       "      <td>53.0</td>\n",
       "    </tr>\n",
       "    <tr>\n",
       "      <th>2017-09-13 07:07:35</th>\n",
       "      <td>70.0</td>\n",
       "    </tr>\n",
       "    <tr>\n",
       "      <th>2017-09-13 07:22:34</th>\n",
       "      <td>136.0</td>\n",
       "    </tr>\n",
       "    <tr>\n",
       "      <th>...</th>\n",
       "      <td>...</td>\n",
       "    </tr>\n",
       "    <tr>\n",
       "      <th>2018-10-12 16:51:04</th>\n",
       "      <td>217.0</td>\n",
       "    </tr>\n",
       "    <tr>\n",
       "      <th>2018-10-12 17:06:04</th>\n",
       "      <td>131.0</td>\n",
       "    </tr>\n",
       "    <tr>\n",
       "      <th>2018-10-12 17:21:04</th>\n",
       "      <td>54.0</td>\n",
       "    </tr>\n",
       "    <tr>\n",
       "      <th>2018-10-12 17:36:04</th>\n",
       "      <td>15.0</td>\n",
       "    </tr>\n",
       "    <tr>\n",
       "      <th>2018-10-12 17:51:04</th>\n",
       "      <td>0.0</td>\n",
       "    </tr>\n",
       "  </tbody>\n",
       "</table>\n",
       "<p>18188 rows × 1 columns</p>\n",
       "</div>"
      ],
      "text/plain": [
       "                     ac_power_01\n",
       "ts                              \n",
       "2017-09-13 06:22:32          0.0\n",
       "2017-09-13 06:37:32         18.0\n",
       "2017-09-13 06:52:32         53.0\n",
       "2017-09-13 07:07:35         70.0\n",
       "2017-09-13 07:22:34        136.0\n",
       "...                          ...\n",
       "2018-10-12 16:51:04        217.0\n",
       "2018-10-12 17:06:04        131.0\n",
       "2018-10-12 17:21:04         54.0\n",
       "2018-10-12 17:36:04         15.0\n",
       "2018-10-12 17:51:04          0.0\n",
       "\n",
       "[18188 rows x 1 columns]"
      ]
     },
     "execution_count": 6,
     "metadata": {},
     "output_type": "execute_result"
    }
   ],
   "source": [
    "local_file_data_plug.get_data(local_file_keys[0])"
   ]
  },
  {
   "cell_type": "markdown",
   "id": "0641c346-94c0-4b72-9ca6-833cff311cdf",
   "metadata": {},
   "source": [
    "### Set a local User-defined Client"
   ]
  },
  {
   "cell_type": "code",
   "execution_count": 8,
   "id": "5788f21b-6bd1-4c73-9296-d5f88426bccb",
   "metadata": {
    "ExecuteTime": {
     "end_time": "2024-03-23T17:09:15.864317Z",
     "start_time": "2024-03-23T17:09:15.817260Z"
    }
   },
   "outputs": [],
   "source": [
    "from sdt_dask.clients.local_client import LocalClient"
   ]
  },
  {
   "cell_type": "code",
   "execution_count": 11,
   "id": "205ce6a0-55c6-41cb-b484-4d4614df57de",
   "metadata": {
    "ExecuteTime": {
     "end_time": "2024-03-23T17:09:16.227475Z",
     "start_time": "2024-03-23T17:09:15.864317Z"
    },
    "scrolled": true
   },
   "outputs": [
    {
     "name": "stdout",
     "output_type": "stream",
     "text": [
      "Memory per worker exceeds system memory (4 GB), activating memory spill\n",
      "\n",
      "\n",
      "Dask Dashboard Link: http://127.0.0.1:8787/status\n",
      "\n"
     ]
    },
    {
     "data": {
      "text/plain": [
       "'http://127.0.0.1:8787/status'"
      ]
     },
     "execution_count": 11,
     "metadata": {},
     "output_type": "execute_result"
    }
   ],
   "source": [
    "client_setup = LocalClient(workers=3,\n",
    "                           threads=1,\n",
    "                           memory=4\n",
    "                           )\n",
    "local_client = client_setup.init_client()\n",
    "\n",
    "local_client.dashboard_link"
   ]
  },
  {
   "cell_type": "code",
   "execution_count": 12,
   "id": "3087016d-3378-4160-96b1-91c5207553fb",
   "metadata": {
    "ExecuteTime": {
     "end_time": "2024-03-23T17:10:33.517103Z",
     "start_time": "2024-03-23T17:09:16.229477Z"
    }
   },
   "outputs": [
    {
     "data": {
      "image/png": "[encoded data removed]",
      "text/plain": [
       "<IPython.core.display.Image object>"
      ]
     },
     "metadata": {},
     "output_type": "display_data"
    }
   ],
   "source": [
    "dask_tool = Runner(local_file_data_plug, local_client, output_path=\"../results/\")\n",
    "dask_tool.set_up(local_file_keys, fix_shifts=True, verbose=True)\n",
    "\n",
    "dask_tool.visualize()\n",
    "\n",
    "from IPython.display import display, Image\n",
    "display(Image(filename='sdt_graph.png'))"
   ]
  },
  {
   "cell_type": "code",
   "execution_count": 13,
   "id": "f3614266-dbe0-4faf-8dee-e3f133fd6817",
   "metadata": {},
   "outputs": [
    {
     "name": "stdout",
     "output_type": "stream",
     "text": [
      "\n",
      "            *********************************************\n",
      "            * Solar Data Tools Data Onboarding Pipeline *\n",
      "            *********************************************\n",
      "\n",
      "            This pipeline runs a series of preprocessing, cleaning, and quality\n",
      "            control tasks on stand-alone PV power or irradiance time series data.\n",
      "            After the pipeline is run, the data may be plotted, filtered, or\n",
      "            further analyzed.\n",
      "\n",
      "            Authors: Bennet Meyers and Sara Miskovich, SLAC\n",
      "\n",
      "            (Tip: if you have a mosek [https://www.mosek.com/] license and have it\n",
      "            installed on your system, try setting solver='MOSEK' for a speedup)\n",
      "\n",
      "            This material is based upon work supported by the U.S. Department\n",
      "            of Energy's Office of Energy Efficiency and Renewable Energy (EERE)\n",
      "            under the Solar Energy Technologies Office Award Number 38529.\n",
      "\n",
      "            \n",
      "\n",
      "            *********************************************\n",
      "            * Solar Data Tools Data Onboarding Pipeline *\n",
      "            *********************************************\n",
      "\n",
      "            This pipeline runs a series of preprocessing, cleaning, and quality\n",
      "            control tasks on stand-alone PV power or irradiance time series data.\n",
      "            After the pipeline is run, the data may be plotted, filtered, or\n",
      "            further analyzed.\n",
      "\n",
      "            Authors: Bennet Meyers and Sara Miskovich, SLAC\n",
      "\n",
      "            (Tip: if you have a mosek [https://www.mosek.com/] license and have it\n",
      "            installed on your system, try setting solver='MOSEK' for a speedup)\n",
      "\n",
      "            This material is based upon work supported by the U.S. Department\n",
      "            of Energy's Office of Energy Efficiency and Renewable Energy (EERE)\n",
      "            under the Solar Energy Technologies Office Award Number 38529.\n",
      "\n",
      "            \n"
     ]
    },
    {
     "name": "stderr",
     "output_type": "stream",
     "text": [
      "task list:   0%|                                          | 0/7 [00:00<?, ?it/s]\n",
      "task list:  43%|██████████████▌                   | 3/7 [00:10<00:18,  4.73s/it]2024-05-01 23:12:16,075 - distributed.worker.memory - WARNING - Worker is at 100% memory usage. Pausing worker.  Process memory: 4.03 GiB -- Worker memory limit: 4.00 GiB\n",
      "2024-05-01 23:12:16,076 - distributed.worker.memory - WARNING - Unmanaged memory use is high. This may indicate a memory leak or the memory may not be released to the OS; see https://distributed.dask.org/en/latest/worker-memory.html#memory-not-released-back-to-the-os for more information. -- Unmanaged memory: 4.03 GiB -- Worker memory limit: 4.00 GiB\n",
      "2024-05-01 23:12:26,120 - distributed.worker.memory - WARNING - Unmanaged memory use is high. This may indicate a memory leak or the memory may not be released to the OS; see https://distributed.dask.org/en/latest/worker-memory.html#memory-not-released-back-to-the-os for more information. -- Unmanaged memory: 4.65 GiB -- Worker memory limit: 4.00 GiB\n",
      "2024-05-01 23:12:36,121 - distributed.worker.memory - WARNING - Unmanaged memory use is high. This may indicate a memory leak or the memory may not be released to the OS; see https://distributed.dask.org/en/latest/worker-memory.html#memory-not-released-back-to-the-os for more information. -- Unmanaged memory: 4.97 GiB -- Worker memory limit: 4.00 GiB\n",
      "2024-05-01 23:12:52,292 - distributed.worker.memory - WARNING - Unmanaged memory use is high. This may indicate a memory leak or the memory may not be released to the OS; see https://distributed.dask.org/en/latest/worker-memory.html#memory-not-released-back-to-the-os for more information. -- Unmanaged memory: 4.99 GiB -- Worker memory limit: 4.00 GiB\n",
      "2024-05-01 23:13:02,322 - distributed.worker.memory - WARNING - Unmanaged memory use is high. This may indicate a memory leak or the memory may not be released to the OS; see https://distributed.dask.org/en/latest/worker-memory.html#memory-not-released-back-to-the-os for more information. -- Unmanaged memory: 5.58 GiB -- Worker memory limit: 4.00 GiB\n",
      "2024-05-01 23:13:12,322 - distributed.worker.memory - WARNING - Unmanaged memory use is high. This may indicate a memory leak or the memory may not be released to the OS; see https://distributed.dask.org/en/latest/worker-memory.html#memory-not-released-back-to-the-os for more information. -- Unmanaged memory: 5.58 GiB -- Worker memory limit: 4.00 GiB\n",
      "2024-05-01 23:13:22,424 - distributed.worker.memory - WARNING - Unmanaged memory use is high. This may indicate a memory leak or the memory may not be released to the OS; see https://distributed.dask.org/en/latest/worker-memory.html#memory-not-released-back-to-the-os for more information. -- Unmanaged memory: 5.59 GiB -- Worker memory limit: 4.00 GiB\n",
      "2024-05-01 23:13:32,522 - distributed.worker.memory - WARNING - Unmanaged memory use is high. This may indicate a memory leak or the memory may not be released to the OS; see https://distributed.dask.org/en/latest/worker-memory.html#memory-not-released-back-to-the-os for more information. -- Unmanaged memory: 5.71 GiB -- Worker memory limit: 4.00 GiB\n",
      "2024-05-01 23:13:42,622 - distributed.worker.memory - WARNING - Unmanaged memory use is high. This may indicate a memory leak or the memory may not be released to the OS; see https://distributed.dask.org/en/latest/worker-memory.html#memory-not-released-back-to-the-os for more information. -- Unmanaged memory: 5.81 GiB -- Worker memory limit: 4.00 GiB\n",
      "2024-05-01 23:13:52,722 - distributed.worker.memory - WARNING - Unmanaged memory use is high. This may indicate a memory leak or the memory may not be released to the OS; see https://distributed.dask.org/en/latest/worker-memory.html#memory-not-released-back-to-the-os for more information. -- Unmanaged memory: 5.81 GiB -- Worker memory limit: 4.00 GiB\n",
      "2024-05-01 23:13:56,405 - distributed.worker.memory - WARNING - Worker is at 29% memory usage. Resuming worker. Process memory: 1.19 GiB -- Worker memory limit: 4.00 GiB\n",
      "task list: 100%|██████████████████████████████████| 7/7 [02:34<00:00, 22.10s/it]\n",
      "0it [00:00, ?it/s]"
     ]
    },
    {
     "name": "stdout",
     "output_type": "stream",
     "text": [
      "\n",
      "\n",
      "total time: 154.68 seconds\n",
      "--------------------------------\n",
      "Breakdown\n",
      "--------------------------------\n",
      "Preprocessing              10.60s\n",
      "Cleaning                   15.49s\n",
      "Filtering/Summarizing      128.59s\n",
      "    Data quality           0.36s\n",
      "    Clear day detect       0.33s\n",
      "    Clipping detect        125.45s\n",
      "    Capacity change detect 2.45s\n",
      "\n",
      "\n",
      "            ************************************************\n",
      "            * Solar Data Tools Degradation Estimation Tool *\n",
      "            ************************************************\n",
      "\n",
      "            Monte Carlo sampling to generate a distributional estimate\n",
      "            of the degradation rate [%/yr]\n",
      "\n",
      "            The distribution typically stabilizes in 50-100 samples.\n",
      "\n",
      "            Author: Bennet Meyers, SLAC\n",
      "\n",
      "            This material is based upon work supported by the U.S. Department\n",
      "            of Energy's Office of Energy Efficiency and Renewable Energy (EERE)\n",
      "            under the Solar Energy Technologies Office Award Number 38529.\n",
      "\n",
      "            \n"
     ]
    },
    {
     "name": "stderr",
     "output_type": "stream",
     "text": [
      "187it [00:48,  3.84it/s]\n"
     ]
    },
    {
     "name": "stdout",
     "output_type": "stream",
     "text": [
      "P50, P02.5, P97.5: -10.147, -11.640, -6.009\n",
      "changes: -8.949e-01, 0.000e+00, 0.000e+00\n",
      "P50, P02.5, P97.5: -10.147, -13.197, -6.009\n",
      "changes: 1.996e-01, 0.000e+00, 0.000e+00\n",
      "P50, P02.5, P97.5: -8.507, -13.185, -6.010\n",
      "changes: -7.508e-02, 4.304e-03, -7.868e-05\n",
      "P50, P02.5, P97.5: -8.357, -13.142, -6.010\n",
      "changes: -2.724e-03, 4.304e-03, -7.868e-05\n",
      "P50, P02.5, P97.5: -8.476, -13.099, -5.596\n",
      "changes: 1.540e-02, 4.304e-03, -2.383e-02\n",
      "P50, P02.5, P97.5: -8.607, -13.056, -5.835\n",
      "changes: -3.382e-02, 4.304e-03, -2.383e-02\n",
      "P50, P02.5, P97.5: -8.584, -12.990, -6.010\n",
      "changes: -2.237e-02, 1.285e-02, -7.868e-05\n",
      "P50, P02.5, P97.5: -8.717, -13.238, -5.860\n",
      "changes: -5.527e-02, -9.102e-02, -5.478e-03\n",
      "P50, P02.5, P97.5: -8.717, -13.223, -5.843\n",
      "changes: 4.313e-02, 1.493e-03, 6.598e-02\n",
      "P50, P02.5, P97.5: -8.753, -13.208, -5.866\n",
      "changes: 7.395e-03, 1.493e-03, -2.325e-03\n",
      "P50, P02.5, P97.5: -8.753, -13.185, -5.790\n",
      "changes: -1.787e-02, 4.304e-03, -2.336e-05\n",
      "P50, P02.5, P97.5: -8.717, -13.142, -5.386\n",
      "changes: 1.787e-02, 4.304e-03, -1.479e-02\n",
      "P50, P02.5, P97.5: -8.607, -13.223, -5.534\n",
      "changes: -1.145e-02, 1.493e-03, -1.479e-02\n",
      "P50, P02.5, P97.5: -8.607, -13.208, -5.682\n",
      "changes: -1.145e-02, 1.493e-03, -1.479e-02\n",
      "P50, P02.5, P97.5: -8.717, -13.185, -5.790\n",
      "changes: -5.202e-02, 4.304e-03, -2.336e-05\n",
      "P50, P02.5, P97.5: -8.717, -13.142, -5.791\n",
      "changes: 1.666e-02, 4.304e-03, -2.336e-05\n",
      "P50, P02.5, P97.5: -8.717, -13.099, -5.791\n",
      "changes: 1.288e-02, 4.304e-03, -2.336e-05\n",
      "P50, P02.5, P97.5: -8.743, -13.056, -5.791\n",
      "changes: 3.788e-03, 4.304e-03, -2.336e-05\n",
      "Performing loss factor analysis...\n",
      "\n",
      "                    ***************************************\n",
      "                    * Solar Data Tools Loss Factor Report *\n",
      "                    ***************************************\n",
      "\n",
      "                    degradation rate [%/yr]:                    -9.145\n",
      "                    deg. rate 95% confidence:          [-13.016, -5.790]\n",
      "                    total energy loss [kWh]:                -1822848.5\n",
      "                    bulk deg. energy loss (gain) [kWh]:      -345118.2\n",
      "                    soiling energy loss [kWh]:                -89326.8\n",
      "                    capacity change energy loss [kWh]:          -640.4\n",
      "                    weather energy loss [kWh]:               -884898.7\n",
      "                    system outage loss [kWh]:                -502864.4\n",
      "                    \n"
     ]
    },
    {
     "name": "stderr",
     "output_type": "stream",
     "text": [
      "2024-05-01 23:15:10,559 - distributed.nanny - WARNING - Worker process still alive after 3.1999989318847657 seconds, killing\n",
      "2024-05-01 23:15:10,563 - distributed.nanny - WARNING - Worker process still alive after 3.1999992370605472 seconds, killing\n"
     ]
    },
    {
     "name": "stdout",
     "output_type": "stream",
     "text": [
      "CPU times: user 25.9 s, sys: 4.46 s, total: 30.3 s\n",
      "Wall time: 3min 40s\n"
     ]
    }
   ],
   "source": [
    "%%time\n",
    "dask_tool.get_result()"
   ]
  },
  {
   "cell_type": "code",
   "execution_count": null,
   "id": "f0261bbf-cf51-4fbd-9272-9653d673b9da",
   "metadata": {},
   "outputs": [],
   "source": []
  }
 ],
 "metadata": {
  "kernelspec": {
   "display_name": "Python 3 (ipykernel)",
   "language": "python",
   "name": "python3"
  },
  "language_info": {
   "codemirror_mode": {
    "name": "ipython",
    "version": 3
   },
   "file_extension": ".py",
   "mimetype": "text/x-python",
   "name": "python",
   "nbconvert_exporter": "python",
   "pygments_lexer": "ipython3",
   "version": "3.10.11"
  }
 },
 "nbformat": 4,
 "nbformat_minor": 5
}
