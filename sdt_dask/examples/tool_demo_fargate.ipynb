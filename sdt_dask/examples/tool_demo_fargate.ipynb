{
 "cells": [
  {
   "cell_type": "code",
   "execution_count": 1,
   "id": "e14e423d-98b7-47ac-b6d9-a48a7b1fdae9",
   "metadata": {},
   "outputs": [],
   "source": [
    "%load_ext autoreload\n",
    "%autoreload 2"
   ]
  },
  {
   "cell_type": "code",
   "execution_count": 2,
   "id": "65780482",
   "metadata": {},
   "outputs": [],
   "source": [
    "import glob, os\n",
    "from sdt_dask.clients.aws.fargate_client import FargateClient\n",
    "from sdt_dask.dataplugs.S3Bucket_plug import S3Bucket\n",
    "from sdt_dask.dask_tool.runner import Runner"
   ]
  },
  {
   "cell_type": "markdown",
   "id": "174b67c3-9e32-4807-bd83-1095c108c1a8",
   "metadata": {},
   "source": [
    "# Import user-defined dataplug"
   ]
  },
  {
   "cell_type": "markdown",
   "id": "ac5bbda9",
   "metadata": {},
   "source": [
    "## Pull from S3Bucket"
   ]
  },
  {
   "cell_type": "code",
   "execution_count": 3,
   "id": "21b7c180",
   "metadata": {},
   "outputs": [
    {
     "data": {
      "text/plain": [
       "\u001b[0;31mInit signature:\u001b[0m \u001b[0mS3Bucket\u001b[0m\u001b[0;34m(\u001b[0m\u001b[0mbucket_name\u001b[0m\u001b[0;34m)\u001b[0m\u001b[0;34m\u001b[0m\u001b[0;34m\u001b[0m\u001b[0m\n",
       "\u001b[0;31mDocstring:\u001b[0m     \n",
       "Dataplug class for retrieving data from an S3 bucket.\n",
       "aws configurations for the AWS CLI must be set up in local environment\n",
       "\u001b[0;31mInit docstring:\u001b[0m\n",
       "Initialize the S3Bucket object with the bucket name.\n",
       "\n",
       ":param bucket_name: The name of the S3 bucket to pull data from\n",
       "\u001b[0;31mFile:\u001b[0m           /mnt/c/Users/22720/OneDrive/Documents/solar-data-tools/sdt_dask/dataplugs/S3Bucket_plug.py\n",
       "\u001b[0;31mType:\u001b[0m           type\n",
       "\u001b[0;31mSubclasses:\u001b[0m     "
      ]
     },
     "metadata": {},
     "output_type": "display_data"
    }
   ],
   "source": [
    "S3Bucket?"
   ]
  },
  {
   "cell_type": "code",
   "execution_count": 4,
   "id": "d4969eee",
   "metadata": {},
   "outputs": [
    {
     "data": {
      "text/plain": [
       "[('001C4B0008A5.csv',), ('001C4B001069.csv',), ('0022F2006723.csv',)]"
      ]
     },
     "execution_count": 4,
     "metadata": {},
     "output_type": "execute_result"
    }
   ],
   "source": [
    "bucket_name = \"pvinsight-dask-baseline\"\n",
    "s3_data_plug = S3Bucket(bucket_name)\n",
    "KEYS = s3_data_plug._pull_keys()\n",
    "KEYS = [(key,) for key in KEYS]\n",
    "s3_data_plug.get_data(KEYS[0])\n",
    "KEYS = KEYS[:3]\n",
    "KEYS"
   ]
  },
  {
   "cell_type": "markdown",
   "id": "2f4918c1-1f83-4610-8d5e-adb0d69e8549",
   "metadata": {},
   "source": [
    "# Initialize the Client"
   ]
  },
  {
   "cell_type": "code",
   "execution_count": 5,
   "id": "d2ea4e94-38e8-479d-a978-24df7e680cf6",
   "metadata": {},
   "outputs": [],
   "source": [
    "# Use should define an environment variable for secret key\n",
    "PA_NUMBER = os.getenv(\"project_pa_number\")\n",
    "AWS_DEFAULT_REGION = os.getenv('AWS_DEFAULT_REGION')\n",
    "ENVIRONMENT = {\n",
    "    'AWS_ACCESS_KEY_ID' : os.getenv('AWS_ACCESS_KEY_ID'),\n",
    "    'AWS_SECRET_ACCESS_KEY' : os.getenv('AWS_SECRET_ACCESS_KEY')\n",
    "}"
   ]
  },
  {
   "cell_type": "code",
   "execution_count": 6,
   "id": "48467ebf-c5cb-49f1-8c32-7fd8052149b0",
   "metadata": {},
   "outputs": [],
   "source": [
    "# The Tag, VPC, image, workers, threads per worker and environment need to be user defined and passed to the client class\n",
    "TAGS = {\n",
    "    \"project-pa-number\": PA_NUMBER,\n",
    "    \"project\": \"pvinsight\"\n",
    "}\n",
    "VPC = \"vpc-ab2ff6d3\" # for us-west-2\n",
    "IMAGE = \"nimishy/p_3.10.11_dask:latest\"\n",
    "\n",
    "WORKERS = 1\n",
    "THREADS_PER_WORKER = 1"
   ]
  },
  {
   "cell_type": "code",
   "execution_count": 7,
   "id": "4a78dd64-6017-4f83-a559-16e869927849",
   "metadata": {},
   "outputs": [
    {
     "name": "stdout",
     "output_type": "stream",
     "text": [
      "Initializing Fargate Cluster with 1 workers, 1 threads and 16384MiB per worker...\n"
     ]
    },
    {
     "name": "stderr",
     "output_type": "stream",
     "text": [
      "/home/zhang/miniconda3/envs/manual-env/lib/python3.10/contextlib.py:142: UserWarning: Creating your cluster is taking a surprisingly long time. This is likely due to pending resources on AWS. Hang tight! \n",
      "  next(self.gen)\n"
     ]
    },
    {
     "name": "stdout",
     "output_type": "stream",
     "text": [
      "Initialized Fargate Cluster\n",
      "Initializing Dask Client ...\n",
      "Dask Dashboard Link: http://35.90.190.44:8787/status\n"
     ]
    }
   ],
   "source": [
    "client_setup = FargateClient(image=IMAGE,\n",
    "                             tags=TAGS,\n",
    "                             vpc=VPC,\n",
    "                             region_name=AWS_DEFAULT_REGION,\n",
    "                             environment=ENVIRONMENT,\n",
    "                             workers=WORKERS,\n",
    "                             threads=THREADS_PER_WORKER\n",
    "                            )\n",
    "# Dask Local Client Initialization\n",
    "client = client_setup.init_client()"
   ]
  },
  {
   "cell_type": "markdown",
   "id": "fa282b3f-be48-47be-95dd-a7ed8b4f206c",
   "metadata": {},
   "source": [
    "# Use Runner to take in data plug and cluster then run the Dask tasks\n"
   ]
  },
  {
   "cell_type": "code",
   "execution_count": 8,
   "id": "28c09148-f247-4301-91ee-76f8ec7657a1",
   "metadata": {},
   "outputs": [
    {
     "data": {
      "image/png": "[encoded data removed]",
      "text/plain": [
       "<IPython.core.display.Image object>"
      ]
     },
     "metadata": {},
     "output_type": "display_data"
    }
   ],
   "source": [
    "runner = Runner(data_plug=s3_data_plug,\n",
    "                client=client,\n",
    "                output_path=f\"../result/\")\n",
    "\n",
    "runner.set_up(KEYS, fix_shifts=True, verbose=True)\n",
    "runner.visualize()\n",
    "\n",
    "from IPython.display import display, Image\n",
    "display(Image(filename='sdt_graph.png'))\n"
   ]
  },
  {
   "cell_type": "markdown",
   "id": "a51544f2",
   "metadata": {},
   "source": [
    "# Get final result table"
   ]
  },
  {
   "cell_type": "code",
   "execution_count": 9,
   "id": "18443343-1ee4-4102-9fee-c71ac5c3489a",
   "metadata": {},
   "outputs": [],
   "source": [
    "runner.get_result()\n",
    "\n",
    "# The result table and dask report has been saved in the folder you specified in the output_path parameter of the Runner object,\n",
    "# you could check it out"
   ]
  },
  {
   "cell_type": "code",
   "execution_count": null,
   "id": "6af20e18-ef51-481e-94b0-462240971ff1",
   "metadata": {},
   "outputs": [],
   "source": []
  }
 ],
 "metadata": {
  "kernelspec": {
   "display_name": "Python 3 (ipykernel)",
   "language": "python",
   "name": "python3"
  },
  "language_info": {
   "codemirror_mode": {
    "name": "ipython",
    "version": 3
   },
   "file_extension": ".py",
   "mimetype": "text/x-python",
   "name": "python",
   "nbconvert_exporter": "python",
   "pygments_lexer": "ipython3",
   "version": "3.10.11"
  },
  "vscode": {
   "interpreter": {
    "hash": "563caecf4d2966d415acedaeb06ecd8f04c22f911b15c7586f55c5d4e031deb0"
   }
  }
 },
 "nbformat": 4,
 "nbformat_minor": 5
}
