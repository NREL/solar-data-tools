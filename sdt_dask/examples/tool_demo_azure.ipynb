{
 "cells": [
  {
   "cell_type": "code",
   "execution_count": 1,
   "id": "e14e423d-98b7-47ac-b6d9-a48a7b1fdae9",
   "metadata": {},
   "outputs": [],
   "source": [
    "%load_ext autoreload\n",
    "%autoreload 2"
   ]
  },
  {
   "cell_type": "code",
   "execution_count": 2,
   "id": "65780482",
   "metadata": {},
   "outputs": [],
   "source": [
    "import glob, os\n",
    "from sdt_dask.clients.azure.azure_client import AzureClient\n",
    "from sdt_dask.dataplugs.S3Bucket_plug import S3Bucket\n",
    "from sdt_dask.dask_tool.runner import Runner"
   ]
  },
  {
   "cell_type": "markdown",
   "id": "174b67c3-9e32-4807-bd83-1095c108c1a8",
   "metadata": {},
   "source": [
    "# Import user-defined dataplug"
   ]
  },
  {
   "cell_type": "markdown",
   "id": "b0131901",
   "metadata": {},
   "source": [
    "## Pull from S3 database"
   ]
  },
  {
   "cell_type": "code",
   "execution_count": 3,
   "id": "9720e07b",
   "metadata": {},
   "outputs": [
    {
     "name": "stdout",
     "output_type": "stream",
     "text": [
      "\u001b[0;31mInit signature:\u001b[0m \u001b[0mS3Bucket\u001b[0m\u001b[0;34m(\u001b[0m\u001b[0mbucket_name\u001b[0m\u001b[0;34m)\u001b[0m\u001b[0;34m\u001b[0m\u001b[0;34m\u001b[0m\u001b[0m\n",
      "\u001b[0;31mDocstring:\u001b[0m     \n",
      "Dataplug class for retrieving data from an S3 bucket.\n",
      "aws configurations for the AWS CLI must be set up in local environment\n",
      "\u001b[0;31mInit docstring:\u001b[0m\n",
      "Initialize the S3Bucket object with the bucket name.\n",
      "\n",
      ":param bucket_name: The name of the S3 bucket to pull data from\n",
      "\u001b[0;31mFile:\u001b[0m           ~/Desktop/SLAC_clone/solar-data-tools/sdt_dask/dataplugs/S3Bucket_plug.py\n",
      "\u001b[0;31mType:\u001b[0m           type\n",
      "\u001b[0;31mSubclasses:\u001b[0m     "
     ]
    }
   ],
   "source": [
    "S3Bucket?"
   ]
  },
  {
   "cell_type": "code",
   "execution_count": 4,
   "id": "d44478ba",
   "metadata": {},
   "outputs": [
    {
     "name": "stderr",
     "output_type": "stream",
     "text": [
      "/Users/liuhaoyang/Desktop/SLAC_clone/solar-data-tools/solardatatools/time_axis_manipulation.py:79: FutureWarning: Series.__getitem__ treating keys as positions is deprecated. In a future version, integer keys will always be treated as labels (consistent with DataFrame behavior). To access a value by position, use `ser.iloc[pos]`\n",
      "  meas_name = str(df_view[name_key][0])\n",
      "/Users/liuhaoyang/Desktop/SLAC_clone/solar-data-tools/solardatatools/time_axis_manipulation.py:79: FutureWarning: Series.__getitem__ treating keys as positions is deprecated. In a future version, integer keys will always be treated as labels (consistent with DataFrame behavior). To access a value by position, use `ser.iloc[pos]`\n",
      "  meas_name = str(df_view[name_key][0])\n"
     ]
    },
    {
     "data": {
      "text/html": [
       "<div>\n",
       "<style scoped>\n",
       "    .dataframe tbody tr th:only-of-type {\n",
       "        vertical-align: middle;\n",
       "    }\n",
       "\n",
       "    .dataframe tbody tr th {\n",
       "        vertical-align: top;\n",
       "    }\n",
       "\n",
       "    .dataframe thead th {\n",
       "        text-align: right;\n",
       "    }\n",
       "</style>\n",
       "<table border=\"1\" class=\"dataframe\">\n",
       "  <thead>\n",
       "    <tr style=\"text-align: right;\">\n",
       "      <th></th>\n",
       "      <th>ac_power_01</th>\n",
       "    </tr>\n",
       "    <tr>\n",
       "      <th>ts</th>\n",
       "      <th></th>\n",
       "    </tr>\n",
       "  </thead>\n",
       "  <tbody>\n",
       "    <tr>\n",
       "      <th>2017-09-13 06:22:32</th>\n",
       "      <td>0.0</td>\n",
       "    </tr>\n",
       "    <tr>\n",
       "      <th>2017-09-13 06:37:32</th>\n",
       "      <td>18.0</td>\n",
       "    </tr>\n",
       "    <tr>\n",
       "      <th>2017-09-13 06:52:32</th>\n",
       "      <td>53.0</td>\n",
       "    </tr>\n",
       "    <tr>\n",
       "      <th>2017-09-13 07:07:35</th>\n",
       "      <td>70.0</td>\n",
       "    </tr>\n",
       "    <tr>\n",
       "      <th>2017-09-13 07:22:34</th>\n",
       "      <td>136.0</td>\n",
       "    </tr>\n",
       "    <tr>\n",
       "      <th>...</th>\n",
       "      <td>...</td>\n",
       "    </tr>\n",
       "    <tr>\n",
       "      <th>2018-10-12 16:51:04</th>\n",
       "      <td>217.0</td>\n",
       "    </tr>\n",
       "    <tr>\n",
       "      <th>2018-10-12 17:06:04</th>\n",
       "      <td>131.0</td>\n",
       "    </tr>\n",
       "    <tr>\n",
       "      <th>2018-10-12 17:21:04</th>\n",
       "      <td>54.0</td>\n",
       "    </tr>\n",
       "    <tr>\n",
       "      <th>2018-10-12 17:36:04</th>\n",
       "      <td>15.0</td>\n",
       "    </tr>\n",
       "    <tr>\n",
       "      <th>2018-10-12 17:51:04</th>\n",
       "      <td>0.0</td>\n",
       "    </tr>\n",
       "  </tbody>\n",
       "</table>\n",
       "<p>18188 rows × 1 columns</p>\n",
       "</div>"
      ],
      "text/plain": [
       "                     ac_power_01\n",
       "ts                              \n",
       "2017-09-13 06:22:32          0.0\n",
       "2017-09-13 06:37:32         18.0\n",
       "2017-09-13 06:52:32         53.0\n",
       "2017-09-13 07:07:35         70.0\n",
       "2017-09-13 07:22:34        136.0\n",
       "...                          ...\n",
       "2018-10-12 16:51:04        217.0\n",
       "2018-10-12 17:06:04        131.0\n",
       "2018-10-12 17:21:04         54.0\n",
       "2018-10-12 17:36:04         15.0\n",
       "2018-10-12 17:51:04          0.0\n",
       "\n",
       "[18188 rows x 1 columns]"
      ]
     },
     "execution_count": 4,
     "metadata": {},
     "output_type": "execute_result"
    }
   ],
   "source": [
    "bucket_name = \"pvinsight-dask-baseline\"\n",
    "s3_data_plug = S3Bucket(bucket_name)\n",
    "KEYS = s3_data_plug._pull_keys()\n",
    "KEYS = [(key,) for key in KEYS]\n",
    "s3_data_plug.get_data(KEYS[0])\n",
    "KEYS = KEYS[:3]\n",
    "KEYS\n",
    "\n",
    "s3_data_plug.get_data(KEYS[0])"
   ]
  },
  {
   "cell_type": "markdown",
   "id": "2f4918c1-1f83-4610-8d5e-adb0d69e8549",
   "metadata": {},
   "source": [
    "# Initialize the Client"
   ]
  },
  {
   "cell_type": "code",
   "execution_count": 5,
   "id": "4a78dd64-6017-4f83-a559-16e869927849",
   "metadata": {},
   "outputs": [
    {
     "name": "stdout",
     "output_type": "stream",
     "text": [
      "Initializing Azure Cluster with 1 workers, 2 threads and 15.63MiB per worker...\n",
      "Creating scheduler instance\n",
      "Assigned public IP\n",
      "Network interface ready\n",
      "Creating VM\n",
      "Created VM dask-357e6e36-scheduler\n",
      "Waiting for scheduler to run at 20.191.115.75:8786\n",
      "Scheduler is running\n"
     ]
    },
    {
     "name": "stderr",
     "output_type": "stream",
     "text": [
      "/Users/liuhaoyang/anaconda3/envs/SLAC/lib/python3.10/contextlib.py:142: UserWarning: Creating your cluster is taking a surprisingly long time. This is likely due to pending resources. Hang tight! \n",
      "  next(self.gen)\n"
     ]
    },
    {
     "name": "stdout",
     "output_type": "stream",
     "text": [
      "Creating worker instance\n",
      "Network interface ready\n",
      "Creating VM\n",
      "Created VM dask-357e6e36-worker-2c39e63f\n",
      "Initialized Azure VM Cluster\n",
      "Initializing Dask Client ...\n",
      "Dask Dashboard: http://20.191.115.75:8787/status\n"
     ]
    },
    {
     "name": "stderr",
     "output_type": "stream",
     "text": [
      "/Users/liuhaoyang/anaconda3/envs/SLAC/lib/python3.10/site-packages/distributed/client.py:1391: VersionMismatchWarning: Mismatched versions found\n",
      "\n",
      "+---------+-----------------+-----------------+---------+\n",
      "| Package | Client          | Scheduler       | Workers |\n",
      "+---------+-----------------+-----------------+---------+\n",
      "| python  | 3.10.13.final.0 | 3.10.11.final.0 | None    |\n",
      "+---------+-----------------+-----------------+---------+\n",
      "  warnings.warn(version_module.VersionMismatchWarning(msg[0][\"warning\"]))\n"
     ]
    }
   ],
   "source": [
    "# using the maximum memory limit for Azure VM\n",
    "client_setup = AzureClient(\n",
    "    workers=1,\n",
    "    threads=2,\n",
    "    memory=15.63,\n",
    "    resource_group=\"pvinsight-dask\",\n",
    "    vnet=\"dask-vnet\",\n",
    "    security_group=\"pvinsight-dask\",\n",
    "    docker_image=\"nimishy/p_3.10.11_dask:latest\",\n",
    "    location=\"westus2\",\n",
    "    vm_size=\"Standard_D4s_v3\",\n",
    "    public_ingress=True,\n",
    "    disk_size=30,\n",
    "    # Environment variables needed to let VM have access to the S3 bucket\n",
    "    env_vars={ \n",
    "        \"AWS_ACCESS_KEY_ID\": os.environ[\"AWS_ACCESS_KEY_ID\"],\n",
    "        \"AWS_SECRET_ACCESS_KEY\": os.environ[\"AWS_SECRET_ACCESS_KEY\"],\n",
    "        \"AWS_REGION\": os.environ[\"AWS_REGION\"]\n",
    "    }\n",
    ")\n",
    "# Dask Local Client Initialization\n",
    "client = client_setup.init_client()"
   ]
  },
  {
   "cell_type": "markdown",
   "id": "fa282b3f-be48-47be-95dd-a7ed8b4f206c",
   "metadata": {},
   "source": [
    "# Use Runner to take in data plug and cluster then run the Dask tasks\n"
   ]
  },
  {
   "cell_type": "code",
   "execution_count": 6,
   "id": "28c09148-f247-4301-91ee-76f8ec7657a1",
   "metadata": {},
   "outputs": [
    {
     "data": {
      "image/png": "[encoded data removed]",
      "text/plain": [
       "<IPython.core.display.Image object>"
      ]
     },
     "metadata": {},
     "output_type": "display_data"
    }
   ],
   "source": [
    "runner = Runner(data_plug=s3_data_plug,\n",
    "                client=client,\n",
    "                output_path=f\"../result/\")\n",
    "\n",
    "runner.set_up(KEYS, fix_shifts=True, verbose=True)\n",
    "runner.visualize()\n",
    "\n",
    "from IPython.display import display, Image\n",
    "display(Image(filename='sdt_graph.png'))\n"
   ]
  },
  {
   "cell_type": "markdown",
   "id": "a51544f2",
   "metadata": {},
   "source": [
    "# Get final result table"
   ]
  },
  {
   "cell_type": "code",
   "execution_count": 7,
   "id": "18443343-1ee4-4102-9fee-c71ac5c3489a",
   "metadata": {},
   "outputs": [
    {
     "name": "stdout",
     "output_type": "stream",
     "text": [
      "Terminated VM dask-357e6e36-worker-2c39e63f\n",
      "Removed disks for VM dask-357e6e36-worker-2c39e63f\n",
      "Deleted network interface\n",
      "Terminated VM dask-357e6e36-scheduler\n",
      "Removed disks for VM dask-357e6e36-scheduler\n",
      "Deleted network interface\n",
      "Unassigned public IP\n"
     ]
    }
   ],
   "source": [
    "runner.get_result()\n",
    "\n",
    "# The result table and dask report has been saved in the folder you specified in the output_path parameter of the Runner object"
   ]
  },
  {
   "cell_type": "code",
   "execution_count": 10,
   "id": "7ba9521a",
   "metadata": {},
   "outputs": [
    {
     "name": "stdout",
     "output_type": "stream",
     "text": [
      "     length  capacity  sampling  quality score  clearness score  inverter clipping  clipped fraction  capacity change  data quality warning  time shift correction  time zone correction  degradation rate [%/yr]  deg rate lower bound [%/yr]  deg rate upper bound [%/yr]  total energy loss [kWh]  degradation energy loss [kWh]  soiling energy loss [kWh]  capacity change energy loss [kWh]  weather energy loss [kWh]  system outage loss [kWh]     runtime get_data_errors run_pipeline_errors run_pipeline_report_errors                           run_loss_analysis_errors     loss_analysis_report_errors       key_field_0\n",
      "0  1.082192   3.00120        15       0.918987         0.541772              False          0.007595            False                 False                   True                     0                -9.616940                   -12.974504                     -4.88699            -1.845696e+06                 -362716.743819              -95713.813191                         -46.976370             -883625.519232            -503593.071354  113.153228        No Error            No Error                   No Error                                           No Error                        No Error  001C4B0008A5.csv\n",
      "1  1.090411   2.87535        15       0.932161         0.552764               True          0.035176            False                  True                   True                     0                -6.157126                   -10.654638                     -2.69043            -1.414913e+06                 -215131.283572             -100963.685768                         -40.269056             -748947.151555            -349830.352822  106.102397        No Error            No Error                   No Error                                           No Error                        No Error  001C4B001069.csv\n",
      "2  0.613699   6.34000        15       0.857143         0.441964               True          0.075893            False                 False                  False                     0                      NaN                          NaN                          NaN                      NaN                            NaN                        NaN                                NaN                        NaN                       NaN   80.053888        No Error            No Error                   No Error  The length of data is less than or equal to 1 ...  Loss analysis is not performed  0022F2006723.csv\n"
     ]
    }
   ],
   "source": [
    "import pandas as pd\n",
    "pd.set_option('display.max_columns', None)\n",
    "pd.set_option('display.width', 1000) \n",
    "for file in glob.glob(\"../result/*.csv\"):\n",
    "    df = pd.read_csv(file, index_col=0)\n",
    "    print(df)"
   ]
  }
 ],
 "metadata": {
  "kernelspec": {
   "display_name": "Python 3 (ipykernel)",
   "language": "python",
   "name": "python3"
  },
  "language_info": {
   "codemirror_mode": {
    "name": "ipython",
    "version": 3
   },
   "file_extension": ".py",
   "mimetype": "text/x-python",
   "name": "python",
   "nbconvert_exporter": "python",
   "pygments_lexer": "ipython3",
   "version": "3.10.13"
  },
  "vscode": {
   "interpreter": {
    "hash": "563caecf4d2966d415acedaeb06ecd8f04c22f911b15c7586f55c5d4e031deb0"
   }
  }
 },
 "nbformat": 4,
 "nbformat_minor": 5
}
