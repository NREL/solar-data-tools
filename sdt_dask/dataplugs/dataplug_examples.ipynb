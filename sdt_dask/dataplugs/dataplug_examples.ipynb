{
 "cells": [
  {
   "cell_type": "markdown",
   "id": "dc143d87-57eb-4a72-8e0a-850bfc76cb70",
   "metadata": {},
   "source": [
    "# Demo of dataplugs"
   ]
  },
  {
   "cell_type": "code",
   "execution_count": 1,
   "id": "7a486fe7-b41a-4752-90f8-0f9437c6a3cf",
   "metadata": {},
   "outputs": [],
   "source": [
    "import glob, os\n",
    "from sdt_dask.dataplugs.pvdaq_plug import PVDAQPlug\n",
    "from sdt_dask.dataplugs.csv_plug import LocalFiles"
   ]
  },
  {
   "cell_type": "markdown",
   "id": "4acd9ec8-16ad-409b-86fb-fc6bb9b1bc38",
   "metadata": {},
   "source": [
    "## PVDAQ"
   ]
  },
  {
   "cell_type": "markdown",
   "id": "9d6c1a55-4629-4b43-9577-ed24dbd8918b",
   "metadata": {},
   "source": [
    "### Instantiate the dataplug"
   ]
  },
  {
   "cell_type": "code",
   "execution_count": 2,
   "id": "fd48001b-7ef6-4cf5-9d55-34983093a06a",
   "metadata": {},
   "outputs": [],
   "source": [
    "pvdaq_plug = PVDAQPlug()"
   ]
  },
  {
   "cell_type": "markdown",
   "id": "b189b094-d96c-41a4-a5c3-1acb2823f5cc",
   "metadata": {},
   "source": [
    "### Run `get_data` method "
   ]
  },
  {
   "cell_type": "code",
   "execution_count": 3,
   "id": "f3795195-c270-4f52-bed3-706c33511a8a",
   "metadata": {},
   "outputs": [
    {
     "data": {
      "text/plain": [
       "\u001b[0;31mSignature:\u001b[0m \u001b[0mpvdaq_plug\u001b[0m\u001b[0;34m.\u001b[0m\u001b[0mget_data\u001b[0m\u001b[0;34m(\u001b[0m\u001b[0mkeys\u001b[0m\u001b[0;34m:\u001b[0m \u001b[0mtuple\u001b[0m\u001b[0;34m[\u001b[0m\u001b[0mint\u001b[0m\u001b[0;34m,\u001b[0m \u001b[0mint\u001b[0m\u001b[0;34m]\u001b[0m\u001b[0;34m)\u001b[0m \u001b[0;34m->\u001b[0m \u001b[0mpandas\u001b[0m\u001b[0;34m.\u001b[0m\u001b[0mcore\u001b[0m\u001b[0;34m.\u001b[0m\u001b[0mframe\u001b[0m\u001b[0;34m.\u001b[0m\u001b[0mDataFrame\u001b[0m\u001b[0;34m\u001b[0m\u001b[0;34m\u001b[0m\u001b[0m\n",
       "\u001b[0;31mDocstring:\u001b[0m\n",
       "This is the main function that the Dask tool will interact with.\n",
       "Users should keep the args and returns as defined here when writing\n",
       "their custom dataplugs.\n",
       "\n",
       ":param keys: Tuple containing the required inputs: a unique set of\n",
       "    historical power generation measurements, and the year to query\n",
       ":return: Returns a pandas DataFrame with a timestamp column and\n",
       "    a power column\n",
       "\u001b[0;31mFile:\u001b[0m      ~/Documents/SLAC/PVInsight/solar-data-tools/sdt_dask/dataplugs/pvdaq_plug.py\n",
       "\u001b[0;31mType:\u001b[0m      method"
      ]
     },
     "metadata": {},
     "output_type": "display_data"
    }
   ],
   "source": [
    "pvdaq_plug.get_data?"
   ]
  },
  {
   "cell_type": "code",
   "execution_count": 4,
   "id": "6104bee0-691e-49bf-93c4-4ba15b25d133",
   "metadata": {},
   "outputs": [
    {
     "name": "stdout",
     "output_type": "stream",
     "text": [
      "[============================================================] 100.0% ...queries complete in 1.6 seconds       \n",
      "\n"
     ]
    }
   ],
   "source": [
    "pvdaq_plug._pull_data(34, 2011)"
   ]
  },
  {
   "cell_type": "code",
   "execution_count": 5,
   "id": "458c2ef4-8956-4838-a7ae-e4b3329fac80",
   "metadata": {},
   "outputs": [
    {
     "data": {
      "text/html": [
       "<div>\n",
       "<style scoped>\n",
       "    .dataframe tbody tr th:only-of-type {\n",
       "        vertical-align: middle;\n",
       "    }\n",
       "\n",
       "    .dataframe tbody tr th {\n",
       "        vertical-align: top;\n",
       "    }\n",
       "\n",
       "    .dataframe thead th {\n",
       "        text-align: right;\n",
       "    }\n",
       "</style>\n",
       "<table border=\"1\" class=\"dataframe\">\n",
       "  <thead>\n",
       "    <tr style=\"text-align: right;\">\n",
       "      <th></th>\n",
       "      <th>SiteID</th>\n",
       "      <th>ac_current</th>\n",
       "      <th>ac_power</th>\n",
       "      <th>ac_voltage</th>\n",
       "      <th>ambient_temp</th>\n",
       "      <th>dc_current</th>\n",
       "      <th>dc_power</th>\n",
       "      <th>dc_voltage</th>\n",
       "      <th>inverter_error_code</th>\n",
       "      <th>inverter_temp</th>\n",
       "      <th>module_temp</th>\n",
       "      <th>poa_irradiance</th>\n",
       "      <th>power_factor</th>\n",
       "      <th>relative_humidity</th>\n",
       "      <th>wind_direction</th>\n",
       "      <th>wind_speed</th>\n",
       "    </tr>\n",
       "  </thead>\n",
       "  <tbody>\n",
       "    <tr>\n",
       "      <th>2011-01-01 00:00:00</th>\n",
       "      <td>34.0</td>\n",
       "      <td>0.0</td>\n",
       "      <td>-200.0</td>\n",
       "      <td>284.0</td>\n",
       "      <td>-3.353332</td>\n",
       "      <td>0.0</td>\n",
       "      <td>-200.0</td>\n",
       "      <td>16.0</td>\n",
       "      <td>0.0</td>\n",
       "      <td>37.0</td>\n",
       "      <td>-7.105555</td>\n",
       "      <td>0.0</td>\n",
       "      <td>0.0</td>\n",
       "      <td>53.513</td>\n",
       "      <td>315.270</td>\n",
       "      <td>0.483250</td>\n",
       "    </tr>\n",
       "    <tr>\n",
       "      <th>2011-01-01 00:15:00</th>\n",
       "      <td>34.0</td>\n",
       "      <td>0.0</td>\n",
       "      <td>-300.0</td>\n",
       "      <td>284.0</td>\n",
       "      <td>-3.381110</td>\n",
       "      <td>0.0</td>\n",
       "      <td>-200.0</td>\n",
       "      <td>16.0</td>\n",
       "      <td>0.0</td>\n",
       "      <td>36.0</td>\n",
       "      <td>-6.944444</td>\n",
       "      <td>0.0</td>\n",
       "      <td>0.0</td>\n",
       "      <td>53.581</td>\n",
       "      <td>308.835</td>\n",
       "      <td>0.698724</td>\n",
       "    </tr>\n",
       "    <tr>\n",
       "      <th>2011-01-01 00:30:00</th>\n",
       "      <td>34.0</td>\n",
       "      <td>0.0</td>\n",
       "      <td>-300.0</td>\n",
       "      <td>284.0</td>\n",
       "      <td>-3.257777</td>\n",
       "      <td>0.0</td>\n",
       "      <td>-200.0</td>\n",
       "      <td>16.0</td>\n",
       "      <td>0.0</td>\n",
       "      <td>36.0</td>\n",
       "      <td>-6.344444</td>\n",
       "      <td>0.0</td>\n",
       "      <td>0.0</td>\n",
       "      <td>53.413</td>\n",
       "      <td>272.678</td>\n",
       "      <td>0.218156</td>\n",
       "    </tr>\n",
       "    <tr>\n",
       "      <th>2011-01-01 00:45:00</th>\n",
       "      <td>34.0</td>\n",
       "      <td>0.0</td>\n",
       "      <td>-200.0</td>\n",
       "      <td>283.0</td>\n",
       "      <td>-3.296666</td>\n",
       "      <td>0.0</td>\n",
       "      <td>0.0</td>\n",
       "      <td>15.0</td>\n",
       "      <td>0.0</td>\n",
       "      <td>36.0</td>\n",
       "      <td>-6.655555</td>\n",
       "      <td>0.0</td>\n",
       "      <td>0.0</td>\n",
       "      <td>52.406</td>\n",
       "      <td>55.913</td>\n",
       "      <td>0.159146</td>\n",
       "    </tr>\n",
       "    <tr>\n",
       "      <th>2011-01-01 01:00:00</th>\n",
       "      <td>34.0</td>\n",
       "      <td>0.0</td>\n",
       "      <td>-300.0</td>\n",
       "      <td>284.0</td>\n",
       "      <td>-3.426110</td>\n",
       "      <td>0.0</td>\n",
       "      <td>-200.0</td>\n",
       "      <td>14.0</td>\n",
       "      <td>0.0</td>\n",
       "      <td>35.0</td>\n",
       "      <td>-7.405555</td>\n",
       "      <td>0.0</td>\n",
       "      <td>0.0</td>\n",
       "      <td>53.588</td>\n",
       "      <td>152.145</td>\n",
       "      <td>0.240508</td>\n",
       "    </tr>\n",
       "  </tbody>\n",
       "</table>\n",
       "</div>"
      ],
      "text/plain": [
       "                     SiteID  ac_current  ac_power  ac_voltage  ambient_temp  \\\n",
       "2011-01-01 00:00:00    34.0         0.0    -200.0       284.0     -3.353332   \n",
       "2011-01-01 00:15:00    34.0         0.0    -300.0       284.0     -3.381110   \n",
       "2011-01-01 00:30:00    34.0         0.0    -300.0       284.0     -3.257777   \n",
       "2011-01-01 00:45:00    34.0         0.0    -200.0       283.0     -3.296666   \n",
       "2011-01-01 01:00:00    34.0         0.0    -300.0       284.0     -3.426110   \n",
       "\n",
       "                     dc_current  dc_power  dc_voltage  inverter_error_code  \\\n",
       "2011-01-01 00:00:00         0.0    -200.0        16.0                  0.0   \n",
       "2011-01-01 00:15:00         0.0    -200.0        16.0                  0.0   \n",
       "2011-01-01 00:30:00         0.0    -200.0        16.0                  0.0   \n",
       "2011-01-01 00:45:00         0.0       0.0        15.0                  0.0   \n",
       "2011-01-01 01:00:00         0.0    -200.0        14.0                  0.0   \n",
       "\n",
       "                     inverter_temp  module_temp  poa_irradiance  power_factor  \\\n",
       "2011-01-01 00:00:00           37.0    -7.105555             0.0           0.0   \n",
       "2011-01-01 00:15:00           36.0    -6.944444             0.0           0.0   \n",
       "2011-01-01 00:30:00           36.0    -6.344444             0.0           0.0   \n",
       "2011-01-01 00:45:00           36.0    -6.655555             0.0           0.0   \n",
       "2011-01-01 01:00:00           35.0    -7.405555             0.0           0.0   \n",
       "\n",
       "                     relative_humidity  wind_direction  wind_speed  \n",
       "2011-01-01 00:00:00             53.513         315.270    0.483250  \n",
       "2011-01-01 00:15:00             53.581         308.835    0.698724  \n",
       "2011-01-01 00:30:00             53.413         272.678    0.218156  \n",
       "2011-01-01 00:45:00             52.406          55.913    0.159146  \n",
       "2011-01-01 01:00:00             53.588         152.145    0.240508  "
      ]
     },
     "execution_count": 5,
     "metadata": {},
     "output_type": "execute_result"
    }
   ],
   "source": [
    "pvdaq_plug.df.head()"
   ]
  },
  {
   "cell_type": "code",
   "execution_count": 6,
   "id": "52ff813b-eccf-418a-968d-106fa0690782",
   "metadata": {},
   "outputs": [
    {
     "name": "stdout",
     "output_type": "stream",
     "text": [
      "[============================================================] 100.0% ...queries complete in 1.3 seconds       \n",
      "\n"
     ]
    }
   ],
   "source": [
    "df = pvdaq_plug.get_data((34,2011))"
   ]
  },
  {
   "cell_type": "code",
   "execution_count": 7,
   "id": "f1b3bea8-fa04-49ba-b2fb-e3c2aec048f6",
   "metadata": {},
   "outputs": [
    {
     "data": {
      "text/html": [
       "<div>\n",
       "<style scoped>\n",
       "    .dataframe tbody tr th:only-of-type {\n",
       "        vertical-align: middle;\n",
       "    }\n",
       "\n",
       "    .dataframe tbody tr th {\n",
       "        vertical-align: top;\n",
       "    }\n",
       "\n",
       "    .dataframe thead th {\n",
       "        text-align: right;\n",
       "    }\n",
       "</style>\n",
       "<table border=\"1\" class=\"dataframe\">\n",
       "  <thead>\n",
       "    <tr style=\"text-align: right;\">\n",
       "      <th></th>\n",
       "      <th>ac_power</th>\n",
       "    </tr>\n",
       "  </thead>\n",
       "  <tbody>\n",
       "    <tr>\n",
       "      <th>2011-01-01 00:00:00</th>\n",
       "      <td>-200.0</td>\n",
       "    </tr>\n",
       "    <tr>\n",
       "      <th>2011-01-01 00:15:00</th>\n",
       "      <td>-300.0</td>\n",
       "    </tr>\n",
       "    <tr>\n",
       "      <th>2011-01-01 00:30:00</th>\n",
       "      <td>-300.0</td>\n",
       "    </tr>\n",
       "    <tr>\n",
       "      <th>2011-01-01 00:45:00</th>\n",
       "      <td>-200.0</td>\n",
       "    </tr>\n",
       "    <tr>\n",
       "      <th>2011-01-01 01:00:00</th>\n",
       "      <td>-300.0</td>\n",
       "    </tr>\n",
       "  </tbody>\n",
       "</table>\n",
       "</div>"
      ],
      "text/plain": [
       "                     ac_power\n",
       "2011-01-01 00:00:00    -200.0\n",
       "2011-01-01 00:15:00    -300.0\n",
       "2011-01-01 00:30:00    -300.0\n",
       "2011-01-01 00:45:00    -200.0\n",
       "2011-01-01 01:00:00    -300.0"
      ]
     },
     "execution_count": 7,
     "metadata": {},
     "output_type": "execute_result"
    }
   ],
   "source": [
    "pvdaq_plug.df.head()"
   ]
  },
  {
   "cell_type": "code",
   "execution_count": 8,
   "id": "c7f8d598-44c4-4d58-a544-c9946112f17d",
   "metadata": {},
   "outputs": [
    {
     "data": {
      "text/html": [
       "<div>\n",
       "<style scoped>\n",
       "    .dataframe tbody tr th:only-of-type {\n",
       "        vertical-align: middle;\n",
       "    }\n",
       "\n",
       "    .dataframe tbody tr th {\n",
       "        vertical-align: top;\n",
       "    }\n",
       "\n",
       "    .dataframe thead th {\n",
       "        text-align: right;\n",
       "    }\n",
       "</style>\n",
       "<table border=\"1\" class=\"dataframe\">\n",
       "  <thead>\n",
       "    <tr style=\"text-align: right;\">\n",
       "      <th></th>\n",
       "      <th>ac_power</th>\n",
       "    </tr>\n",
       "  </thead>\n",
       "  <tbody>\n",
       "    <tr>\n",
       "      <th>2011-01-01 00:00:00</th>\n",
       "      <td>-200.0</td>\n",
       "    </tr>\n",
       "    <tr>\n",
       "      <th>2011-01-01 00:15:00</th>\n",
       "      <td>-300.0</td>\n",
       "    </tr>\n",
       "    <tr>\n",
       "      <th>2011-01-01 00:30:00</th>\n",
       "      <td>-300.0</td>\n",
       "    </tr>\n",
       "    <tr>\n",
       "      <th>2011-01-01 00:45:00</th>\n",
       "      <td>-200.0</td>\n",
       "    </tr>\n",
       "    <tr>\n",
       "      <th>2011-01-01 01:00:00</th>\n",
       "      <td>-300.0</td>\n",
       "    </tr>\n",
       "  </tbody>\n",
       "</table>\n",
       "</div>"
      ],
      "text/plain": [
       "                     ac_power\n",
       "2011-01-01 00:00:00    -200.0\n",
       "2011-01-01 00:15:00    -300.0\n",
       "2011-01-01 00:30:00    -300.0\n",
       "2011-01-01 00:45:00    -200.0\n",
       "2011-01-01 01:00:00    -300.0"
      ]
     },
     "execution_count": 8,
     "metadata": {},
     "output_type": "execute_result"
    }
   ],
   "source": [
    "df.head()"
   ]
  },
  {
   "cell_type": "markdown",
   "id": "c670d105-4ab0-433c-86b0-26454cc8e416",
   "metadata": {},
   "source": [
    "## Sunpower (Redshift)"
   ]
  },
  {
   "cell_type": "code",
   "execution_count": null,
   "id": "737290df-7474-4456-a8c9-2b868ba120a2",
   "metadata": {},
   "outputs": [],
   "source": []
  },
  {
   "cell_type": "markdown",
   "id": "2f97f331-8945-4e10-bb82-95def737119d",
   "metadata": {},
   "source": [
    "## Local CSVs (saved from Cassandra DB)"
   ]
  },
  {
   "cell_type": "code",
   "execution_count": 9,
   "id": "361d5941-b318-45c3-905d-35af93623533",
   "metadata": {},
   "outputs": [
    {
     "data": {
      "text/plain": [
       "\u001b[0;31mInit signature:\u001b[0m \u001b[0mLocalFiles\u001b[0m\u001b[0;34m(\u001b[0m\u001b[0mpath_to_files\u001b[0m\u001b[0;34m,\u001b[0m \u001b[0mext\u001b[0m\u001b[0;34m=\u001b[0m\u001b[0;34m'.csv'\u001b[0m\u001b[0;34m)\u001b[0m\u001b[0;34m\u001b[0m\u001b[0;34m\u001b[0m\u001b[0m\n",
       "\u001b[0;31mDocstring:\u001b[0m     \n",
       "Dataplug class for retrieving data from some source. It's recommended\n",
       "that user-created dataplug inherit from this class to ensure compatibility.\n",
       "\n",
       "The initialization argument for each class will be different depending on\n",
       "the source. The main requirement is to keep the ``Dataplug.get_data`` method,\n",
       "and make sure the args and returns as defined here.\n",
       "\u001b[0;31mFile:\u001b[0m           ~/Documents/SLAC/PVInsight/solar-data-tools/sdt_dask/dataplugs/csv_plug.py\n",
       "\u001b[0;31mType:\u001b[0m           type\n",
       "\u001b[0;31mSubclasses:\u001b[0m     "
      ]
     },
     "metadata": {},
     "output_type": "display_data"
    }
   ],
   "source": [
    "LocalFiles?"
   ]
  },
  {
   "cell_type": "code",
   "execution_count": 10,
   "id": "b6c058e8-cb0b-4279-8df7-b2eba4fd0f1b",
   "metadata": {},
   "outputs": [],
   "source": [
    "path = \"example_data/\"\n",
    "data_plug = LocalFiles(path_to_files=path)"
   ]
  },
  {
   "cell_type": "code",
   "execution_count": 11,
   "id": "cb2e5b0b-14fa-43f3-bbf1-fdaf15f2324a",
   "metadata": {},
   "outputs": [
    {
     "data": {
      "text/plain": [
       "['TABC01142170', 'TAAI01129193', 'TABD01110568']"
      ]
     },
     "execution_count": 11,
     "metadata": {},
     "output_type": "execute_result"
    }
   ],
   "source": [
    "KEYS = [os.path.basename(fname)[:-4] for fname in glob.glob(path + \"*\")]\n",
    "KEYS"
   ]
  },
  {
   "cell_type": "code",
   "execution_count": 12,
   "id": "014a4732-f2f0-4eb4-80e5-feb67d0bce98",
   "metadata": {},
   "outputs": [
    {
     "name": "stdout",
     "output_type": "stream",
     "text": [
      "Loading file TAAI01129193...\n"
     ]
    },
    {
     "data": {
      "text/html": [
       "<div>\n",
       "<style scoped>\n",
       "    .dataframe tbody tr th:only-of-type {\n",
       "        vertical-align: middle;\n",
       "    }\n",
       "\n",
       "    .dataframe tbody tr th {\n",
       "        vertical-align: top;\n",
       "    }\n",
       "\n",
       "    .dataframe thead th {\n",
       "        text-align: right;\n",
       "    }\n",
       "</style>\n",
       "<table border=\"1\" class=\"dataframe\">\n",
       "  <thead>\n",
       "    <tr style=\"text-align: right;\">\n",
       "      <th></th>\n",
       "      <th>ac_power_01</th>\n",
       "    </tr>\n",
       "    <tr>\n",
       "      <th>ts</th>\n",
       "      <th></th>\n",
       "    </tr>\n",
       "  </thead>\n",
       "  <tbody>\n",
       "    <tr>\n",
       "      <th>2013-12-31 16:00:00</th>\n",
       "      <td>0.77230</td>\n",
       "    </tr>\n",
       "    <tr>\n",
       "      <th>2013-12-31 16:05:00</th>\n",
       "      <td>0.40505</td>\n",
       "    </tr>\n",
       "    <tr>\n",
       "      <th>2013-12-31 16:10:00</th>\n",
       "      <td>0.30915</td>\n",
       "    </tr>\n",
       "    <tr>\n",
       "      <th>2013-12-31 16:15:00</th>\n",
       "      <td>0.28485</td>\n",
       "    </tr>\n",
       "    <tr>\n",
       "      <th>2013-12-31 16:20:00</th>\n",
       "      <td>0.25345</td>\n",
       "    </tr>\n",
       "    <tr>\n",
       "      <th>...</th>\n",
       "      <td>...</td>\n",
       "    </tr>\n",
       "    <tr>\n",
       "      <th>2019-06-20 15:30:00</th>\n",
       "      <td>0.00000</td>\n",
       "    </tr>\n",
       "    <tr>\n",
       "      <th>2019-06-20 15:35:00</th>\n",
       "      <td>0.00000</td>\n",
       "    </tr>\n",
       "    <tr>\n",
       "      <th>2019-06-20 15:40:00</th>\n",
       "      <td>0.00000</td>\n",
       "    </tr>\n",
       "    <tr>\n",
       "      <th>2019-06-20 15:45:00</th>\n",
       "      <td>0.00000</td>\n",
       "    </tr>\n",
       "    <tr>\n",
       "      <th>2019-06-20 15:50:00</th>\n",
       "      <td>0.00000</td>\n",
       "    </tr>\n",
       "  </tbody>\n",
       "</table>\n",
       "<p>261557 rows × 1 columns</p>\n",
       "</div>"
      ],
      "text/plain": [
       "                     ac_power_01\n",
       "ts                              \n",
       "2013-12-31 16:00:00      0.77230\n",
       "2013-12-31 16:05:00      0.40505\n",
       "2013-12-31 16:10:00      0.30915\n",
       "2013-12-31 16:15:00      0.28485\n",
       "2013-12-31 16:20:00      0.25345\n",
       "...                          ...\n",
       "2019-06-20 15:30:00      0.00000\n",
       "2019-06-20 15:35:00      0.00000\n",
       "2019-06-20 15:40:00      0.00000\n",
       "2019-06-20 15:45:00      0.00000\n",
       "2019-06-20 15:50:00      0.00000\n",
       "\n",
       "[261557 rows x 1 columns]"
      ]
     },
     "execution_count": 12,
     "metadata": {},
     "output_type": "execute_result"
    }
   ],
   "source": [
    "data_plug.get_data(KEYS[1])"
   ]
  },
  {
   "cell_type": "code",
   "execution_count": null,
   "id": "13a4bac2-68f5-4d71-abb6-ae674f9e0fb3",
   "metadata": {},
   "outputs": [],
   "source": []
  }
 ],
 "metadata": {
  "kernelspec": {
   "display_name": "Python 3 (ipykernel)",
   "language": "python",
   "name": "python3"
  },
  "language_info": {
   "codemirror_mode": {
    "name": "ipython",
    "version": 3
   },
   "file_extension": ".py",
   "mimetype": "text/x-python",
   "name": "python",
   "nbconvert_exporter": "python",
   "pygments_lexer": "ipython3",
   "version": "3.10.11"
  }
 },
 "nbformat": 4,
 "nbformat_minor": 5
}
