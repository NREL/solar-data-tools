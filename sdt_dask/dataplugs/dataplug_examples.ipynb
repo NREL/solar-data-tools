{
 "cells": [
  {
   "cell_type": "markdown",
   "id": "dc143d87-57eb-4a72-8e0a-850bfc76cb70",
   "metadata": {},
   "source": [
    "# Demo of dataplugs"
   ]
  },
  {
   "cell_type": "code",
   "execution_count": null,
   "id": "7a486fe7-b41a-4752-90f8-0f9437c6a3cf",
   "metadata": {},
   "outputs": [],
   "source": [
    "import glob, os\n",
    "os.chdir('../..')\n",
    "from sdt_dask.dataplugs.pvdaq_plug import PVDAQPlug\n",
    "from sdt_dask.dataplugs.pvdb_plug import PVDBPlug\n",
    "from sdt_dask.dataplugs.csv_plug import LocalFiles\n",
    "from sdt_dask.dataplugs.S3Bucket_plug import S3BucketPlug"
   ]
  },
  {
   "cell_type": "markdown",
   "id": "4acd9ec8-16ad-409b-86fb-fc6bb9b1bc38",
   "metadata": {},
   "source": [
    "## PVDAQ"
   ]
  },
  {
   "cell_type": "markdown",
   "id": "9d6c1a55-4629-4b43-9577-ed24dbd8918b",
   "metadata": {},
   "source": [
    "### Instantiate the dataplug"
   ]
  },
  {
   "cell_type": "code",
   "execution_count": null,
   "id": "fd48001b-7ef6-4cf5-9d55-34983093a06a",
   "metadata": {},
   "outputs": [],
   "source": [
    "pvdaq_plug = PVDAQPlug()"
   ]
  },
  {
   "cell_type": "markdown",
   "id": "b189b094-d96c-41a4-a5c3-1acb2823f5cc",
   "metadata": {},
   "source": [
    "### Run `get_data` method "
   ]
  },
  {
   "cell_type": "code",
   "execution_count": null,
   "id": "f3795195-c270-4f52-bed3-706c33511a8a",
   "metadata": {},
   "outputs": [],
   "source": [
    "pvdaq_plug.get_data?"
   ]
  },
  {
   "cell_type": "code",
   "execution_count": null,
   "id": "6104bee0-691e-49bf-93c4-4ba15b25d133",
   "metadata": {},
   "outputs": [],
   "source": [
    "pvdaq_plug._pull_data(34, 2011)"
   ]
  },
  {
   "cell_type": "code",
   "execution_count": null,
   "id": "458c2ef4-8956-4838-a7ae-e4b3329fac80",
   "metadata": {},
   "outputs": [],
   "source": [
    "pvdaq_plug.df.head()"
   ]
  },
  {
   "cell_type": "code",
   "execution_count": null,
   "id": "52ff813b-eccf-418a-968d-106fa0690782",
   "metadata": {},
   "outputs": [],
   "source": [
    "df = pvdaq_plug.get_data((34,2011))"
   ]
  },
  {
   "cell_type": "code",
   "execution_count": null,
   "id": "f1b3bea8-fa04-49ba-b2fb-e3c2aec048f6",
   "metadata": {},
   "outputs": [],
   "source": [
    "pvdaq_plug.df.head()"
   ]
  },
  {
   "cell_type": "code",
   "execution_count": null,
   "id": "c7f8d598-44c4-4d58-a544-c9946112f17d",
   "metadata": {},
   "outputs": [],
   "source": [
    "df.head()"
   ]
  },
  {
   "cell_type": "markdown",
   "id": "c670d105-4ab0-433c-86b0-26454cc8e416",
   "metadata": {},
   "source": [
    "## Sunpower (Redshift)"
   ]
  },
  {
   "cell_type": "markdown",
   "id": "e607e5ea",
   "metadata": {},
   "source": [
    "### Instantiate the dataplug"
   ]
  },
  {
   "cell_type": "code",
   "execution_count": null,
   "id": "737290df-7474-4456-a8c9-2b868ba120a2",
   "metadata": {},
   "outputs": [],
   "source": [
    "pvdb_plug = PVDBPlug()"
   ]
  },
  {
   "cell_type": "markdown",
   "id": "6fd385cb",
   "metadata": {},
   "source": [
    "### Run `get_data` method "
   ]
  },
  {
   "cell_type": "code",
   "execution_count": null,
   "id": "1f216e99",
   "metadata": {},
   "outputs": [],
   "source": [
    "pvdb_plug.get_data?"
   ]
  },
  {
   "cell_type": "code",
   "execution_count": null,
   "id": "684f2ab6",
   "metadata": {},
   "outputs": [],
   "source": [
    "pvdb_plug._pull_data(\"TABJC1027159\", 0)\n",
    "pvdb_plug.df.head()"
   ]
  },
  {
   "cell_type": "code",
   "execution_count": null,
   "id": "da1ffe3e",
   "metadata": {},
   "outputs": [],
   "source": [
    "pvdb_plug.get_data((\"TABJC1027159\", 0))\n",
    "pvdb_plug.df.head()"
   ]
  },
  {
   "cell_type": "markdown",
   "id": "2f97f331-8945-4e10-bb82-95def737119d",
   "metadata": {},
   "source": [
    "## Local CSVs (saved from Cassandra DB)"
   ]
  },
  {
   "cell_type": "code",
   "execution_count": null,
   "id": "361d5941-b318-45c3-905d-35af93623533",
   "metadata": {},
   "outputs": [],
   "source": [
    "LocalFiles?"
   ]
  },
  {
   "cell_type": "code",
   "execution_count": null,
   "id": "b6c058e8-cb0b-4279-8df7-b2eba4fd0f1b",
   "metadata": {},
   "outputs": [],
   "source": [
    "path = \"example_data/\"\n",
    "data_plug = LocalFiles(path_to_files=path)"
   ]
  },
  {
   "cell_type": "code",
   "execution_count": null,
   "id": "cb2e5b0b-14fa-43f3-bbf1-fdaf15f2324a",
   "metadata": {},
   "outputs": [],
   "source": [
    "KEYS = [os.path.basename(fname)[:-4] for fname in glob.glob(path + \"*\")]\n",
    "KEYS"
   ]
  },
  {
   "cell_type": "code",
   "execution_count": null,
   "id": "014a4732-f2f0-4eb4-80e5-feb67d0bce98",
   "metadata": {},
   "outputs": [],
   "source": [
    "data_plug.get_data((KEYS[1],))"
   ]
  },
  {
   "cell_type": "markdown",
   "id": "5114d4d2",
   "metadata": {},
   "source": [
    "## S3 Bucket "
   ]
  },
  {
   "cell_type": "markdown",
   "id": "7010a35f",
   "metadata": {},
   "source": [
    "### Instantiate the dataplug"
   ]
  },
  {
   "cell_type": "code",
   "execution_count": null,
   "id": "13a4bac2-68f5-4d71-abb6-ae674f9e0fb3",
   "metadata": {},
   "outputs": [],
   "source": [
    "S3BucketPlug?\n",
    "\n",
    "data_plug= S3BucketPlug()\n",
    "\n",
    "data_plug.get_data?"
   ]
  }
 ],
 "metadata": {
  "kernelspec": {
   "display_name": "Python 3 (ipykernel)",
   "language": "python",
   "name": "python3"
  },
  "language_info": {
   "codemirror_mode": {
    "name": "ipython",
    "version": 3
   },
   "file_extension": ".py",
   "mimetype": "text/x-python",
   "name": "python",
   "nbconvert_exporter": "python",
   "pygments_lexer": "ipython3",
   "version": "3.10.13"
  }
 },
 "nbformat": 4,
 "nbformat_minor": 5
}
