{
 "cells": [
  {
   "cell_type": "code",
   "execution_count": 1,
   "id": "e14e423d-98b7-47ac-b6d9-a48a7b1fdae9",
   "metadata": {},
   "outputs": [],
   "source": [
    "%load_ext autoreload\n",
    "%autoreload 2"
   ]
  },
  {
   "cell_type": "code",
   "execution_count": 2,
   "id": "65780482",
   "metadata": {},
   "outputs": [],
   "source": [
    "import dask\n",
    "from solardatatools import DataHandler\n",
    "from sdt_dask.clients.aws.fargate import get_fargate_cluster\n",
    "from sdt_dask.dataplugs.pvdaq_plug import PVDAQPlug"
   ]
  },
  {
   "cell_type": "markdown",
   "id": "174b67c3-9e32-4807-bd83-1095c108c1a8",
   "metadata": {},
   "source": [
    "# Import user-defined dataplug"
   ]
  },
  {
   "cell_type": "code",
   "execution_count": 3,
   "id": "a9da17d2-708e-4458-977a-cd00ac4b1c89",
   "metadata": {},
   "outputs": [
    {
     "data": {
      "text/plain": [
       "\u001b[0;31mInit signature:\u001b[0m \u001b[0mPVDAQPlug\u001b[0m\u001b[0;34m(\u001b[0m\u001b[0myear\u001b[0m\u001b[0;34m,\u001b[0m \u001b[0mapi_key\u001b[0m\u001b[0;34m=\u001b[0m\u001b[0;34m'DEMO_KEY'\u001b[0m\u001b[0;34m,\u001b[0m \u001b[0mpower_col\u001b[0m\u001b[0;34m=\u001b[0m\u001b[0;34m'ac_power'\u001b[0m\u001b[0;34m)\u001b[0m\u001b[0;34m\u001b[0m\u001b[0;34m\u001b[0m\u001b[0m\n",
       "\u001b[0;31mDocstring:\u001b[0m     \n",
       "Dataplug class for retrieving data from the PVDAQ DB.\n",
       "    \n",
       "\u001b[0;31mFile:\u001b[0m           ~/Documents/SLAC/PVInsight/solar-data-tools/sdt_dask/dataplugs/pvdaq_plug.py\n",
       "\u001b[0;31mType:\u001b[0m           type\n",
       "\u001b[0;31mSubclasses:\u001b[0m     "
      ]
     },
     "metadata": {},
     "output_type": "display_data"
    }
   ],
   "source": [
    "PVDAQPlug?"
   ]
  },
  {
   "cell_type": "code",
   "execution_count": 4,
   "id": "2d4a7be1-f1fb-4a83-81a3-0727532efa64",
   "metadata": {},
   "outputs": [],
   "source": [
    "data_plug = PVDAQPlug(year=2011)"
   ]
  },
  {
   "cell_type": "code",
   "execution_count": 5,
   "id": "54c06e08-2f78-4342-b071-0059255981ef",
   "metadata": {},
   "outputs": [],
   "source": [
    "KEYS = [34, 35, 38] # site IDs for this plug, given by user"
   ]
  },
  {
   "cell_type": "markdown",
   "id": "c6633db9-180e-47ad-8fc6-2abb70f76479",
   "metadata": {},
   "source": [
    "# Import user-defined client"
   ]
  },
  {
   "cell_type": "markdown",
   "id": "f5ac1920-41a9-43a7-b975-c47d1bc6834b",
   "metadata": {},
   "source": [
    "## AWS Fargate"
   ]
  },
  {
   "cell_type": "code",
   "execution_count": 12,
   "id": "5f8a8baf-1810-49ee-9e30-f42627daed61",
   "metadata": {},
   "outputs": [
    {
     "data": {
      "text/plain": [
       "\u001b[0;31mSignature:\u001b[0m\n",
       "\u001b[0mget_fargate_cluster\u001b[0m\u001b[0;34m(\u001b[0m\u001b[0;34m\u001b[0m\n",
       "\u001b[0;34m\u001b[0m    \u001b[0mtags\u001b[0m\u001b[0;34m=\u001b[0m\u001b[0;34m{\u001b[0m\u001b[0;34m'project-pa-number'\u001b[0m\u001b[0;34m:\u001b[0m \u001b[0;34m'21691-H2001'\u001b[0m\u001b[0;34m,\u001b[0m \u001b[0;34m'project'\u001b[0m\u001b[0;34m:\u001b[0m \u001b[0;34m'pvinsight'\u001b[0m\u001b[0;34m}\u001b[0m\u001b[0;34m,\u001b[0m\u001b[0;34m\u001b[0m\n",
       "\u001b[0;34m\u001b[0m    \u001b[0mimage\u001b[0m\u001b[0;34m=\u001b[0m\u001b[0;34m'smiskov/dask-sdt-sm:latest'\u001b[0m\u001b[0;34m,\u001b[0m\u001b[0;34m\u001b[0m\n",
       "\u001b[0;34m\u001b[0m    \u001b[0mscale_num\u001b[0m\u001b[0;34m=\u001b[0m\u001b[0;36m12\u001b[0m\u001b[0;34m,\u001b[0m\u001b[0;34m\u001b[0m\n",
       "\u001b[0;34m\u001b[0m\u001b[0;34m)\u001b[0m \u001b[0;34m->\u001b[0m \u001b[0mdistributed\u001b[0m\u001b[0;34m.\u001b[0m\u001b[0mclient\u001b[0m\u001b[0;34m.\u001b[0m\u001b[0mClient\u001b[0m\u001b[0;34m\u001b[0m\u001b[0;34m\u001b[0m\u001b[0m\n",
       "\u001b[0;31mDocstring:\u001b[0m <no docstring>\n",
       "\u001b[0;31mFile:\u001b[0m      ~/Documents/SLAC/PVInsight/solar-data-tools/sdt_dask/clients/aws/fargate.py\n",
       "\u001b[0;31mType:\u001b[0m      function"
      ]
     },
     "metadata": {},
     "output_type": "display_data"
    }
   ],
   "source": [
    "get_fargate_cluster?"
   ]
  },
  {
   "cell_type": "code",
   "execution_count": 13,
   "id": "a52c6ae3-b9cb-437a-8e0a-9d5775bb4d77",
   "metadata": {},
   "outputs": [
    {
     "name": "stderr",
     "output_type": "stream",
     "text": [
      "2024-01-18 20:49:30,608 - distributed.deploy.cluster - WARNING - Failed to sync cluster info multiple times - perhaps there's a connection issue? Error:\n",
      "Traceback (most recent call last):\n",
      "  File \"/Users/smiskov/opt/anaconda3/envs/pvi-dask/lib/python3.10/site-packages/distributed/comm/tcp.py\", line 547, in connect\n",
      "    stream = await self.client.connect(\n",
      "  File \"/Users/smiskov/opt/anaconda3/envs/pvi-dask/lib/python3.10/site-packages/tornado/tcpclient.py\", line 275, in connect\n",
      "    af, addr, stream = await connector.start(connect_timeout=timeout)\n",
      "asyncio.exceptions.CancelledError\n",
      "\n",
      "During handling of the above exception, another exception occurred:\n",
      "\n",
      "Traceback (most recent call last):\n",
      "  File \"/Users/smiskov/opt/anaconda3/envs/pvi-dask/lib/python3.10/asyncio/tasks.py\", line 456, in wait_for\n",
      "    return fut.result()\n",
      "asyncio.exceptions.CancelledError\n",
      "\n",
      "The above exception was the direct cause of the following exception:\n",
      "\n",
      "Traceback (most recent call last):\n",
      "  File \"/Users/smiskov/opt/anaconda3/envs/pvi-dask/lib/python3.10/site-packages/distributed/comm/core.py\", line 342, in connect\n",
      "    comm = await wait_for(\n",
      "  File \"/Users/smiskov/opt/anaconda3/envs/pvi-dask/lib/python3.10/site-packages/distributed/utils.py\", line 1940, in wait_for\n",
      "    return await asyncio.wait_for(fut, timeout)\n",
      "  File \"/Users/smiskov/opt/anaconda3/envs/pvi-dask/lib/python3.10/asyncio/tasks.py\", line 458, in wait_for\n",
      "    raise exceptions.TimeoutError() from exc\n",
      "asyncio.exceptions.TimeoutError\n",
      "\n",
      "The above exception was the direct cause of the following exception:\n",
      "\n",
      "Traceback (most recent call last):\n",
      "  File \"/Users/smiskov/opt/anaconda3/envs/pvi-dask/lib/python3.10/site-packages/distributed/deploy/cluster.py\", line 165, in _sync_cluster_info\n",
      "    await self.scheduler_comm.set_metadata(\n",
      "  File \"/Users/smiskov/opt/anaconda3/envs/pvi-dask/lib/python3.10/site-packages/distributed/core.py\", line 1313, in send_recv_from_rpc\n",
      "    comm = await self.live_comm()\n",
      "  File \"/Users/smiskov/opt/anaconda3/envs/pvi-dask/lib/python3.10/site-packages/distributed/core.py\", line 1272, in live_comm\n",
      "    comm = await connect(\n",
      "  File \"/Users/smiskov/opt/anaconda3/envs/pvi-dask/lib/python3.10/site-packages/distributed/comm/core.py\", line 368, in connect\n",
      "    raise OSError(\n",
      "OSError: Timed out trying to connect to tcp://3.144.74.32:8786 after 30 s\n",
      "/Users/smiskov/opt/anaconda3/envs/pvi-dask/lib/python3.10/contextlib.py:142: UserWarning: Creating your cluster is taking a surprisingly long time. This is likely due to pending resources on AWS. Hang tight! \n",
      "  next(self.gen)\n",
      "2024-01-18 20:55:06,097 - tornado.application - ERROR - Exception in callback functools.partial(<bound method IOLoop._discard_future_result of <tornado.platform.asyncio.AsyncIOMainLoop object at 0x7fb690d7f850>>, <Task finished name='Task-8195' coro=<SpecCluster._correct_state_internal() done, defined at /Users/smiskov/opt/anaconda3/envs/pvi-dask/lib/python3.10/site-packages/distributed/deploy/spec.py:346> exception=RuntimeError('Worker failed to start')>)\n",
      "Traceback (most recent call last):\n",
      "  File \"/Users/smiskov/opt/anaconda3/envs/pvi-dask/lib/python3.10/site-packages/tornado/ioloop.py\", line 740, in _run_callback\n",
      "    ret = callback()\n",
      "  File \"/Users/smiskov/opt/anaconda3/envs/pvi-dask/lib/python3.10/site-packages/tornado/ioloop.py\", line 764, in _discard_future_result\n",
      "    future.result()\n",
      "  File \"/Users/smiskov/opt/anaconda3/envs/pvi-dask/lib/python3.10/site-packages/distributed/deploy/spec.py\", line 390, in _correct_state_internal\n",
      "    await asyncio.gather(*worker_futs)\n",
      "  File \"/Users/smiskov/opt/anaconda3/envs/pvi-dask/lib/python3.10/asyncio/tasks.py\", line 650, in _wrap_awaitable\n",
      "    return (yield from awaitable.__await__())\n",
      "  File \"/Users/smiskov/opt/anaconda3/envs/pvi-dask/lib/python3.10/site-packages/dask_cloudprovider/aws/ecs.py\", line 153, in _\n",
      "    await self.start()\n",
      "  File \"/Users/smiskov/opt/anaconda3/envs/pvi-dask/lib/python3.10/site-packages/dask_cloudprovider/aws/ecs.py\", line 263, in start\n",
      "    raise RuntimeError(\"%s failed to start\" % type(self).__name__)\n",
      "RuntimeError: Worker failed to start\n",
      "/Users/smiskov/opt/anaconda3/envs/pvi-dask/lib/python3.10/site-packages/distributed/client.py:1391: VersionMismatchWarning: Mismatched versions found\n",
      "\n",
      "+-------------+-----------------+-----------------+-----------------+\n",
      "| Package     | Client          | Scheduler       | Workers         |\n",
      "+-------------+-----------------+-----------------+-----------------+\n",
      "| dask        | 2023.11.0       | 2024.1.0        | 2024.1.0        |\n",
      "| distributed | 2023.11.0       | 2024.1.0        | 2024.1.0        |\n",
      "| lz4         | 4.3.2           | 4.3.3           | 4.3.3           |\n",
      "| msgpack     | 1.0.3           | 1.0.7           | 1.0.7           |\n",
      "| numpy       | 1.24.3          | 1.26.3          | 1.26.3          |\n",
      "| pandas      | 1.5.3           | 2.1.4           | 2.1.4           |\n",
      "| python      | 3.10.11.final.0 | 3.10.13.final.0 | 3.10.13.final.0 |\n",
      "| tornado     | 6.2             | 6.4             | 6.4             |\n",
      "+-------------+-----------------+-----------------+-----------------+\n",
      "  warnings.warn(version_module.VersionMismatchWarning(msg[0][\"warning\"]))\n",
      "2024-01-18 20:56:41,591 - distributed.client - ERROR - Failed to reconnect to scheduler after 30.00 seconds, closing client\n",
      "2024-01-18 20:58:23,682 - distributed.deploy.cluster - WARNING - Failed to sync cluster info multiple times - perhaps there's a connection issue? Error:\n",
      "Traceback (most recent call last):\n",
      "  File \"/Users/smiskov/opt/anaconda3/envs/pvi-dask/lib/python3.10/site-packages/distributed/comm/tcp.py\", line 547, in connect\n",
      "    stream = await self.client.connect(\n",
      "  File \"/Users/smiskov/opt/anaconda3/envs/pvi-dask/lib/python3.10/site-packages/tornado/tcpclient.py\", line 275, in connect\n",
      "    af, addr, stream = await connector.start(connect_timeout=timeout)\n",
      "asyncio.exceptions.CancelledError\n",
      "\n",
      "During handling of the above exception, another exception occurred:\n",
      "\n",
      "Traceback (most recent call last):\n",
      "  File \"/Users/smiskov/opt/anaconda3/envs/pvi-dask/lib/python3.10/asyncio/tasks.py\", line 456, in wait_for\n",
      "    return fut.result()\n",
      "asyncio.exceptions.CancelledError\n",
      "\n",
      "The above exception was the direct cause of the following exception:\n",
      "\n",
      "Traceback (most recent call last):\n",
      "  File \"/Users/smiskov/opt/anaconda3/envs/pvi-dask/lib/python3.10/site-packages/distributed/comm/core.py\", line 342, in connect\n",
      "    comm = await wait_for(\n",
      "  File \"/Users/smiskov/opt/anaconda3/envs/pvi-dask/lib/python3.10/site-packages/distributed/utils.py\", line 1940, in wait_for\n",
      "    return await asyncio.wait_for(fut, timeout)\n",
      "  File \"/Users/smiskov/opt/anaconda3/envs/pvi-dask/lib/python3.10/asyncio/tasks.py\", line 458, in wait_for\n",
      "    raise exceptions.TimeoutError() from exc\n",
      "asyncio.exceptions.TimeoutError\n",
      "\n",
      "The above exception was the direct cause of the following exception:\n",
      "\n",
      "Traceback (most recent call last):\n",
      "  File \"/Users/smiskov/opt/anaconda3/envs/pvi-dask/lib/python3.10/site-packages/distributed/deploy/cluster.py\", line 165, in _sync_cluster_info\n",
      "    await self.scheduler_comm.set_metadata(\n",
      "  File \"/Users/smiskov/opt/anaconda3/envs/pvi-dask/lib/python3.10/site-packages/distributed/core.py\", line 1313, in send_recv_from_rpc\n",
      "    comm = await self.live_comm()\n",
      "  File \"/Users/smiskov/opt/anaconda3/envs/pvi-dask/lib/python3.10/site-packages/distributed/core.py\", line 1272, in live_comm\n",
      "    comm = await connect(\n",
      "  File \"/Users/smiskov/opt/anaconda3/envs/pvi-dask/lib/python3.10/site-packages/distributed/comm/core.py\", line 368, in connect\n",
      "    raise OSError(\n",
      "OSError: Timed out trying to connect to tcp://3.145.82.220:8786 after 30 s\n"
     ]
    }
   ],
   "source": [
    "client = get_fargate_cluster()"
   ]
  },
  {
   "cell_type": "markdown",
   "id": "2f4918c1-1f83-4610-8d5e-adb0d69e8549",
   "metadata": {},
   "source": [
    "# Define SDT Dask function"
   ]
  },
  {
   "cell_type": "code",
   "execution_count": 6,
   "id": "f1dd707f-7ec1-45f5-ae47-982d79841bc1",
   "metadata": {},
   "outputs": [],
   "source": [
    "@dask.delayed\n",
    "def dask_sdt(data_plug=None, key=34, client=None):\n",
    "        df = data_plug.get_data(key)\n",
    "        dh = DataHandler(df)\n",
    "        dh.run_pipeline(solver=\"QSS\", solver_convex=\"OSQP\")\n",
    "        return dh.report(return_values=True, verbose=False)"
   ]
  },
  {
   "cell_type": "markdown",
   "id": "e1490e4e-1c04-4e9a-b594-dcb42163d55e",
   "metadata": {},
   "source": [
    "# Run SDT Dask function"
   ]
  },
  {
   "cell_type": "code",
   "execution_count": 7,
   "id": "6bb63104-8efa-4ea7-a3fd-4feff918e59c",
   "metadata": {},
   "outputs": [
    {
     "name": "stdout",
     "output_type": "stream",
     "text": [
      "[============================================================] 100.0% ...queries complete in 1.6 seconds       \n",
      "\n",
      "[============================================================] 100.0% ...queries complete in 1.6 seconds       \n",
      "\n",
      "[============================================================] 100.0% ...queries complete in 17.3 seconds       \n",
      "\n",
      "total time: 43.64 seconds\n",
      "--------------------------------\n",
      "Breakdown\n",
      "--------------------------------\n",
      "Preprocessing              3.92s\n",
      "Cleaning                   0.73s\n",
      "Filtering/Summarizing      38.99s\n",
      "    Data quality           0.24s\n",
      "    Clear day detect       0.48s\n",
      "    Clipping detect        34.40s\n",
      "    Capacity change detect 3.87s\n",
      "\n",
      "total time: 45.40 seconds\n",
      "--------------------------------\n",
      "Breakdown\n",
      "--------------------------------\n",
      "Preprocessing              4.04s\n",
      "Cleaning                   0.39s\n",
      "Filtering/Summarizing      40.98s\n",
      "    Data quality           0.23s\n",
      "    Clear day detect       0.56s\n",
      "    Clipping detect        34.20s\n",
      "    Capacity change detect 5.98s\n",
      "\n",
      "total time: 31.55 seconds\n",
      "--------------------------------\n",
      "Breakdown\n",
      "--------------------------------\n",
      "Preprocessing              3.37s\n",
      "Cleaning                   0.71s\n",
      "Filtering/Summarizing      27.47s\n",
      "    Data quality           0.22s\n",
      "    Clear day detect       0.79s\n",
      "    Clipping detect        24.12s\n",
      "    Capacity change detect 2.33s\n",
      "\n"
     ]
    },
    {
     "name": "stderr",
     "output_type": "stream",
     "text": [
      "/Users/smiskov/opt/anaconda3/envs/pvi-dask/lib/python3.10/site-packages/cvxpy/problems/problem.py:1387: UserWarning: Solution may be inaccurate. Try another solver, adjusting the solver settings, or solve with verbose=True for more information.\n",
      "  warnings.warn(\n"
     ]
    }
   ],
   "source": [
    "delayed_results = []    \n",
    "\n",
    "for key in KEYS:    \n",
    "    report = dask_sdt(data_plug, key)\n",
    "    delayed_results.append(report)\n",
    "        \n",
    "results = dask.compute(*delayed_results)"
   ]
  },
  {
   "cell_type": "code",
   "execution_count": 8,
   "id": "daad9993-42bc-4498-b4c4-28eb8d1a6f02",
   "metadata": {},
   "outputs": [
    {
     "data": {
      "text/plain": [
       "({'length': 1.0,\n",
       "  'capacity': 109.3,\n",
       "  'sampling': 15,\n",
       "  'quality score': 0.9835616438356164,\n",
       "  'clearness score': 0.4986301369863014,\n",
       "  'inverter clipping': True,\n",
       "  'clipped fraction': 0.01643835616438356,\n",
       "  'capacity change': False,\n",
       "  'data quality warning': False,\n",
       "  'time shift correction': False,\n",
       "  'time zone correction': 0},\n",
       " {'length': 1.0,\n",
       "  'capacity': 87.7,\n",
       "  'sampling': 15,\n",
       "  'quality score': 0.989041095890411,\n",
       "  'clearness score': 0.5041095890410959,\n",
       "  'inverter clipping': True,\n",
       "  'clipped fraction': 0.01643835616438356,\n",
       "  'capacity change': False,\n",
       "  'data quality warning': True,\n",
       "  'time shift correction': False,\n",
       "  'time zone correction': 0},\n",
       " {'length': 1.0,\n",
       "  'capacity': 401.15,\n",
       "  'sampling': 1.0,\n",
       "  'quality score': 0.8876712328767123,\n",
       "  'clearness score': 0.24383561643835616,\n",
       "  'inverter clipping': False,\n",
       "  'clipped fraction': 0.0,\n",
       "  'capacity change': False,\n",
       "  'data quality warning': True,\n",
       "  'time shift correction': False,\n",
       "  'time zone correction': 0})"
      ]
     },
     "execution_count": 8,
     "metadata": {},
     "output_type": "execute_result"
    }
   ],
   "source": [
    "results"
   ]
  }
 ],
 "metadata": {
  "kernelspec": {
   "display_name": "Python 3 (ipykernel)",
   "language": "python",
   "name": "python3"
  },
  "language_info": {
   "codemirror_mode": {
    "name": "ipython",
    "version": 3
   },
   "file_extension": ".py",
   "mimetype": "text/x-python",
   "name": "python",
   "nbconvert_exporter": "python",
   "pygments_lexer": "ipython3",
   "version": "3.10.11"
  },
  "vscode": {
   "interpreter": {
    "hash": "563caecf4d2966d415acedaeb06ecd8f04c22f911b15c7586f55c5d4e031deb0"
   }
  }
 },
 "nbformat": 4,
 "nbformat_minor": 5
}
