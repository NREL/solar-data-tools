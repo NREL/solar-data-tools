{
 "cells": [
  {
   "cell_type": "code",
   "execution_count": 4,
   "id": "8d9ba821-5c15-4c27-b157-9a653ce72c12",
   "metadata": {},
   "outputs": [
    {
     "name": "stdout",
     "output_type": "stream",
     "text": [
      "Please run the time shift analysis first by setting 'fix_shifts=True' when running the pipeline, e.g. `DataHandler.run_pipeline(fix_shifts=True)`.\n"
     ]
    }
   ],
   "source": [
    "            print(\n",
    "                \"Please run the time shift analysis first by setting 'fix_shifts=True' when \"\n",
    "                \"running the pipeline, e.g. `DataHandler.run_pipeline(fix_shifts=True)`.\"\n",
    "            )\n",
    "            "
   ]
  }
 ],
 "metadata": {
  "kernelspec": {
   "display_name": "Python 3 (ipykernel)",
   "language": "python",
   "name": "python3"
  },
  "language_info": {
   "codemirror_mode": {
    "name": "ipython",
    "version": 3
   },
   "file_extension": ".py",
   "mimetype": "text/x-python",
   "name": "python",
   "nbconvert_exporter": "python",
   "pygments_lexer": "ipython3",
   "version": "3.12.9"
  }
 },
 "nbformat": 4,
 "nbformat_minor": 5
}
