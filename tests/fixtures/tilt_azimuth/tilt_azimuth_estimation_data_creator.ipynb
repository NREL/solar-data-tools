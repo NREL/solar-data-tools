{
 "cells": [
  {
   "cell_type": "markdown",
   "id": "71df060f",
   "metadata": {},
   "source": [
    "## Generating fixtures to test the Equation Of Time functions, the Longitude Fitting Functions and the Longitude Calculation Functions"
   ]
  },
  {
   "cell_type": "markdown",
   "id": "60ce3103",
   "metadata": {},
   "source": [
    "### Expected Longitude Output is downloaded directly from https://maps.nrel.gov/pvdaq/ PVDAQ Contributed Sites\n",
    "\n",
    "### Expected longitude = -76.6636"
   ]
  },
  {
   "cell_type": "code",
   "execution_count": 1,
   "id": "valid-complement",
   "metadata": {},
   "outputs": [],
   "source": [
    "%load_ext autoreload\n",
    "%autoreload 2"
   ]
  },
  {
   "cell_type": "code",
   "execution_count": 2,
   "id": "8c0ee1e6",
   "metadata": {},
   "outputs": [],
   "source": [
    "import os\n",
    "from pathlib import Path\n",
    "import numpy as np\n",
    "\n",
    "# PVInsight Code Imports\n",
    "from solardatatools import DataHandler\n",
    "from solardatatools.dataio import get_pvdaq_data\n",
    "\n",
    "path = Path.cwd().parent.parent.parent\n",
    "os.chdir(path)"
   ]
  },
  {
   "cell_type": "markdown",
   "id": "3339ccef",
   "metadata": {},
   "source": [
    "### Load data table from external source\n",
    "\n",
    "#### For today's example, we're loading data from NREL's PVDAQ API, which is a publically available PV generatation data set."
   ]
  },
  {
   "cell_type": "code",
   "execution_count": 3,
   "id": "wireless-lotus",
   "metadata": {},
   "outputs": [],
   "source": [
    "latitude = 39.4856\n",
    "longitude = -76.6636\n",
    "tilt = 20\n",
    "azimuth = 180\n",
    "gmt_offset = -5"
   ]
  },
  {
   "cell_type": "code",
   "execution_count": 4,
   "id": "7a35db8d",
   "metadata": {},
   "outputs": [
    {
     "name": "stdout",
     "output_type": "stream",
     "text": [
      "[============================================================] 100.0% ...queries complete in 20.9 seconds       \n",
      "\n",
      "CAUTION: Multiple scan rates detected!\n",
      "Scan rates (in seconds): [300, 280]\n",
      "0 transitions detected.\n",
      "Suggest splitting data set between:\n",
      "\n",
      "\n"
     ]
    }
   ],
   "source": [
    "data_frame = get_pvdaq_data(sysid=1199, year=[2015, 2016, 2017], api_key=\"DEMO_KEY\")"
   ]
  },
  {
   "cell_type": "code",
   "execution_count": 5,
   "id": "062f312a",
   "metadata": {},
   "outputs": [],
   "source": [
    "gmt_offset = -5"
   ]
  },
  {
   "cell_type": "markdown",
   "id": "0a4e0ed0",
   "metadata": {},
   "source": [
    "### Running the  DataHandler"
   ]
  },
  {
   "cell_type": "code",
   "execution_count": 6,
   "id": "201dbffa",
   "metadata": {},
   "outputs": [],
   "source": [
    "dh = DataHandler(data_frame)\n",
    "dh.fix_dst()"
   ]
  },
  {
   "cell_type": "code",
   "execution_count": 7,
   "id": "708a3385",
   "metadata": {},
   "outputs": [
    {
     "name": "stdout",
     "output_type": "stream",
     "text": [
      "total time: 3.30 seconds\n",
      "--------------------------------\n",
      "Breakdown\n",
      "--------------------------------\n",
      "Preprocessing              1.29s\n",
      "Cleaning                   0.07s\n",
      "Filtering/Summarizing      1.94s\n",
      "    Data quality           0.07s\n",
      "    Clear day detect       0.08s\n",
      "    Clipping detect        1.48s\n",
      "    Capacity change detect 0.30s\n",
      "\n"
     ]
    }
   ],
   "source": [
    "dh.run_pipeline(power_col=\"ac_power\", fix_shifts=False, correct_tz=False)"
   ]
  },
  {
   "cell_type": "code",
   "execution_count": 8,
   "id": "naval-impact",
   "metadata": {},
   "outputs": [],
   "source": [
    "days = dh.daily_flags.no_errors"
   ]
  },
  {
   "cell_type": "code",
   "execution_count": 9,
   "id": "unlikely-vector",
   "metadata": {},
   "outputs": [],
   "source": [
    "day_of_year = dh.day_index.dayofyear"
   ]
  },
  {
   "cell_type": "code",
   "execution_count": 10,
   "id": "wired-boxing",
   "metadata": {},
   "outputs": [],
   "source": [
    "day_range = np.ones(day_of_year.shape, dtype=bool)"
   ]
  },
  {
   "cell_type": "code",
   "execution_count": 11,
   "id": "romantic-reminder",
   "metadata": {},
   "outputs": [],
   "source": [
    "daily_meas = dh.filled_data_matrix.shape[0]"
   ]
  },
  {
   "cell_type": "code",
   "execution_count": 12,
   "id": "integral-editor",
   "metadata": {},
   "outputs": [],
   "source": [
    "daytime_threshold = None"
   ]
  },
  {
   "cell_type": "code",
   "execution_count": 13,
   "id": "c55c4c36",
   "metadata": {},
   "outputs": [],
   "source": [
    "# exporting inputs for tilt and azimuth estimation\n",
    "# day_of_year\n",
    "# np.savetxt('./tests/fixtures/tilt_azimuth/day_of_year.csv', day_of_year,  delimiter=\",\")\n",
    "# days\n",
    "# np.savetxt('./tests/fixtures/tilt_azimuth/days.csv', days,  delimiter=\",\")\n",
    "# day range\n",
    "# days\n",
    "# np.savetxt('./tests/fixtures/tilt_azimuth/day_range.csv', day_range,  delimiter=\",\")"
   ]
  },
  {
   "cell_type": "markdown",
   "id": "curious-special",
   "metadata": {},
   "source": [
    "## Calculate cosine of angle of incidence"
   ]
  },
  {
   "cell_type": "code",
   "execution_count": 14,
   "id": "animated-import",
   "metadata": {},
   "outputs": [],
   "source": [
    "from pvsystemprofiler.algorithms.performance_model_estimation import find_fit_costheta"
   ]
  },
  {
   "cell_type": "code",
   "execution_count": 15,
   "id": "floral-leader",
   "metadata": {},
   "outputs": [],
   "source": [
    "scale_factor_costheta, costheta_fit = find_fit_costheta(\n",
    "    dh.filled_data_matrix, dh.daily_flags.no_errors, day_of_year\n",
    ")"
   ]
  },
  {
   "cell_type": "code",
   "execution_count": 16,
   "id": "b00169d4",
   "metadata": {},
   "outputs": [],
   "source": [
    "# exporting inputs for tilt and azimuth estimation\n",
    "# costheta_fit\n",
    "# np.savetxt('./tests/fixtures/tilt_azimuth/costheta_fit.csv', costheta_fit,  delimiter=\",\")"
   ]
  },
  {
   "cell_type": "markdown",
   "id": "unauthorized-survey",
   "metadata": {},
   "source": [
    "## Find hours daylight"
   ]
  },
  {
   "cell_type": "code",
   "execution_count": 17,
   "id": "authentic-cover",
   "metadata": {},
   "outputs": [],
   "source": []
  },
  {
   "cell_type": "code",
   "execution_count": 18,
   "id": "acute-freeware",
   "metadata": {},
   "outputs": [],
   "source": [
    "from solardatatools.algorithms import SunriseSunset"
   ]
  },
  {
   "cell_type": "code",
   "execution_count": 19,
   "id": "ready-jerusalem",
   "metadata": {},
   "outputs": [],
   "source": [
    "ss = SunriseSunset()"
   ]
  },
  {
   "cell_type": "code",
   "execution_count": 20,
   "id": "internal-carpet",
   "metadata": {},
   "outputs": [],
   "source": [
    "ss.run_optimizer(data=dh.filled_data_matrix)"
   ]
  },
  {
   "cell_type": "code",
   "execution_count": 21,
   "id": "answering-essence",
   "metadata": {},
   "outputs": [],
   "source": [
    "hours_daylight = ss.sunset_estimates - ss.sunrise_estimates"
   ]
  },
  {
   "cell_type": "code",
   "execution_count": 22,
   "id": "f733b887",
   "metadata": {},
   "outputs": [],
   "source": [
    "# exporting inputs for tilt and azimuth estimation\n",
    "# hours_daylight\n",
    "# np.savetxt('./tests/fixtures/tilt_azimuth/hours_daylight.csv', hours_daylight,  delimiter=\",\")"
   ]
  },
  {
   "cell_type": "markdown",
   "id": "impressed-frontier",
   "metadata": {},
   "source": [
    "## Calculate boolean filter"
   ]
  },
  {
   "cell_type": "code",
   "execution_count": 23,
   "id": "focused-mission",
   "metadata": {},
   "outputs": [],
   "source": [
    "from pvsystemprofiler.algorithms.tilt_azimuth.daytime_threshold_quantile import (\n",
    "    filter_data,\n",
    ")"
   ]
  },
  {
   "cell_type": "code",
   "execution_count": 24,
   "id": "starting-posting",
   "metadata": {},
   "outputs": [],
   "source": [
    "boolean_filter = filter_data(\n",
    "    dh.filled_data_matrix, daytime_threshold=daytime_threshold, x1=0.9, x2=0.9\n",
    ")"
   ]
  },
  {
   "cell_type": "code",
   "execution_count": 25,
   "id": "major-beast",
   "metadata": {},
   "outputs": [],
   "source": [
    "boolean_filter = boolean_filter * days * day_range"
   ]
  },
  {
   "cell_type": "code",
   "execution_count": 26,
   "id": "cutting-vegetarian",
   "metadata": {},
   "outputs": [],
   "source": [
    "from pvsystemprofiler.utilities.hour_angle_equation import calculate_omega"
   ]
  },
  {
   "cell_type": "code",
   "execution_count": 27,
   "id": "96097e6c",
   "metadata": {},
   "outputs": [],
   "source": [
    "# exporting inputs for tilt and azimuth estimation\n",
    "# boolean_filter\n",
    "# np.savetxt('./tests/fixtures/tilt_azimuth/boolean_filter.csv', boolean_filter,  delimiter=\",\")"
   ]
  },
  {
   "cell_type": "markdown",
   "id": "regulation-peace",
   "metadata": {},
   "source": [
    "## Calculate hour angle"
   ]
  },
  {
   "cell_type": "code",
   "execution_count": 28,
   "id": "compact-elephant",
   "metadata": {},
   "outputs": [],
   "source": [
    "omega = calculate_omega(day_of_year, dh.data_sampling, longitude, gmt_offset)"
   ]
  },
  {
   "cell_type": "code",
   "execution_count": 29,
   "id": "entitled-story",
   "metadata": {},
   "outputs": [],
   "source": [
    "omega_f = omega[boolean_filter]"
   ]
  },
  {
   "cell_type": "code",
   "execution_count": 30,
   "id": "dddbfe01",
   "metadata": {},
   "outputs": [],
   "source": [
    "# exporting inputs for tilt and azimuth estimation\n",
    "# omega_f\n",
    "# np.savetxt('./tests/fixtures/tilt_azimuth/omega_f.csv', omega_f,  delimiter=\",\")"
   ]
  },
  {
   "cell_type": "markdown",
   "id": "generic-bikini",
   "metadata": {},
   "source": [
    "## Calculate declination"
   ]
  },
  {
   "cell_type": "code",
   "execution_count": 31,
   "id": "protective-cinema",
   "metadata": {},
   "outputs": [],
   "source": [
    "from pvsystemprofiler.utilities.declination_equation import delta_cooper"
   ]
  },
  {
   "cell_type": "code",
   "execution_count": 32,
   "id": "enhanced-nature",
   "metadata": {},
   "outputs": [],
   "source": [
    "delta = delta_cooper(day_of_year, daily_meas)"
   ]
  },
  {
   "cell_type": "code",
   "execution_count": 33,
   "id": "flexible-aberdeen",
   "metadata": {},
   "outputs": [],
   "source": [
    "delta_f = delta[boolean_filter]"
   ]
  },
  {
   "cell_type": "code",
   "execution_count": 34,
   "id": "6d793a41",
   "metadata": {},
   "outputs": [],
   "source": [
    "# exporting inputs for tilt and azimuth estimation\n",
    "# delta_f\n",
    "# np.savetxt('./tests/fixtures/tilt_azimuth/delta_f.csv', delta_f,  delimiter=\",\")"
   ]
  },
  {
   "cell_type": "markdown",
   "id": "auburn-liverpool",
   "metadata": {},
   "source": [
    "## Estimate tilt and azimuth using run_curve_fit directly"
   ]
  },
  {
   "cell_type": "code",
   "execution_count": 35,
   "id": "nominated-marketing",
   "metadata": {},
   "outputs": [],
   "source": [
    "from pvsystemprofiler.algorithms.angle_of_incidence.lambda_functions import (\n",
    "    select_function,\n",
    ")"
   ]
  },
  {
   "cell_type": "code",
   "execution_count": 36,
   "id": "timely-manufacturer",
   "metadata": {},
   "outputs": [],
   "source": [
    "func_customized, bounds = select_function(latitude, None, None)"
   ]
  },
  {
   "cell_type": "code",
   "execution_count": 37,
   "id": "irish-hacker",
   "metadata": {},
   "outputs": [],
   "source": [
    "from pvsystemprofiler.algorithms.angle_of_incidence.curve_fitting import run_curve_fit"
   ]
  },
  {
   "cell_type": "code",
   "execution_count": 43,
   "id": "b6dfc488-3842-4524-afe1-fd9d20612be0",
   "metadata": {},
   "outputs": [
    {
     "data": {
      "image/png": "[encoded data removed]",
      "text/plain": [
       "<Figure size 640x480 with 1 Axes>"
      ]
     },
     "metadata": {},
     "output_type": "display_data"
    }
   ],
   "source": [
    "import matplotlib.pyplot as plt\n",
    "\n",
    "plt.imshow(boolean_filter, aspect=\"auto\");"
   ]
  },
  {
   "cell_type": "code",
   "execution_count": 45,
   "id": "double-easter",
   "metadata": {},
   "outputs": [
    {
     "ename": "ValueError",
     "evalue": "operands could not be broadcast together with shapes (9916,) (1,1096) ",
     "output_type": "error",
     "traceback": [
      "\u001b[0;31m---------------------------------------------------------------------------\u001b[0m",
      "\u001b[0;31mValueError\u001b[0m                                Traceback (most recent call last)",
      "Cell \u001b[0;32mIn[45], line 1\u001b[0m\n\u001b[0;32m----> 1\u001b[0m estimates \u001b[38;5;241m=\u001b[39m \u001b[43mrun_curve_fit\u001b[49m\u001b[43m(\u001b[49m\u001b[43mfunc\u001b[49m\u001b[38;5;241;43m=\u001b[39;49m\u001b[43mfunc_customized\u001b[49m\u001b[43m,\u001b[49m\u001b[43m \u001b[49m\u001b[43mkeys\u001b[49m\u001b[38;5;241;43m=\u001b[39;49m\u001b[43m[\u001b[49m\u001b[38;5;124;43m'\u001b[39;49m\u001b[38;5;124;43mtilt\u001b[39;49m\u001b[38;5;124;43m'\u001b[39;49m\u001b[43m,\u001b[49m\u001b[43m \u001b[49m\u001b[38;5;124;43m'\u001b[39;49m\u001b[38;5;124;43mazimuth\u001b[39;49m\u001b[38;5;124;43m'\u001b[39;49m\u001b[43m]\u001b[49m\u001b[43m,\u001b[49m\u001b[43m \u001b[49m\u001b[43mdelta\u001b[49m\u001b[38;5;241;43m=\u001b[39;49m\u001b[43mdelta_f\u001b[49m\u001b[43m,\u001b[49m\u001b[43m \u001b[49m\u001b[43momega\u001b[49m\u001b[38;5;241;43m=\u001b[39;49m\u001b[43momega_f\u001b[49m\u001b[43m,\u001b[49m\n\u001b[1;32m      2\u001b[0m \u001b[43m                                  \u001b[49m\u001b[43mcostheta\u001b[49m\u001b[38;5;241;43m=\u001b[39;49m\u001b[43mcostheta_fit\u001b[49m\u001b[43m,\u001b[49m\u001b[43m \u001b[49m\u001b[43mboolean_filter\u001b[49m\u001b[38;5;241;43m=\u001b[39;49m\u001b[38;5;28;43;01mNone\u001b[39;49;00m\u001b[43m,\u001b[49m\u001b[43m \u001b[49m\u001b[43minit_values\u001b[49m\u001b[38;5;241;43m=\u001b[39;49m\u001b[43m[\u001b[49m\u001b[38;5;241;43m30\u001b[39;49m\u001b[43m,\u001b[49m\u001b[43m \u001b[49m\u001b[38;5;241;43m30\u001b[39;49m\u001b[43m]\u001b[49m\u001b[43m,\u001b[49m\n\u001b[1;32m      3\u001b[0m \u001b[43m                                  \u001b[49m\u001b[43mfit_bounds\u001b[49m\u001b[38;5;241;43m=\u001b[39;49m\u001b[43mbounds\u001b[49m\u001b[43m)\u001b[49m\n",
      "File \u001b[0;32m~/Documents/github/solar-data-tools/pvsystemprofiler/algorithms/angle_of_incidence/curve_fitting.py:27\u001b[0m, in \u001b[0;36mrun_curve_fit\u001b[0;34m(func, keys, delta, omega, costheta, boolean_filter, init_values, fit_bounds)\u001b[0m\n\u001b[1;32m     24\u001b[0m costheta_fit \u001b[38;5;241m=\u001b[39m costheta[boolean_filter]\n\u001b[1;32m     25\u001b[0m x \u001b[38;5;241m=\u001b[39m np\u001b[38;5;241m.\u001b[39marray([np\u001b[38;5;241m.\u001b[39mdeg2rad(delta), np\u001b[38;5;241m.\u001b[39mdeg2rad(omega)])\n\u001b[0;32m---> 27\u001b[0m popt, pcov \u001b[38;5;241m=\u001b[39m \u001b[43mcurve_fit\u001b[49m\u001b[43m(\u001b[49m\u001b[43mfunc\u001b[49m\u001b[43m,\u001b[49m\u001b[43m \u001b[49m\u001b[43mx\u001b[49m\u001b[43m,\u001b[49m\u001b[43m \u001b[49m\u001b[43mcostheta_fit\u001b[49m\u001b[43m,\u001b[49m\u001b[43m \u001b[49m\u001b[43mp0\u001b[49m\u001b[38;5;241;43m=\u001b[39;49m\u001b[43mnp\u001b[49m\u001b[38;5;241;43m.\u001b[39;49m\u001b[43mdeg2rad\u001b[49m\u001b[43m(\u001b[49m\u001b[43minit_values\u001b[49m\u001b[43m)\u001b[49m\u001b[43m,\u001b[49m\u001b[43m \u001b[49m\u001b[43mbounds\u001b[49m\u001b[38;5;241;43m=\u001b[39;49m\u001b[43mfit_bounds\u001b[49m\u001b[43m)\u001b[49m\n\u001b[1;32m     29\u001b[0m \u001b[38;5;28;01mif\u001b[39;00m \u001b[38;5;124m'\u001b[39m\u001b[38;5;124mazimuth_estimate\u001b[39m\u001b[38;5;124m'\u001b[39m \u001b[38;5;129;01min\u001b[39;00m keys:\n\u001b[1;32m     30\u001b[0m     popt[\u001b[38;5;241m-\u001b[39m\u001b[38;5;241m1\u001b[39m] \u001b[38;5;241m-\u001b[39m\u001b[38;5;241m=\u001b[39m np\u001b[38;5;241m.\u001b[39mrint(popt[\u001b[38;5;241m-\u001b[39m\u001b[38;5;241m1\u001b[39m] \u001b[38;5;241m/\u001b[39m \u001b[38;5;241m2\u001b[39m \u001b[38;5;241m/\u001b[39m np\u001b[38;5;241m.\u001b[39mpi) \u001b[38;5;241m*\u001b[39m \u001b[38;5;241m2\u001b[39m \u001b[38;5;241m*\u001b[39m np\u001b[38;5;241m.\u001b[39mpi\n",
      "File \u001b[0;32m~/miniconda3/envs/pvi-dev/lib/python3.10/site-packages/scipy/optimize/_minpack_py.py:870\u001b[0m, in \u001b[0;36mcurve_fit\u001b[0;34m(f, xdata, ydata, p0, sigma, absolute_sigma, check_finite, bounds, method, jac, full_output, **kwargs)\u001b[0m\n\u001b[1;32m    867\u001b[0m \u001b[38;5;28;01mif\u001b[39;00m \u001b[38;5;124m'\u001b[39m\u001b[38;5;124mmax_nfev\u001b[39m\u001b[38;5;124m'\u001b[39m \u001b[38;5;129;01mnot\u001b[39;00m \u001b[38;5;129;01min\u001b[39;00m kwargs:\n\u001b[1;32m    868\u001b[0m     kwargs[\u001b[38;5;124m'\u001b[39m\u001b[38;5;124mmax_nfev\u001b[39m\u001b[38;5;124m'\u001b[39m] \u001b[38;5;241m=\u001b[39m kwargs\u001b[38;5;241m.\u001b[39mpop(\u001b[38;5;124m'\u001b[39m\u001b[38;5;124mmaxfev\u001b[39m\u001b[38;5;124m'\u001b[39m, \u001b[38;5;28;01mNone\u001b[39;00m)\n\u001b[0;32m--> 870\u001b[0m res \u001b[38;5;241m=\u001b[39m \u001b[43mleast_squares\u001b[49m\u001b[43m(\u001b[49m\u001b[43mfunc\u001b[49m\u001b[43m,\u001b[49m\u001b[43m \u001b[49m\u001b[43mp0\u001b[49m\u001b[43m,\u001b[49m\u001b[43m \u001b[49m\u001b[43mjac\u001b[49m\u001b[38;5;241;43m=\u001b[39;49m\u001b[43mjac\u001b[49m\u001b[43m,\u001b[49m\u001b[43m \u001b[49m\u001b[43mbounds\u001b[49m\u001b[38;5;241;43m=\u001b[39;49m\u001b[43mbounds\u001b[49m\u001b[43m,\u001b[49m\u001b[43m \u001b[49m\u001b[43mmethod\u001b[49m\u001b[38;5;241;43m=\u001b[39;49m\u001b[43mmethod\u001b[49m\u001b[43m,\u001b[49m\n\u001b[1;32m    871\u001b[0m \u001b[43m                    \u001b[49m\u001b[38;5;241;43m*\u001b[39;49m\u001b[38;5;241;43m*\u001b[39;49m\u001b[43mkwargs\u001b[49m\u001b[43m)\u001b[49m\n\u001b[1;32m    873\u001b[0m \u001b[38;5;28;01mif\u001b[39;00m \u001b[38;5;129;01mnot\u001b[39;00m res\u001b[38;5;241m.\u001b[39msuccess:\n\u001b[1;32m    874\u001b[0m     \u001b[38;5;28;01mraise\u001b[39;00m \u001b[38;5;167;01mRuntimeError\u001b[39;00m(\u001b[38;5;124m\"\u001b[39m\u001b[38;5;124mOptimal parameters not found: \u001b[39m\u001b[38;5;124m\"\u001b[39m \u001b[38;5;241m+\u001b[39m res\u001b[38;5;241m.\u001b[39mmessage)\n",
      "File \u001b[0;32m~/miniconda3/envs/pvi-dev/lib/python3.10/site-packages/scipy/optimize/_lsq/least_squares.py:830\u001b[0m, in \u001b[0;36mleast_squares\u001b[0;34m(fun, x0, jac, bounds, method, ftol, xtol, gtol, x_scale, loss, f_scale, diff_step, tr_solver, tr_options, jac_sparsity, max_nfev, verbose, args, kwargs)\u001b[0m\n\u001b[1;32m    827\u001b[0m \u001b[38;5;28;01mif\u001b[39;00m method \u001b[38;5;241m==\u001b[39m \u001b[38;5;124m'\u001b[39m\u001b[38;5;124mtrf\u001b[39m\u001b[38;5;124m'\u001b[39m:\n\u001b[1;32m    828\u001b[0m     x0 \u001b[38;5;241m=\u001b[39m make_strictly_feasible(x0, lb, ub)\n\u001b[0;32m--> 830\u001b[0m f0 \u001b[38;5;241m=\u001b[39m \u001b[43mfun_wrapped\u001b[49m\u001b[43m(\u001b[49m\u001b[43mx0\u001b[49m\u001b[43m)\u001b[49m\n\u001b[1;32m    832\u001b[0m \u001b[38;5;28;01mif\u001b[39;00m f0\u001b[38;5;241m.\u001b[39mndim \u001b[38;5;241m!=\u001b[39m \u001b[38;5;241m1\u001b[39m:\n\u001b[1;32m    833\u001b[0m     \u001b[38;5;28;01mraise\u001b[39;00m \u001b[38;5;167;01mValueError\u001b[39;00m(\u001b[38;5;124m\"\u001b[39m\u001b[38;5;124m`fun` must return at most 1-d array_like. \u001b[39m\u001b[38;5;124m\"\u001b[39m\n\u001b[1;32m    834\u001b[0m                      \u001b[38;5;124m\"\u001b[39m\u001b[38;5;124mf0.shape: \u001b[39m\u001b[38;5;132;01m{0}\u001b[39;00m\u001b[38;5;124m\"\u001b[39m\u001b[38;5;241m.\u001b[39mformat(f0\u001b[38;5;241m.\u001b[39mshape))\n",
      "File \u001b[0;32m~/miniconda3/envs/pvi-dev/lib/python3.10/site-packages/scipy/optimize/_lsq/least_squares.py:825\u001b[0m, in \u001b[0;36mleast_squares.<locals>.fun_wrapped\u001b[0;34m(x)\u001b[0m\n\u001b[1;32m    824\u001b[0m \u001b[38;5;28;01mdef\u001b[39;00m \u001b[38;5;21mfun_wrapped\u001b[39m(x):\n\u001b[0;32m--> 825\u001b[0m     \u001b[38;5;28;01mreturn\u001b[39;00m np\u001b[38;5;241m.\u001b[39matleast_1d(\u001b[43mfun\u001b[49m\u001b[43m(\u001b[49m\u001b[43mx\u001b[49m\u001b[43m,\u001b[49m\u001b[43m \u001b[49m\u001b[38;5;241;43m*\u001b[39;49m\u001b[43margs\u001b[49m\u001b[43m,\u001b[49m\u001b[43m \u001b[49m\u001b[38;5;241;43m*\u001b[39;49m\u001b[38;5;241;43m*\u001b[39;49m\u001b[43mkwargs\u001b[49m\u001b[43m)\u001b[49m)\n",
      "File \u001b[0;32m~/miniconda3/envs/pvi-dev/lib/python3.10/site-packages/scipy/optimize/_minpack_py.py:501\u001b[0m, in \u001b[0;36m_wrap_func.<locals>.func_wrapped\u001b[0;34m(params)\u001b[0m\n\u001b[1;32m    500\u001b[0m \u001b[38;5;28;01mdef\u001b[39;00m \u001b[38;5;21mfunc_wrapped\u001b[39m(params):\n\u001b[0;32m--> 501\u001b[0m     \u001b[38;5;28;01mreturn\u001b[39;00m \u001b[43mfunc\u001b[49m\u001b[43m(\u001b[49m\u001b[43mxdata\u001b[49m\u001b[43m,\u001b[49m\u001b[43m \u001b[49m\u001b[38;5;241;43m*\u001b[39;49m\u001b[43mparams\u001b[49m\u001b[43m)\u001b[49m\u001b[43m \u001b[49m\u001b[38;5;241;43m-\u001b[39;49m\u001b[43m \u001b[49m\u001b[43mydata\u001b[49m\n",
      "\u001b[0;31mValueError\u001b[0m: operands could not be broadcast together with shapes (9916,) (1,1096) "
     ]
    }
   ],
   "source": [
    "estimates = run_curve_fit(\n",
    "    func=func_customized,\n",
    "    keys=[\"tilt\", \"azimuth\"],\n",
    "    delta=delta_f,\n",
    "    omega=omega_f,\n",
    "    costheta=costheta_fit,\n",
    "    boolean_filter=None,\n",
    "    init_values=[30, 30],\n",
    "    fit_bounds=bounds,\n",
    ")"
   ]
  },
  {
   "cell_type": "code",
   "execution_count": null,
   "id": "clear-retention",
   "metadata": {},
   "outputs": [],
   "source": [
    "estimates[1]"
   ]
  },
  {
   "cell_type": "markdown",
   "id": "flexible-capture",
   "metadata": {},
   "source": [
    "## Estimate tilt and azimuth using the ConfigurationEstimator class"
   ]
  },
  {
   "cell_type": "code",
   "execution_count": null,
   "id": "young-universe",
   "metadata": {},
   "outputs": [],
   "source": [
    "from pvsystemprofiler.estimator import ConfigurationEstimator"
   ]
  },
  {
   "cell_type": "code",
   "execution_count": null,
   "id": "wrong-separation",
   "metadata": {},
   "outputs": [],
   "source": [
    "est = ConfigurationEstimator(dh, gmt_offset=-5)"
   ]
  },
  {
   "cell_type": "code",
   "execution_count": null,
   "id": "built-latvia",
   "metadata": {},
   "outputs": [],
   "source": [
    "est.estimate_orientation(longitude=longitude, latitude=latitude)"
   ]
  },
  {
   "cell_type": "code",
   "execution_count": null,
   "id": "3bb3554e",
   "metadata": {},
   "outputs": [],
   "source": [
    "latitude"
   ]
  },
  {
   "cell_type": "code",
   "execution_count": null,
   "id": "editorial-messenger",
   "metadata": {},
   "outputs": [],
   "source": [
    "est.tilt"
   ]
  },
  {
   "cell_type": "code",
   "execution_count": null,
   "id": "suspected-virginia",
   "metadata": {},
   "outputs": [],
   "source": [
    "est.azimuth"
   ]
  }
 ],
 "metadata": {
  "kernelspec": {
   "display_name": "Python 3 (ipykernel)",
   "language": "python",
   "name": "python3"
  },
  "language_info": {
   "codemirror_mode": {
    "name": "ipython",
    "version": 3
   },
   "file_extension": ".py",
   "mimetype": "text/x-python",
   "name": "python",
   "nbconvert_exporter": "python",
   "pygments_lexer": "ipython3",
   "version": "3.10.11"
  }
 },
 "nbformat": 4,
 "nbformat_minor": 5
}
