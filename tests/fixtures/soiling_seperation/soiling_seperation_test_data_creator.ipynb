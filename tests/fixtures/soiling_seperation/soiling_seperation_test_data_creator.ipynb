{
 "cells": [
  {
   "cell_type": "markdown",
   "id": "d624519b",
   "metadata": {},
   "source": [
    "# WIP Will Be Fixed once Soiling Alg is updated"
   ]
  },
  {
   "cell_type": "markdown",
   "id": "specified-arthur",
   "metadata": {},
   "source": [
    "## Data for soiling seperation test produced using this notebook"
   ]
  },
  {
   "cell_type": "markdown",
   "id": "framed-satellite",
   "metadata": {},
   "source": [
    "### Code from [TAC2_scratchbook.ipynb](https://github.com/slacgismo/solar-data-tools/blob/master/notebooks/TAC2_scratchwork.ipynb) in example notebooks folder"
   ]
  },
  {
   "cell_type": "code",
   "execution_count": 1,
   "id": "respected-advisory",
   "metadata": {},
   "outputs": [],
   "source": [
    "import numpy as np\n",
    "import matplotlib.pyplot as plt\n",
    "import seaborn as sns\n",
    "# PVInsight Code Imports\n",
    "from solardatatools import DataHandler\n",
    "from solardatatools.dataio import get_pvdaq_data\n",
    "from solardatatools.algorithms.soiling import soiling_seperation"
   ]
  },
  {
   "cell_type": "code",
   "execution_count": 5,
   "id": "standing-namibia",
   "metadata": {},
   "outputs": [
    {
     "name": "stdout",
     "output_type": "stream",
     "text": [
      "CAUTION: Multiple scan rates detected!=======================] 100.0% ...queries complete in 22.8 seconds       \n",
      "Scan rates (in seconds): [300, 280]\n",
      "0 transitions detected.\n",
      "Suggest splitting data set between:\n",
      "\n",
      "\n"
     ]
    }
   ],
   "source": [
    "data_frame = get_pvdaq_data(sysid=1199, year=[2015, 2016, 2017], api_key='DEMO_KEY')[0]"
   ]
  },
  {
   "cell_type": "code",
   "execution_count": 6,
   "id": "fixed-dance",
   "metadata": {},
   "outputs": [],
   "source": [
    "data_frame.loc['2017-06-01':] = data_frame.loc['2017-06-01':] * 0.75"
   ]
  },
  {
   "cell_type": "code",
   "execution_count": 7,
   "id": "smart-compiler",
   "metadata": {},
   "outputs": [],
   "source": [
    "dh = DataHandler(data_frame)"
   ]
  },
  {
   "cell_type": "code",
   "execution_count": 8,
   "id": "lucky-adams",
   "metadata": {},
   "outputs": [
    {
     "name": "stdout",
     "output_type": "stream",
     "text": [
      "total time: 11.15 seconds\n",
      "--------------------------------\n",
      "Breakdown\n",
      "--------------------------------\n",
      "Preprocessing              2.44s\n",
      "Cleaning                   4.18s\n",
      "Filtering/Summarizing      4.54s\n",
      "    Data quality           0.19s\n",
      "    Clear day detect       0.14s\n",
      "    Clipping detect        3.50s\n",
      "    Capacity change detect 0.71s\n",
      "\n"
     ]
    }
   ],
   "source": [
    "dh.run_pipeline(power_col='ac_power')"
   ]
  },
  {
   "cell_type": "code",
   "execution_count": 9,
   "id": "meaning-tractor",
   "metadata": {},
   "outputs": [],
   "source": [
    "bix = dh.daily_flags.clear"
   ]
  },
  {
   "cell_type": "code",
   "execution_count": 10,
   "id": "surrounded-thing",
   "metadata": {},
   "outputs": [
    {
     "name": "stdout",
     "output_type": "stream",
     "text": [
      "----------------------\n",
      "SCSF Problem Setup\n",
      "----------------------\n",
      "Matrix Size: 288 x 1096 = 315648 power measurements\n",
      "Sparsity: 91.57%\n",
      "26616 non-zero measurements under clear conditions\n",
      "Model size: 288 x 6 + 6 x 1096 = 8304 parameters\n",
      "\n",
      "\n",
      "----------------------\n",
      "Algorithm Iterations\n",
      "----------------------\n",
      "Starting at Objective: 9.338e+09, f1: 1.512e+07, f2: 1.814e+02, f3: 7.521e+09, f4: 1.802e+09\n",
      "    Minimizing left matrix\n"
     ]
    },
    {
     "name": "stderr",
     "output_type": "stream",
     "text": [
      "/Users/derins/opt/anaconda3/envs/pvi-user/lib/python3.7/site-packages/cvxpy/reductions/solvers/solving_chain.py:167: UserWarning: You are solving a parameterized problem that is not DPP. Because the problem is not DPP, subsequent solves will not be faster than the first one. For more information, see the documentation on Discplined Parametrized Programming, at\n",
      "\thttps://www.cvxpy.org/tutorial/advanced/index.html#disciplined-parametrized-programming\n",
      "  warnings.warn(dpp_error_msg)\n"
     ]
    },
    {
     "name": "stdout",
     "output_type": "stream",
     "text": [
      "    Minimizing right matrix\n",
      "1 - Objective: 1.708e+07, f1: 1.541e+07, f2: 5.944e+02, f3: 1.668e+06, f4: 4.797e-04\n",
      "Caution: residuals increased\n",
      "    Minimizing left matrix\n",
      "    Minimizing right matrix\n",
      "2 - Objective: 1.525e+07, f1: 1.354e+07, f2: 1.937e+03, f3: 1.710e+06, f4: 9.238e-06\n",
      "    Minimizing left matrix\n",
      "    Minimizing right matrix\n",
      "3 - Objective: 1.508e+07, f1: 1.338e+07, f2: 1.742e+03, f3: 1.698e+06, f4: 1.533e-06\n",
      "    Minimizing left matrix\n",
      "    Minimizing right matrix\n",
      "4 - Objective: 1.506e+07, f1: 1.337e+07, f2: 1.720e+03, f3: 1.688e+06, f4: 1.633e-06\n",
      "    Minimizing left matrix\n",
      "    Minimizing right matrix\n",
      "5 - Objective: 1.505e+07, f1: 1.336e+07, f2: 1.709e+03, f3: 1.680e+06, f4: 2.068e-05\n",
      "Minimization complete in 3.15 minutes\n"
     ]
    }
   ],
   "source": [
    "dh.fit_statistical_clear_sky_model()"
   ]
  },
  {
   "cell_type": "code",
   "execution_count": 11,
   "id": "exempt-basketball",
   "metadata": {},
   "outputs": [],
   "source": [
    "pi = np.sum(dh.filled_data_matrix, axis=0) / np.sum(dh.scsf.clear_sky_signals(), axis=0)"
   ]
  },
  {
   "cell_type": "markdown",
   "id": "operational-arkansas",
   "metadata": {},
   "source": [
    "### Saves the input variables to csv"
   ]
  },
  {
   "cell_type": "code",
   "execution_count": 12,
   "id": "legendary-hebrew",
   "metadata": {},
   "outputs": [],
   "source": [
    "np.savetxt('./bix_soiling_seperation_input.csv', bix, delimiter=',')\n",
    "np.savetxt('./pi_soiling_seperation_input.csv', pi, delimiter=',')"
   ]
  },
  {
   "cell_type": "markdown",
   "id": "selected-ethics",
   "metadata": {},
   "source": [
    "### Saves the outputs tp csv"
   ]
  },
  {
   "cell_type": "code",
   "execution_count": 13,
   "id": "personal-vitamin",
   "metadata": {},
   "outputs": [],
   "source": [
    "s1, s2, s3 = soiling_seperation(pi, index_set=bix, iterations=1)"
   ]
  },
  {
   "cell_type": "code",
   "execution_count": 14,
   "id": "independent-cooperation",
   "metadata": {},
   "outputs": [],
   "source": [
    "np.savetxt('./s1_soiling_seperation_output.csv', s1, delimiter=',')\n",
    "np.savetxt('./s2_soiling_seperation_output.csv', s2, delimiter=',')\n",
    "np.savetxt('./s3_soiling_seperation_output.csv', s3, delimiter=',')"
   ]
  }
 ],
 "metadata": {
  "kernelspec": {
   "display_name": "Python 3",
   "language": "python",
   "name": "python3"
  },
  "language_info": {
   "codemirror_mode": {
    "name": "ipython",
    "version": 3
   },
   "file_extension": ".py",
   "mimetype": "text/x-python",
   "name": "python",
   "nbconvert_exporter": "python",
   "pygments_lexer": "ipython3",
   "version": "3.7.6"
  }
 },
 "nbformat": 4,
 "nbformat_minor": 5
}
