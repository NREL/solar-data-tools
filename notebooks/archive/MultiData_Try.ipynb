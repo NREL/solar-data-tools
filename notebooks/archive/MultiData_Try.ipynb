{
 "cells": [
  {
   "cell_type": "markdown",
   "id": "2ad307b3",
   "metadata": {},
   "source": [
    "# Try MultiDataHandler class"
   ]
  },
  {
   "cell_type": "code",
   "execution_count": null,
   "id": "5f6fe68f",
   "metadata": {
    "vscode": {
     "languageId": "plaintext"
    }
   },
   "outputs": [],
   "source": [
    "import pandas as pd"
   ]
  }
 ],
 "metadata": {
  "language_info": {
   "name": "python"
  }
 },
 "nbformat": 4,
 "nbformat_minor": 5
}
