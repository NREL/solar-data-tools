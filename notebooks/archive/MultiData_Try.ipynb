{
 "cells": [
  {
   "cell_type": "markdown",
   "id": "2ad307b3",
   "metadata": {},
   "source": [
    "# Try MultiDataHandler class"
   ]
  },
  {
   "cell_type": "code",
   "execution_count": 25,
   "id": "5f6fe68f",
   "metadata": {},
   "outputs": [],
   "source": [
    "import os\n",
    "import pandas as pd\n",
    "import numpy as np\n",
    "import importlib\n",
    "import matplotlib.pyplot as plt"
   ]
  },
  {
   "cell_type": "code",
   "execution_count": 167,
   "id": "6d054382",
   "metadata": {},
   "outputs": [],
   "source": [
    "import anomalydetector\n",
    "import anomalydetector.multidata_handler\n",
    "import anomalydetector.utils\n",
    "import anomalydetector.detector_model\n",
    "import solardatatools\n",
    "\n",
    "importlib.reload(anomalydetector)\n",
    "importlib.reload(anomalydetector.multidata_handler)\n",
    "importlib.reload(anomalydetector.utils)\n",
    "importlib.reload(anomalydetector.detector_model)\n",
    "\n",
    "from anomalydetector.multidata_handler import MultiDataHandler,train_test_split\n",
    "from solardatatools.algorithms import Dilation\n",
    "from anomalydetector.utils import common_days,form_xy,reshape_for_cheb,optimal_weighted_regression\n",
    "from anomalydetector.detector_model import QLinear"
   ]
  },
  {
   "cell_type": "code",
   "execution_count": 27,
   "id": "3fc85d32",
   "metadata": {},
   "outputs": [],
   "source": [
    "folder_path = \"C:/Users/coren/Solar-data-tools/site_data\"\n",
    "\n",
    "dfs = {}\n",
    "for filename in os.listdir(folder_path):\n",
    "    if filename.endswith(\".csv\"):\n",
    "        file_path = os.path.join(folder_path, filename)\n",
    "        dfs[filename] = pd.read_csv(file_path)\n",
    "        dfs[filename]['measured_on'] = pd.to_datetime(dfs[filename]['measured_on'])+pd.Timedelta(hours=-8)\n",
    "        dfs[filename] = dfs[filename].iloc[:,:2]"
   ]
  },
  {
   "cell_type": "code",
   "execution_count": 28,
   "id": "7669cba5",
   "metadata": {},
   "outputs": [],
   "source": [
    "dhs = MultiDataHandler(data_frames=list(dfs.values()),datetime_col='measured_on')"
   ]
  },
  {
   "cell_type": "code",
   "execution_count": 29,
   "id": "f1794115",
   "metadata": {},
   "outputs": [
    {
     "name": "stderr",
     "output_type": "stream",
     "text": [
      "Running pipelines: 100%|██████████| 9/9 [03:03<00:00, 20.37s/it]\n",
      "Aligning datasets: 100%|██████████| 9/9 [00:00<00:00, 239.48it/s]\n"
     ]
    }
   ],
   "source": [
    "dhs.align()"
   ]
  },
  {
   "cell_type": "code",
   "execution_count": 30,
   "id": "ff7367c5",
   "metadata": {},
   "outputs": [],
   "source": [
    "dhs.dilate(ndil = 51)"
   ]
  },
  {
   "cell_type": "code",
   "execution_count": 168,
   "id": "a6cbd5a8",
   "metadata": {},
   "outputs": [],
   "source": [
    "dhs_train,dhs_test = train_test_split(dhs,test_size=0.1,shuffle=True)"
   ]
  },
  {
   "cell_type": "code",
   "execution_count": 159,
   "id": "34ec8c12",
   "metadata": {},
   "outputs": [],
   "source": [
    "sites = dhs.keys"
   ]
  },
  {
   "cell_type": "code",
   "execution_count": 152,
   "id": "f2dad630",
   "metadata": {},
   "outputs": [],
   "source": [
    "m1 = QLinear(sites,51,'ac_power_inv_30219')"
   ]
  },
  {
   "cell_type": "code",
   "execution_count": 153,
   "id": "918d078b",
   "metadata": {},
   "outputs": [
    {
     "name": "stderr",
     "output_type": "stream",
     "text": [
      "100%|███████████████████████████████████████████| 10/10 [01:56<00:00, 11.69s/it]\n",
      "100%|███████████████████████████████████████████| 10/10 [01:54<00:00, 11.47s/it]\n",
      "100%|███████████████████████████████████████████| 10/10 [01:56<00:00, 11.63s/it]\n",
      "100%|███████████████████████████████████████████| 10/10 [01:55<00:00, 11.53s/it]\n",
      "100%|███████████████████████████████████████████| 10/10 [01:56<00:00, 11.68s/it]\n",
      "100%|███████████████████████████████████████████| 10/10 [01:58<00:00, 11.86s/it]\n",
      "100%|███████████████████████████████████████████| 10/10 [01:59<00:00, 11.94s/it]\n",
      "c:\\Users\\coren\\Solar-data-tools\\environments\\ra_dev\\Lib\\site-packages\\spcqe\\extrapolate_asymptotic.py:61: RuntimeWarning: invalid value encountered in multiply\n",
      "  return yasympt + alpha * exp_output\n",
      "100%|███████████████████████████████████████████| 10/10 [01:57<00:00, 11.76s/it]\n",
      "100%|███████████████████████████████████████████| 10/10 [01:59<00:00, 11.92s/it]\n"
     ]
    }
   ],
   "source": [
    "m1.fit_quantiles(dhs,param={'solver_quantiles' : 'mosek'})"
   ]
  },
  {
   "cell_type": "code",
   "execution_count": null,
   "id": "0ad40b34",
   "metadata": {},
   "outputs": [],
   "source": [
    "m1.fit_linear({'nlag' : 3, 'num_basis' : 8})"
   ]
  },
  {
   "cell_type": "code",
   "execution_count": 158,
   "id": "35107ab6",
   "metadata": {},
   "outputs": [
    {
     "data": {
      "text/plain": [
       "{'accuracy_train': 0.9075215782983971,\n",
       " 'f1_score_train': 0.8979591836734694,\n",
       " 'accuracy_test': 0.8620689655172413,\n",
       " 'f1_score_test': 0.8585858585858586}"
      ]
     },
     "execution_count": 158,
     "metadata": {},
     "output_type": "execute_result"
    }
   ],
   "source": [
    "m1.fit_residuals()"
   ]
  },
  {
   "cell_type": "code",
   "execution_count": 144,
   "id": "485ac038",
   "metadata": {},
   "outputs": [
    {
     "data": {
      "text/plain": [
       "array([-0.20089628, -0.28794225, -0.1488956 , ...,  1.41510804,\n",
       "        1.51060023, -0.25265516], shape=(22308,))"
      ]
     },
     "execution_count": 144,
     "metadata": {},
     "output_type": "execute_result"
    }
   ],
   "source": [
    "m1.quantile_train[m1.target][3:47].flatten()"
   ]
  }
 ],
 "metadata": {
  "kernelspec": {
   "display_name": "ra_dev",
   "language": "python",
   "name": "python3"
  },
  "language_info": {
   "codemirror_mode": {
    "name": "ipython",
    "version": 3
   },
   "file_extension": ".py",
   "mimetype": "text/x-python",
   "name": "python",
   "nbconvert_exporter": "python",
   "pygments_lexer": "ipython3",
   "version": "3.11.7"
  }
 },
 "nbformat": 4,
 "nbformat_minor": 5
}
