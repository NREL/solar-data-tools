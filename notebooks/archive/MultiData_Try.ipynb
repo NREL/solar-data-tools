{
 "cells": [
  {
   "cell_type": "markdown",
   "id": "2ad307b3",
   "metadata": {},
   "source": [
    "# Try MultiDataHandler class"
   ]
  },
  {
   "cell_type": "code",
   "execution_count": 24,
   "id": "5f6fe68f",
   "metadata": {},
   "outputs": [],
   "source": [
    "import os\n",
    "import pandas as pd\n",
    "import numpy as np\n",
    "import importlib\n",
    "import matplotlib.pyplot as plt"
   ]
  },
  {
   "cell_type": "code",
   "execution_count": 205,
   "id": "6d054382",
   "metadata": {},
   "outputs": [],
   "source": [
    "import anomalydetector\n",
    "import anomalydetector.multidata_handler\n",
    "import anomalydetector.utils\n",
    "import solardatatools\n",
    "\n",
    "importlib.reload(anomalydetector)\n",
    "importlib.reload(anomalydetector.multidata_handler)\n",
    "importlib.reload(anomalydetector.utils)\n",
    "\n",
    "from anomalydetector.multidata_handler import MultiDataHandler\n",
    "from solardatatools.algorithms import Dilation\n",
    "from anomalydetector.utils import common_days"
   ]
  },
  {
   "cell_type": "code",
   "execution_count": 156,
   "id": "3fc85d32",
   "metadata": {},
   "outputs": [],
   "source": [
    "folder_path = \"C:/Users/coren/Solar-data-tools/site_data\"\n",
    "\n",
    "dfs = {}\n",
    "for filename in os.listdir(folder_path):\n",
    "    if filename.endswith(\".csv\"):\n",
    "        file_path = os.path.join(folder_path, filename)\n",
    "        dfs[filename] = pd.read_csv(file_path)\n",
    "        dfs[filename]['measured_on'] = pd.to_datetime(dfs[filename]['measured_on'])+pd.Timedelta(hours=-8)\n",
    "        dfs[filename] = dfs[filename].iloc[:,:2]"
   ]
  },
  {
   "cell_type": "code",
   "execution_count": 206,
   "id": "7669cba5",
   "metadata": {},
   "outputs": [],
   "source": [
    "dhs = MultiDataHandler(data_frames=list(dfs.values()),datetime_col='measured_on')"
   ]
  },
  {
   "cell_type": "code",
   "execution_count": 207,
   "id": "f1794115",
   "metadata": {},
   "outputs": [
    {
     "name": "stderr",
     "output_type": "stream",
     "text": [
      "Running pipelines: 100%|██████████| 9/9 [02:36<00:00, 17.36s/it]\n",
      "Aligning datasets: 100%|██████████| 9/9 [00:00<00:00, 500.41it/s]\n"
     ]
    }
   ],
   "source": [
    "dhs.align()"
   ]
  },
  {
   "cell_type": "code",
   "execution_count": 208,
   "id": "ff7367c5",
   "metadata": {},
   "outputs": [],
   "source": [
    "dhs.dilate(ndil = 51)"
   ]
  },
  {
   "cell_type": "code",
   "execution_count": 209,
   "id": "091cc6d5",
   "metadata": {},
   "outputs": [],
   "source": [
    "dhs.generate_failure(target='ac_power_inv_30339',proportion_totalday=0.5)"
   ]
  }
 ],
 "metadata": {
  "kernelspec": {
   "display_name": "ra_dev",
   "language": "python",
   "name": "python3"
  },
  "language_info": {
   "codemirror_mode": {
    "name": "ipython",
    "version": 3
   },
   "file_extension": ".py",
   "mimetype": "text/x-python",
   "name": "python",
   "nbconvert_exporter": "python",
   "pygments_lexer": "ipython3",
   "version": "3.11.7"
  }
 },
 "nbformat": 4,
 "nbformat_minor": 5
}
