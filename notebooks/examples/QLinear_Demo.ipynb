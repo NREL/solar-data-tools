{
 "cells": [
  {
   "cell_type": "markdown",
   "id": "6124a4f7",
   "metadata": {},
   "source": [
    "# Demonstration of Quantiles fitting + Linear model\n",
    "\n",
    "This notebook demonstrates the module for an anomaly detection model for solar panels, using a dataset of 9 solar panels in California. This model is based on the following paper: \"insert link\"."
   ]
  },
  {
   "cell_type": "markdown",
   "id": "720764cc",
   "metadata": {},
   "source": [
    "### Library import "
   ]
  },
  {
   "cell_type": "code",
   "execution_count": 23,
   "id": "a6ca0f5d",
   "metadata": {},
   "outputs": [],
   "source": [
    "from anomalydetector import MultiDataHandler,QLinear\n",
    "from anomalydetector import save,load,train_test_split\n",
    "import pandas as pd\n",
    "import os\n",
    "import numpy as np\n",
    "from dask.distributed import Client\n",
    "from scipy.stats import beta"
   ]
  },
  {
   "cell_type": "markdown",
   "id": "620addd1",
   "metadata": {},
   "source": [
    "### Data loading\n",
    "\n",
    "We are using a dataset of 9 solar panels situated in California. "
   ]
  },
  {
   "cell_type": "code",
   "execution_count": 6,
   "id": "eec56a32",
   "metadata": {},
   "outputs": [],
   "source": [
    "folder_path = \"C:/Users/coren/Solar-data-tools/site_data\"\n",
    "\n",
    "dfs = {}\n",
    "for filename in os.listdir(folder_path):\n",
    "    if filename.endswith(\".csv\"):\n",
    "        file_path = os.path.join(folder_path, filename)\n",
    "        dfs[filename] = pd.read_csv(file_path)\n",
    "        dfs[filename]['measured_on'] = pd.to_datetime(dfs[filename]['measured_on'])+pd.Timedelta(hours=-8)\n",
    "        dfs[filename] = dfs[filename].iloc[:,:2]"
   ]
  },
  {
   "cell_type": "markdown",
   "id": "4fff1f5a",
   "metadata": {},
   "source": [
    "As an extension of the DataHandler class, MultiDataHandler class takes into arguement a list of pandas dataframes or a unique dataframe containing all the timeseries and create a MultiDataHandler object ables to run the pipelines for each timeseries and also align/dilate the dataframes.  "
   ]
  },
  {
   "cell_type": "code",
   "execution_count": 9,
   "id": "23a0b924",
   "metadata": {},
   "outputs": [],
   "source": [
    "dhs = MultiDataHandler(data_frames=list(dfs.values()),datetime_col='measured_on')\n",
    "#If the DataFrame index does not represent time, specify the name of the column that does."
   ]
  },
  {
   "cell_type": "markdown",
   "id": "67cd8b4c",
   "metadata": {},
   "source": [
    "### Running the pipelines and aligne datasets\n",
    "\n",
    "The align method runs the pipelines for each DataHandler (if not already done) and computes the list of common valid days."
   ]
  },
  {
   "cell_type": "code",
   "execution_count": 10,
   "id": "a57325f6",
   "metadata": {},
   "outputs": [
    {
     "name": "stderr",
     "output_type": "stream",
     "text": [
      "Running pipelines: 100%|██████████| 9/9 [03:19<00:00, 22.20s/it]\n",
      "Aligning datasets: 100%|██████████| 9/9 [00:00<00:00, 158.78it/s]\n"
     ]
    }
   ],
   "source": [
    "dhs.align()"
   ]
  },
  {
   "cell_type": "markdown",
   "id": "142e9537",
   "metadata": {},
   "source": [
    "The dilate method applies the dilation process to each time series. The result is stored in the object and not returned by the function. If a failure scenario was already computed the function recompute a scenario with default parameters."
   ]
  },
  {
   "cell_type": "code",
   "execution_count": 11,
   "id": "1f53147e",
   "metadata": {},
   "outputs": [],
   "source": [
    "dhs.dilate(ndil = 51)"
   ]
  },
  {
   "cell_type": "markdown",
   "id": "708e5bc3",
   "metadata": {},
   "source": [
    "The generate_failure method takes a target as an argument and creates a failure scenario for the given time series. You can also provide a loss distribution in the scipy.stats format (default: uniform distribution), and a proportion_totalday value between 0 and 1, which specifies the proportion of days with a failure lasting the entire day."
   ]
  },
  {
   "cell_type": "code",
   "execution_count": null,
   "id": "3d84308d",
   "metadata": {},
   "outputs": [],
   "source": [
    "example_dist = beta(a = 2, b = 5)\n",
    "dhs.generate_failure('ac_power_inv_30219',\n",
    "                     loss_distribution=example_dist,\n",
    "                     proportion_totalday=0.5)"
   ]
  },
  {
   "cell_type": "markdown",
   "id": "a7c3605e",
   "metadata": {},
   "source": [
    "Finally, you can separate the dataset in a train/test dataset. the first one is used to fit the model while the second one is used to test it."
   ]
  },
  {
   "cell_type": "code",
   "execution_count": 41,
   "id": "8406ff18",
   "metadata": {},
   "outputs": [],
   "source": [
    "dh_train,dh_test = train_test_split(dhs,test_size=0.2,shuffle=False)"
   ]
  },
  {
   "cell_type": "markdown",
   "id": "5c68b0de",
   "metadata": {},
   "source": [
    "### QLinear model\n",
    "\n",
    "The QLinear class contains the model presented in the following paper : \"insert link\". Firstly, we fit a SmoothPeriodicQuantile model on each timeserie to transform the data in a Gaussian variable. Secondly, we fit a linear regression to predict the target from the other ones. And finally, we classify from the residuals the failure/non-failure scenario."
   ]
  },
  {
   "cell_type": "code",
   "execution_count": 18,
   "id": "a9887784",
   "metadata": {},
   "outputs": [],
   "source": [
    "sites = list(dhs.dil_mat.keys())\n",
    "ndil = dhs.ndil()\n",
    "target = dhs.target"
   ]
  },
  {
   "cell_type": "code",
   "execution_count": 20,
   "id": "1ea85bd4",
   "metadata": {},
   "outputs": [],
   "source": [
    "model = QLinear(sites=sites,\n",
    "                ndil=ndil,\n",
    "                target=target)"
   ]
  },
  {
   "cell_type": "markdown",
   "id": "07547268",
   "metadata": {},
   "source": [
    "#### Fitting\n",
    "\n",
    "We can fit either all the model all it once, or part by part. "
   ]
  },
  {
   "cell_type": "code",
   "execution_count": null,
   "id": "d32587f1",
   "metadata": {},
   "outputs": [
    {
     "name": "stderr",
     "output_type": "stream",
     "text": [
      "c:\\Users\\coren\\Solar-data-tools\\environments\\ra_dev\\Lib\\site-packages\\distributed\\node.py:187: UserWarning: Port 8787 is already in use.\n",
      "Perhaps you already have a cluster running?\n",
      "Hosting the HTTP server on port 59356 instead\n",
      "  warnings.warn(\n"
     ]
    },
    {
     "name": "stdout",
     "output_type": "stream",
     "text": [
      "http://127.0.0.1:59356/status\n"
     ]
    },
    {
     "name": "stderr",
     "output_type": "stream",
     "text": [
      "2025-08-09 15:13:46,370 - distributed.scheduler - WARNING - Worker failed to heartbeat for 403s; attempting restart: <WorkerState 'tcp://127.0.0.1:59378', name: 1, status: running, memory: 0, processing: 0>\n",
      "2025-08-09 15:13:46,444 - distributed.scheduler - WARNING - Worker failed to heartbeat for 403s; attempting restart: <WorkerState 'tcp://127.0.0.1:59379', name: 2, status: running, memory: 0, processing: 0>\n",
      "2025-08-09 15:13:46,449 - distributed.scheduler - WARNING - Worker failed to heartbeat for 403s; attempting restart: <WorkerState 'tcp://127.0.0.1:59380', name: 0, status: running, memory: 0, processing: 0>\n",
      "2025-08-09 15:13:46,451 - distributed.scheduler - WARNING - Worker failed to heartbeat for 402s; attempting restart: <WorkerState 'tcp://127.0.0.1:59387', name: 3, status: running, memory: 0, processing: 0>\n",
      "2025-08-09 15:13:47,475 - distributed.nanny - WARNING - Restarting worker\n",
      "2025-08-09 15:13:47,483 - distributed.nanny - WARNING - Restarting worker\n",
      "2025-08-09 15:13:47,498 - distributed.nanny - WARNING - Restarting worker\n",
      "2025-08-09 15:13:47,519 - distributed.nanny - WARNING - Restarting worker\n"
     ]
    }
   ],
   "source": [
    "client = Client(n_workers=4, threads_per_worker=2, memory_limit='15GB')\n",
    "print(client.dashboard_link)"
   ]
  },
  {
   "cell_type": "code",
   "execution_count": 52,
   "id": "30f96062",
   "metadata": {},
   "outputs": [],
   "source": [
    "client.close()"
   ]
  },
  {
   "cell_type": "code",
   "execution_count": 28,
   "id": "937682b8",
   "metadata": {},
   "outputs": [],
   "source": [
    "param = {'weight_quantiles' : 5, #The weight for the quantiles fit\n",
    "                   'quantiles' : np.array([0.02, 0.1, 0.2, 0.3, 0.4, 0.6, 0.7, 0.8, 0.9, 0.98]), #The different quantiles to fit\n",
    "                   'solver_quantiles' : 'mosek', #Solver used for the quantiles fitting\n",
    "                   'num_harmonics' : [30,3], #Number of harmonics for the first and second period\n",
    "                   #'client' : client, #Dask client to parrallelize the computation\n",
    "                   'nlag' : 3, #The lag to use you can retrain the model with other nlag whitout changing everything\n",
    "                   'num_basis' : 8,#Number of Chebychev polynomial used \n",
    "                   #'weight_linear'  #weights for the linear regression of size (num_basis,n_features)\n",
    "                   #'lambda_range' : #The range of lambda for the global weight\n",
    "                   'num_split' : 5,#number of split to use for the K-fold\n",
    "                   #'model_residuals' : #the model to use for the residuals classification\n",
    "                   'train_size' : 0.8,\n",
    "}"
   ]
  },
  {
   "cell_type": "code",
   "execution_count": 44,
   "id": "c33b7409",
   "metadata": {},
   "outputs": [
    {
     "name": "stderr",
     "output_type": "stream",
     "text": [
      "100%|███████████████████████████████████████████| 10/10 [01:19<00:00,  7.97s/it]\n",
      "100%|███████████████████████████████████████████| 10/10 [01:20<00:00,  8.08s/it]\n",
      "100%|███████████████████████████████████████████| 10/10 [01:15<00:00,  7.59s/it]\n",
      "100%|██████████████████████████████████████████| 10/10 [32:54<00:00, 197.44s/it]\n",
      "100%|███████████████████████████████████████████| 10/10 [00:59<00:00,  5.92s/it]\n",
      "100%|███████████████████████████████████████████| 10/10 [01:00<00:00,  6.01s/it]\n",
      "100%|███████████████████████████████████████████| 10/10 [01:01<00:00,  6.11s/it]\n",
      "100%|███████████████████████████████████████████| 10/10 [01:00<00:00,  6.07s/it]\n",
      "100%|███████████████████████████████████████████| 10/10 [01:04<00:00,  6.40s/it]\n"
     ]
    }
   ],
   "source": [
    "model.fit_quantiles(dh_train,param=param)"
   ]
  },
  {
   "cell_type": "code",
   "execution_count": 49,
   "id": "97c455dc",
   "metadata": {},
   "outputs": [],
   "source": [
    "model.fit_linear(param = param)"
   ]
  },
  {
   "cell_type": "code",
   "execution_count": 50,
   "id": "61210df8",
   "metadata": {},
   "outputs": [
    {
     "data": {
      "text/plain": [
       "{'accuracy_train': 0.9228395061728395,\n",
       " 'f1_score_train': 0.9163879598662207,\n",
       " 'accuracy_val': 0.8888888888888888,\n",
       " 'f1_score_val': 0.8928571428571429}"
      ]
     },
     "execution_count": 50,
     "metadata": {},
     "output_type": "execute_result"
    }
   ],
   "source": [
    "model.fit_residuals(param=param)"
   ]
  },
  {
   "cell_type": "code",
   "execution_count": 51,
   "id": "55fc6b22",
   "metadata": {},
   "outputs": [
    {
     "name": "stderr",
     "output_type": "stream",
     "text": [
      "100%|███████████████████████████████████████████| 10/10 [00:59<00:00,  5.98s/it]\n",
      "100%|███████████████████████████████████████████| 10/10 [01:01<00:00,  6.13s/it]\n",
      "100%|███████████████████████████████████████████| 10/10 [01:00<00:00,  6.09s/it]\n",
      "100%|███████████████████████████████████████████| 10/10 [01:01<00:00,  6.18s/it]\n",
      "100%|███████████████████████████████████████████| 10/10 [01:04<00:00,  6.46s/it]\n",
      "100%|███████████████████████████████████████████| 10/10 [01:04<00:00,  6.45s/it]\n",
      "100%|███████████████████████████████████████████| 10/10 [01:06<00:00,  6.67s/it]\n",
      "100%|███████████████████████████████████████████| 10/10 [01:05<00:00,  6.54s/it]\n",
      "100%|███████████████████████████████████████████| 10/10 [01:06<00:00,  6.63s/it]\n"
     ]
    },
    {
     "data": {
      "text/plain": [
       "{'accuracy_train': 0.9228395061728395,\n",
       " 'f1_score_train': 0.9163879598662207,\n",
       " 'accuracy_val': 0.8888888888888888,\n",
       " 'f1_score_val': 0.8928571428571429}"
      ]
     },
     "execution_count": 51,
     "metadata": {},
     "output_type": "execute_result"
    }
   ],
   "source": [
    "model.fit(dh_train,param=param)"
   ]
  },
  {
   "cell_type": "markdown",
   "id": "ed20c9f1",
   "metadata": {},
   "source": [
    "The good way to do it is to fit everything at once the first time, and maybe retrain some part (mostly the last ones) using the pretrain model."
   ]
  },
  {
   "cell_type": "markdown",
   "id": "2ea57c08",
   "metadata": {},
   "source": [
    "#### Testing\n",
    "\n",
    "You can test the model with the test method on a new dataset with a failure scenario. "
   ]
  },
  {
   "cell_type": "code",
   "execution_count": 53,
   "id": "3636f7b0",
   "metadata": {},
   "outputs": [
    {
     "data": {
      "text/plain": [
       "{'accuracy_test': 0.8627450980392157, 'f1_score_test': 0.8613861386138614}"
      ]
     },
     "execution_count": 53,
     "metadata": {},
     "output_type": "execute_result"
    }
   ],
   "source": [
    "model.test(dh_test)"
   ]
  },
  {
   "cell_type": "markdown",
   "id": "ac03df44",
   "metadata": {},
   "source": [
    "#### Predicting\n",
    "\n",
    "Finally, you can use the predict method on a new dataset."
   ]
  },
  {
   "cell_type": "code",
   "execution_count": 54,
   "id": "e9416cb1",
   "metadata": {},
   "outputs": [
    {
     "data": {
      "text/plain": [
       "array([1, 1, 1, 1, 0, 0, 0, 1, 0, 0, 1, 0, 0, 0, 0, 0, 0, 0, 0, 0, 0, 0,\n",
       "       0, 0, 1, 0, 0, 0, 0, 0, 0, 0, 0, 0, 0, 0, 0, 0, 0, 0, 0, 0, 0, 0,\n",
       "       0, 0, 0, 0, 0, 0, 0, 0, 0, 0, 0, 0, 0, 0, 0, 0, 0, 0, 0, 0, 0, 0,\n",
       "       0, 0, 0, 0, 1, 0, 0, 0, 0, 0, 0, 0, 0, 0, 0, 0, 0, 0, 0, 0, 0, 0,\n",
       "       0, 0, 0, 0, 0, 0, 0, 0, 0, 0, 0, 0, 0, 0, 0, 0, 0, 0, 0, 0, 1, 0,\n",
       "       0, 0, 0, 0, 0, 0, 0, 0, 0, 0, 0, 0, 0, 0, 0, 0, 0, 0, 0, 0, 0, 0,\n",
       "       0, 0, 0, 0, 0, 0, 0, 0, 0, 0, 0, 0, 0, 0, 0, 0, 0, 0, 0, 0, 0, 0,\n",
       "       0, 0, 0, 0, 0, 0, 0, 0, 0, 0, 0, 0, 0, 0, 0, 0, 0, 0, 0, 0, 0, 0,\n",
       "       0, 0, 0, 0, 0, 0, 0, 0, 0, 0, 0, 0, 0, 0, 0, 0, 0, 0, 0, 0, 0, 0,\n",
       "       0, 0, 0, 0, 0, 0, 0, 0, 0, 0, 0, 0, 0, 0, 0, 0, 0, 0, 0, 0, 0, 0,\n",
       "       0, 0, 0, 0, 0, 0, 0, 0, 0, 0, 0, 0, 0, 0, 0, 0, 0, 0, 0, 0, 0, 0,\n",
       "       0, 0, 0, 0, 0, 0, 0, 0, 0, 0, 0, 0, 0, 0, 0, 0, 0, 0, 0, 0, 0, 0,\n",
       "       0, 0, 0, 0, 0, 0, 0, 0, 0, 0, 0, 0, 0, 0, 0, 0, 0, 0, 0, 0, 1, 0,\n",
       "       0, 0, 0, 0, 0, 0, 0, 0, 0, 0, 0, 0, 0, 0, 0, 0, 0, 0, 0, 0, 0, 0,\n",
       "       0, 0, 0, 0, 0, 0, 0, 0, 0, 0, 0, 0, 0, 0, 0, 0, 0, 0, 0, 0, 0, 0,\n",
       "       0, 0, 0, 0, 0, 0, 0, 0, 0, 0, 0, 0, 0, 0, 0, 0, 0, 0, 0, 0, 0, 0,\n",
       "       0, 0, 0, 0, 0, 0, 0, 0, 0, 0, 0, 0, 0, 0, 0, 0, 0, 0, 0, 0, 0, 0,\n",
       "       0, 0, 0, 0, 0, 0, 0, 0, 0, 0, 1, 0, 0, 0, 0, 0, 0, 0, 0, 0, 0, 1,\n",
       "       0, 0, 0, 0, 0, 0, 0, 0, 0, 1, 1, 1, 1, 1, 1, 1, 1, 1, 1, 1, 1, 1,\n",
       "       1, 1, 1, 1, 1, 1, 1, 1, 1, 1, 1, 1, 1, 1, 1, 1, 1, 1, 1, 1, 1, 1,\n",
       "       1, 0, 1, 1, 0, 1, 1, 1, 1, 0, 1, 1, 1, 1, 1, 0, 1, 1, 1, 1, 1, 0,\n",
       "       1, 1, 1, 1, 1, 1, 1, 0, 1, 1, 1, 1, 1, 1, 1, 0, 1, 0, 0, 1, 0, 1,\n",
       "       1, 0, 1, 1, 1, 1, 0, 0, 1, 1, 1, 1, 1, 1, 1, 1, 1, 1, 0, 1, 1, 1,\n",
       "       1, 0, 1, 0, 1, 1, 0, 1, 1, 1, 1, 1, 1, 1, 1, 1, 1, 0, 1, 0, 1, 1,\n",
       "       1, 1, 1, 1, 1, 1, 1, 1, 1, 1, 0, 1, 0, 1, 1, 0, 0, 0, 1, 1, 1, 0,\n",
       "       1, 1, 1, 0, 1, 1, 1, 1, 1, 1, 1, 1, 1, 1, 1, 1, 1, 1, 1, 1, 0, 1,\n",
       "       0, 1, 1, 0, 1, 0, 1, 1, 1, 1, 1, 1, 1, 1, 1, 1, 1, 1, 0, 1, 1, 1,\n",
       "       0, 1, 1, 1, 1, 0, 1, 1, 1, 1, 1, 1, 1, 1, 1, 1, 1, 1, 0, 1, 1, 0,\n",
       "       1, 1, 1, 1, 1, 0, 1, 1, 1, 1, 1, 1, 0, 1, 1, 1, 1, 1, 1, 1, 0, 1,\n",
       "       1, 1, 1, 1, 1, 0, 1, 1, 1, 1, 1, 1, 1, 1, 1, 0, 1, 1, 1, 1, 0, 1,\n",
       "       1, 1, 1, 1, 1, 1, 1, 1, 1, 1, 1, 1, 0, 1, 1, 1, 1, 1, 1, 1, 1, 1,\n",
       "       1, 1, 1, 1, 1, 1, 1, 1, 0, 0, 1, 1, 1, 1, 1, 1, 1, 1, 1, 1, 1, 1,\n",
       "       1, 1, 1, 1, 1, 1, 1, 1, 1, 1, 1, 1, 1, 1, 1, 1, 1, 1, 1, 1, 1, 1,\n",
       "       1, 1, 1, 1, 0, 1, 1, 1, 0, 1, 0, 1, 0, 1, 0, 1, 1, 1, 0, 1, 1, 0,\n",
       "       0, 1, 1, 1, 1, 1, 1, 1, 1, 1, 1, 1, 1, 1, 1, 1, 1, 1, 0, 1, 1, 1,\n",
       "       0, 1, 1, 0, 1, 1, 1, 1, 1, 1, 1, 0, 1, 1, 1, 1, 1, 1, 1, 1, 1, 1,\n",
       "       1, 1, 1, 1, 1, 1, 1, 1, 1, 1, 1, 1, 1, 1, 1, 1, 1, 1])"
      ]
     },
     "execution_count": 54,
     "metadata": {},
     "output_type": "execute_result"
    }
   ],
   "source": [
    "model.predict(dh_test)"
   ]
  }
 ],
 "metadata": {
  "kernelspec": {
   "display_name": "ra_dev",
   "language": "python",
   "name": "python3"
  },
  "language_info": {
   "codemirror_mode": {
    "name": "ipython",
    "version": 3
   },
   "file_extension": ".py",
   "mimetype": "text/x-python",
   "name": "python",
   "nbconvert_exporter": "python",
   "pygments_lexer": "ipython3",
   "version": "3.11.7"
  }
 },
 "nbformat": 4,
 "nbformat_minor": 5
}
